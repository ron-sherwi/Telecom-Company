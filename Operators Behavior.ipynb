{
 "cells": [
  {
   "cell_type": "markdown",
   "metadata": {},
   "source": [
    "# Telecom Project - Decomposition\n",
    "## Ron Sherwi\n",
    "\n",
    "### Description of the data:\n",
    "The datasets contain data on the use of the virtual telephony service CallMeMaybe. Its clients are organizations that need to distribute large numbers of incoming calls among various operators, or make outgoing calls through their operators. Operators can also make internal calls to communicate with one another. These calls go through CallMeMaybe's network.\n",
    "\n",
    "### Goal:\n",
    "Give supervisors information on the least effective operators.\n",
    "\n",
    "### Specify details:\n",
    "Identify operators that have:\n",
    "- A large number of missed incoming calls (internal and external).\n",
    "- A long waiting time for incoming calls. \n",
    "- A small number of attempts to make a call.\n",
    "\n",
    "### Propose hypotheses:\n",
    "- There may be correlation between share of missed incoming calls and long waiting time for incoming calls.\n",
    "- There may be correlation between share of missed incoming calls and share of outgoing calls.\n",
    "- There may be a significant difference between the average incoming calls waiting time of effective and ineffective operators.\n",
    "- There may be a significant difference between the proportions of missed incoming calls of effective and ineffective operators.\n",
    "- There may be a significant difference between the means of each plan.\n",
    "\n",
    "### Mandatory stages of analysis:\n",
    "\n",
    "- <u> <a href=\"#first_step\"> Data preprocessing: </a> </u>\n",
    "    - Study missing values\n",
    "    - Study duplicate values\n",
    "    - Check the correctness of column names\n",
    "    - Rename the columns\n",
    "    - Remove duplicates\n",
    "    - Convert types\n",
    "    - Replace missing values\n",
    "- <u>  <a href=\"#second_step\"> EDA: </a> </u>\n",
    "    - Check distribution of calls & duration.\n",
    "    - Find outliers - remove or correct.\n",
    "    - Check correlations between the columns.\n",
    "- <u> <a href=\"#third_step\"> Define effective & ineffective operators: </a> </u>\n",
    "    - Give a rank for each operator based on something like RFM analysis: \n",
    "        - Number of missed incoming calls\n",
    "        - Waiting time for incoming calls\n",
    "        - Number of outgoing calls\n",
    "- <u> <a href=\"#fourth_step\"> Test statistical hypotheses: </a> </u>\n",
    "    - Difference between the average incoming calls waiting time of effective and ineffective operators.\n",
    "    - Difference between the proportions of missed incoming calls of effective and ineffective operators. \n",
    "    - Difference between the average number of outgoing calls of effective and ineffective operators. \n",
    "    \n",
    "## Link to Presentation <a href=\"https://drive.google.com/file/d/1S6UsYyt30D7H4Lwqzy_HsxKT_BzJdir_/view?usp=sharing\"> Here </a>\n",
    "## Link to Tableau dashboard  <a href=\"https://public.tableau.com/profile/ron.sherwi#!/vizhome/OperatorsBehavior/Dashboard?publish=yes\"> Here </a>"
   ]
  },
  {
   "cell_type": "markdown",
   "metadata": {},
   "source": [
    "#  <a id=\"first_step\"> Stage 1 - Data Preprocessing </a> "
   ]
  },
  {
   "cell_type": "markdown",
   "metadata": {},
   "source": [
    "### Import libraries & files"
   ]
  },
  {
   "cell_type": "code",
   "execution_count": 2,
   "metadata": {},
   "outputs": [
    {
     "name": "stdout",
     "output_type": "stream",
     "text": [
      "Defaulting to user installation because normal site-packages is not writeable\n",
      "Collecting seaborn\n",
      "  Downloading seaborn-0.11.1-py3-none-any.whl (285 kB)\n",
      "\u001b[K     |████████████████████████████████| 285 kB 1.2 MB/s eta 0:00:01\n",
      "\u001b[?25hRequirement already satisfied, skipping upgrade: matplotlib>=2.2 in /opt/conda/lib/python3.7/site-packages (from seaborn) (3.1.0)\n",
      "Requirement already satisfied, skipping upgrade: numpy>=1.15 in /opt/conda/lib/python3.7/site-packages (from seaborn) (1.19.0)\n",
      "Requirement already satisfied, skipping upgrade: scipy>=1.0 in /opt/conda/lib/python3.7/site-packages (from seaborn) (1.4.1)\n",
      "Requirement already satisfied, skipping upgrade: pandas>=0.23 in /opt/conda/lib/python3.7/site-packages (from seaborn) (0.25.1)\n",
      "Requirement already satisfied, skipping upgrade: python-dateutil>=2.1 in /opt/conda/lib/python3.7/site-packages (from matplotlib>=2.2->seaborn) (2.8.1)\n",
      "Requirement already satisfied, skipping upgrade: pyparsing!=2.0.4,!=2.1.2,!=2.1.6,>=2.0.1 in /opt/conda/lib/python3.7/site-packages (from matplotlib>=2.2->seaborn) (2.4.7)\n",
      "Requirement already satisfied, skipping upgrade: cycler>=0.10 in /opt/conda/lib/python3.7/site-packages (from matplotlib>=2.2->seaborn) (0.10.0)\n",
      "Requirement already satisfied, skipping upgrade: kiwisolver>=1.0.1 in /opt/conda/lib/python3.7/site-packages (from matplotlib>=2.2->seaborn) (1.2.0)\n",
      "Requirement already satisfied, skipping upgrade: pytz>=2017.2 in /opt/conda/lib/python3.7/site-packages (from pandas>=0.23->seaborn) (2020.1)\n",
      "Requirement already satisfied, skipping upgrade: six>=1.5 in /opt/conda/lib/python3.7/site-packages (from python-dateutil>=2.1->matplotlib>=2.2->seaborn) (1.15.0)\n",
      "Installing collected packages: seaborn\n",
      "Successfully installed seaborn-0.11.1\n"
     ]
    }
   ],
   "source": [
    "# Basics & statistics\n",
    "import pandas as pd\n",
    "import numpy as np\n",
    "import scipy.stats as st\n",
    "import statistics \n",
    "import math\n",
    "# Visualization\n",
    "import matplotlib.pyplot as plt\n",
    "!pip install --upgrade seaborn\n",
    "import seaborn as sns\n",
    "\n",
    "#Import files\n",
    "path = r'/datasets/'\n",
    "dataset_file = r'telecom_dataset_us.csv'\n",
    "clients_file = r'telecom_clients_us.csv'\n",
    "dataset = pd.read_csv(path + dataset_file, parse_dates=['date'])\n",
    "clients = pd.read_csv(path + clients_file, parse_dates=['date_start'])"
   ]
  },
  {
   "cell_type": "markdown",
   "metadata": {},
   "source": [
    "### Preprocessing 'dataset' "
   ]
  },
  {
   "cell_type": "code",
   "execution_count": 3,
   "metadata": {},
   "outputs": [
    {
     "data": {
      "text/html": [
       "<div>\n",
       "<style scoped>\n",
       "    .dataframe tbody tr th:only-of-type {\n",
       "        vertical-align: middle;\n",
       "    }\n",
       "\n",
       "    .dataframe tbody tr th {\n",
       "        vertical-align: top;\n",
       "    }\n",
       "\n",
       "    .dataframe thead th {\n",
       "        text-align: right;\n",
       "    }\n",
       "</style>\n",
       "<table border=\"1\" class=\"dataframe\">\n",
       "  <thead>\n",
       "    <tr style=\"text-align: right;\">\n",
       "      <th></th>\n",
       "      <th>user_id</th>\n",
       "      <th>date</th>\n",
       "      <th>direction</th>\n",
       "      <th>internal</th>\n",
       "      <th>operator_id</th>\n",
       "      <th>is_missed_call</th>\n",
       "      <th>calls_count</th>\n",
       "      <th>call_duration</th>\n",
       "      <th>total_call_duration</th>\n",
       "    </tr>\n",
       "  </thead>\n",
       "  <tbody>\n",
       "    <tr>\n",
       "      <td>0</td>\n",
       "      <td>166377</td>\n",
       "      <td>2019-08-04 00:00:00+03:00</td>\n",
       "      <td>in</td>\n",
       "      <td>False</td>\n",
       "      <td>NaN</td>\n",
       "      <td>True</td>\n",
       "      <td>2</td>\n",
       "      <td>0</td>\n",
       "      <td>4</td>\n",
       "    </tr>\n",
       "    <tr>\n",
       "      <td>1</td>\n",
       "      <td>166377</td>\n",
       "      <td>2019-08-05 00:00:00+03:00</td>\n",
       "      <td>out</td>\n",
       "      <td>True</td>\n",
       "      <td>880022.0</td>\n",
       "      <td>True</td>\n",
       "      <td>3</td>\n",
       "      <td>0</td>\n",
       "      <td>5</td>\n",
       "    </tr>\n",
       "    <tr>\n",
       "      <td>2</td>\n",
       "      <td>166377</td>\n",
       "      <td>2019-08-05 00:00:00+03:00</td>\n",
       "      <td>out</td>\n",
       "      <td>True</td>\n",
       "      <td>880020.0</td>\n",
       "      <td>True</td>\n",
       "      <td>1</td>\n",
       "      <td>0</td>\n",
       "      <td>1</td>\n",
       "    </tr>\n",
       "    <tr>\n",
       "      <td>3</td>\n",
       "      <td>166377</td>\n",
       "      <td>2019-08-05 00:00:00+03:00</td>\n",
       "      <td>out</td>\n",
       "      <td>True</td>\n",
       "      <td>880020.0</td>\n",
       "      <td>False</td>\n",
       "      <td>1</td>\n",
       "      <td>10</td>\n",
       "      <td>18</td>\n",
       "    </tr>\n",
       "    <tr>\n",
       "      <td>4</td>\n",
       "      <td>166377</td>\n",
       "      <td>2019-08-05 00:00:00+03:00</td>\n",
       "      <td>out</td>\n",
       "      <td>False</td>\n",
       "      <td>880022.0</td>\n",
       "      <td>True</td>\n",
       "      <td>3</td>\n",
       "      <td>0</td>\n",
       "      <td>25</td>\n",
       "    </tr>\n",
       "  </tbody>\n",
       "</table>\n",
       "</div>"
      ],
      "text/plain": [
       "   user_id                      date direction internal  operator_id  \\\n",
       "0   166377 2019-08-04 00:00:00+03:00        in    False          NaN   \n",
       "1   166377 2019-08-05 00:00:00+03:00       out     True     880022.0   \n",
       "2   166377 2019-08-05 00:00:00+03:00       out     True     880020.0   \n",
       "3   166377 2019-08-05 00:00:00+03:00       out     True     880020.0   \n",
       "4   166377 2019-08-05 00:00:00+03:00       out    False     880022.0   \n",
       "\n",
       "   is_missed_call  calls_count  call_duration  total_call_duration  \n",
       "0            True            2              0                    4  \n",
       "1            True            3              0                    5  \n",
       "2            True            1              0                    1  \n",
       "3           False            1             10                   18  \n",
       "4            True            3              0                   25  "
      ]
     },
     "execution_count": 3,
     "metadata": {},
     "output_type": "execute_result"
    }
   ],
   "source": [
    "dataset.head()"
   ]
  },
  {
   "cell_type": "code",
   "execution_count": 4,
   "metadata": {},
   "outputs": [
    {
     "name": "stdout",
     "output_type": "stream",
     "text": [
      "<class 'pandas.core.frame.DataFrame'>\n",
      "RangeIndex: 53902 entries, 0 to 53901\n",
      "Data columns (total 9 columns):\n",
      "user_id                53902 non-null int64\n",
      "date                   53902 non-null datetime64[ns, pytz.FixedOffset(180)]\n",
      "direction              53902 non-null object\n",
      "internal               53785 non-null object\n",
      "operator_id            45730 non-null float64\n",
      "is_missed_call         53902 non-null bool\n",
      "calls_count            53902 non-null int64\n",
      "call_duration          53902 non-null int64\n",
      "total_call_duration    53902 non-null int64\n",
      "dtypes: bool(1), datetime64[ns, pytz.FixedOffset(180)](1), float64(1), int64(4), object(2)\n",
      "memory usage: 3.3+ MB\n"
     ]
    }
   ],
   "source": [
    "dataset.info()"
   ]
  },
  {
   "cell_type": "markdown",
   "metadata": {},
   "source": [
    "### Missing values"
   ]
  },
  {
   "cell_type": "code",
   "execution_count": 5,
   "metadata": {},
   "outputs": [],
   "source": [
    "def missings(df):\n",
    "    # Gets dataset.\n",
    "    # Returns df that contains number of missing values & uniuqe values for each column.\n",
    "    data = []\n",
    "    for col in df.columns:\n",
    "        missings = len(df[df[col].isnull()])\n",
    "        values = len(df) - missings\n",
    "        perc_missings = round(missings / len(df) * 100, 2)\n",
    "        uniq = df[col].nunique()\n",
    "        data.append([col, values, missings, perc_missings, uniq])\n",
    "    df_missings = pd.DataFrame(data, columns = ['column', 'values', 'missings', 'perc_missisngs', 'uniq'])\n",
    "    return df_missings"
   ]
  },
  {
   "cell_type": "code",
   "execution_count": 6,
   "metadata": {},
   "outputs": [
    {
     "data": {
      "text/html": [
       "<div>\n",
       "<style scoped>\n",
       "    .dataframe tbody tr th:only-of-type {\n",
       "        vertical-align: middle;\n",
       "    }\n",
       "\n",
       "    .dataframe tbody tr th {\n",
       "        vertical-align: top;\n",
       "    }\n",
       "\n",
       "    .dataframe thead th {\n",
       "        text-align: right;\n",
       "    }\n",
       "</style>\n",
       "<table border=\"1\" class=\"dataframe\">\n",
       "  <thead>\n",
       "    <tr style=\"text-align: right;\">\n",
       "      <th></th>\n",
       "      <th>column</th>\n",
       "      <th>values</th>\n",
       "      <th>missings</th>\n",
       "      <th>perc_missisngs</th>\n",
       "      <th>uniq</th>\n",
       "    </tr>\n",
       "  </thead>\n",
       "  <tbody>\n",
       "    <tr>\n",
       "      <td>0</td>\n",
       "      <td>user_id</td>\n",
       "      <td>53902</td>\n",
       "      <td>0</td>\n",
       "      <td>0.00</td>\n",
       "      <td>307</td>\n",
       "    </tr>\n",
       "    <tr>\n",
       "      <td>1</td>\n",
       "      <td>date</td>\n",
       "      <td>53902</td>\n",
       "      <td>0</td>\n",
       "      <td>0.00</td>\n",
       "      <td>119</td>\n",
       "    </tr>\n",
       "    <tr>\n",
       "      <td>2</td>\n",
       "      <td>direction</td>\n",
       "      <td>53902</td>\n",
       "      <td>0</td>\n",
       "      <td>0.00</td>\n",
       "      <td>2</td>\n",
       "    </tr>\n",
       "    <tr>\n",
       "      <td>3</td>\n",
       "      <td>internal</td>\n",
       "      <td>53785</td>\n",
       "      <td>117</td>\n",
       "      <td>0.22</td>\n",
       "      <td>2</td>\n",
       "    </tr>\n",
       "    <tr>\n",
       "      <td>4</td>\n",
       "      <td>operator_id</td>\n",
       "      <td>45730</td>\n",
       "      <td>8172</td>\n",
       "      <td>15.16</td>\n",
       "      <td>1092</td>\n",
       "    </tr>\n",
       "    <tr>\n",
       "      <td>5</td>\n",
       "      <td>is_missed_call</td>\n",
       "      <td>53902</td>\n",
       "      <td>0</td>\n",
       "      <td>0.00</td>\n",
       "      <td>2</td>\n",
       "    </tr>\n",
       "    <tr>\n",
       "      <td>6</td>\n",
       "      <td>calls_count</td>\n",
       "      <td>53902</td>\n",
       "      <td>0</td>\n",
       "      <td>0.00</td>\n",
       "      <td>502</td>\n",
       "    </tr>\n",
       "    <tr>\n",
       "      <td>7</td>\n",
       "      <td>call_duration</td>\n",
       "      <td>53902</td>\n",
       "      <td>0</td>\n",
       "      <td>0.00</td>\n",
       "      <td>5373</td>\n",
       "    </tr>\n",
       "    <tr>\n",
       "      <td>8</td>\n",
       "      <td>total_call_duration</td>\n",
       "      <td>53902</td>\n",
       "      <td>0</td>\n",
       "      <td>0.00</td>\n",
       "      <td>6040</td>\n",
       "    </tr>\n",
       "  </tbody>\n",
       "</table>\n",
       "</div>"
      ],
      "text/plain": [
       "                column  values  missings  perc_missisngs  uniq\n",
       "0              user_id   53902         0            0.00   307\n",
       "1                 date   53902         0            0.00   119\n",
       "2            direction   53902         0            0.00     2\n",
       "3             internal   53785       117            0.22     2\n",
       "4          operator_id   45730      8172           15.16  1092\n",
       "5       is_missed_call   53902         0            0.00     2\n",
       "6          calls_count   53902         0            0.00   502\n",
       "7        call_duration   53902         0            0.00  5373\n",
       "8  total_call_duration   53902         0            0.00  6040"
      ]
     },
     "execution_count": 6,
     "metadata": {},
     "output_type": "execute_result"
    }
   ],
   "source": [
    "missings_df = missings(dataset)\n",
    "missings_df"
   ]
  },
  {
   "cell_type": "code",
   "execution_count": 7,
   "metadata": {},
   "outputs": [
    {
     "data": {
      "text/html": [
       "<div>\n",
       "<style scoped>\n",
       "    .dataframe tbody tr th:only-of-type {\n",
       "        vertical-align: middle;\n",
       "    }\n",
       "\n",
       "    .dataframe tbody tr th {\n",
       "        vertical-align: top;\n",
       "    }\n",
       "\n",
       "    .dataframe thead th {\n",
       "        text-align: right;\n",
       "    }\n",
       "</style>\n",
       "<table border=\"1\" class=\"dataframe\">\n",
       "  <thead>\n",
       "    <tr style=\"text-align: right;\">\n",
       "      <th></th>\n",
       "      <th>user_id</th>\n",
       "      <th>operators</th>\n",
       "      <th>trials</th>\n",
       "    </tr>\n",
       "  </thead>\n",
       "  <tbody>\n",
       "    <tr>\n",
       "      <td>264</td>\n",
       "      <td>168187</td>\n",
       "      <td>50</td>\n",
       "      <td>2580</td>\n",
       "    </tr>\n",
       "    <tr>\n",
       "      <td>175</td>\n",
       "      <td>167626</td>\n",
       "      <td>48</td>\n",
       "      <td>1311</td>\n",
       "    </tr>\n",
       "    <tr>\n",
       "      <td>161</td>\n",
       "      <td>167497</td>\n",
       "      <td>30</td>\n",
       "      <td>1405</td>\n",
       "    </tr>\n",
       "    <tr>\n",
       "      <td>271</td>\n",
       "      <td>168252</td>\n",
       "      <td>28</td>\n",
       "      <td>929</td>\n",
       "    </tr>\n",
       "    <tr>\n",
       "      <td>248</td>\n",
       "      <td>168062</td>\n",
       "      <td>27</td>\n",
       "      <td>1182</td>\n",
       "    </tr>\n",
       "  </tbody>\n",
       "</table>\n",
       "</div>"
      ],
      "text/plain": [
       "     user_id  operators  trials\n",
       "264   168187         50    2580\n",
       "175   167626         48    1311\n",
       "161   167497         30    1405\n",
       "271   168252         28     929\n",
       "248   168062         27    1182"
      ]
     },
     "execution_count": 7,
     "metadata": {},
     "output_type": "execute_result"
    }
   ],
   "source": [
    "# Checking number of operators per user\n",
    "dataset.groupby('user_id').agg({\n",
    "    'operator_id': 'nunique', 'calls_count':'count'}).reset_index().rename(\n",
    "    columns={'operator_id':'operators', 'calls_count':'trials'}).sort_values(by='operators', ascending=False).head()"
   ]
  },
  {
   "cell_type": "code",
   "execution_count": 8,
   "metadata": {},
   "outputs": [
    {
     "data": {
      "text/html": [
       "<div>\n",
       "<style scoped>\n",
       "    .dataframe tbody tr th:only-of-type {\n",
       "        vertical-align: middle;\n",
       "    }\n",
       "\n",
       "    .dataframe tbody tr th {\n",
       "        vertical-align: top;\n",
       "    }\n",
       "\n",
       "    .dataframe thead th {\n",
       "        text-align: right;\n",
       "    }\n",
       "</style>\n",
       "<table border=\"1\" class=\"dataframe\">\n",
       "  <thead>\n",
       "    <tr style=\"text-align: right;\">\n",
       "      <th></th>\n",
       "      <th>user_id</th>\n",
       "      <th>external</th>\n",
       "      <th>internal</th>\n",
       "      <th>calls_count</th>\n",
       "    </tr>\n",
       "  </thead>\n",
       "  <tbody>\n",
       "    <tr>\n",
       "      <td>0</td>\n",
       "      <td>166377</td>\n",
       "      <td>535.0</td>\n",
       "      <td>36.0</td>\n",
       "      <td>571</td>\n",
       "    </tr>\n",
       "    <tr>\n",
       "      <td>1</td>\n",
       "      <td>166391</td>\n",
       "      <td>14.0</td>\n",
       "      <td>6.0</td>\n",
       "      <td>20</td>\n",
       "    </tr>\n",
       "    <tr>\n",
       "      <td>2</td>\n",
       "      <td>166392</td>\n",
       "      <td>106.0</td>\n",
       "      <td>1.0</td>\n",
       "      <td>107</td>\n",
       "    </tr>\n",
       "    <tr>\n",
       "      <td>3</td>\n",
       "      <td>166399</td>\n",
       "      <td>23.0</td>\n",
       "      <td>0.0</td>\n",
       "      <td>23</td>\n",
       "    </tr>\n",
       "    <tr>\n",
       "      <td>4</td>\n",
       "      <td>166405</td>\n",
       "      <td>1017.0</td>\n",
       "      <td>23.0</td>\n",
       "      <td>1042</td>\n",
       "    </tr>\n",
       "  </tbody>\n",
       "</table>\n",
       "</div>"
      ],
      "text/plain": [
       "   user_id  external  internal  calls_count\n",
       "0   166377     535.0      36.0          571\n",
       "1   166391      14.0       6.0           20\n",
       "2   166392     106.0       1.0          107\n",
       "3   166399      23.0       0.0           23\n",
       "4   166405    1017.0      23.0         1042"
      ]
     },
     "execution_count": 8,
     "metadata": {},
     "output_type": "execute_result"
    }
   ],
   "source": [
    "# Checking proportion between internal / external calls per user\n",
    "\n",
    "# Number of attemps to call per user\n",
    "user_calls = dataset.groupby('user_id').agg({'calls_count': 'count'}).reset_index()\n",
    "\n",
    "# Number of attemps to call per internal/external attemp\n",
    "calls_type = dataset.pivot_table(\n",
    "    index='user_id', columns='internal', values='calls_count', aggfunc='count').reset_index().fillna(0)\n",
    "calls_type.columns = ['user_id', 'external', 'internal']\n",
    "calls_type = calls_type.merge(user_calls, on='user_id', how='left') \n",
    "calls_type.head()"
   ]
  },
  {
   "cell_type": "markdown",
   "metadata": {},
   "source": [
    "### Conclusions\n",
    "1. <b> internal </b>\n",
    "    - 0.2% are ampty. \n",
    "    - I checked the proportion between external and internal calls, and found that there are users with more than 100 external calls vs only 1 internal call. So it feels risky to change the values manually. \n",
    "    - <u> I decided to drop them out. </u>\n",
    "    \n",
    "2. <b> operator_id </b>. \n",
    "    - 15.15 % of total rows are empty \n",
    "    - I checked if every user has only one operator (and then we can fill the empties) but it's not the case.\n",
    "    - <u> I decided to mark this operators as another operator, and continue analyzing. If i'll see that it's makes me struggle with investigation i'll drop them out. </u> \n"
   ]
  },
  {
   "cell_type": "code",
   "execution_count": 9,
   "metadata": {},
   "outputs": [],
   "source": [
    "# Mark empty operators\n",
    "dataset.loc[dataset['operator_id'].isnull(), 'operator_id'] = 1"
   ]
  },
  {
   "cell_type": "code",
   "execution_count": 10,
   "metadata": {},
   "outputs": [],
   "source": [
    "# Drop missing internal values\n",
    "dataset = dataset.dropna()"
   ]
  },
  {
   "cell_type": "markdown",
   "metadata": {},
   "source": [
    "### Convert types"
   ]
  },
  {
   "cell_type": "code",
   "execution_count": 11,
   "metadata": {},
   "outputs": [],
   "source": [
    "# Convert 'internal' to boolean, 'date' to dt.date\n",
    "dataset['internal'] = dataset['internal'].astype('bool')\n",
    "dataset['date'] = pd.to_datetime(dataset['date'].dt.date)"
   ]
  },
  {
   "cell_type": "markdown",
   "metadata": {},
   "source": [
    "### Duplicates\n",
    "I don't see any reason to save this rows, the data is completely messy so it's better to drop this rows."
   ]
  },
  {
   "cell_type": "code",
   "execution_count": 12,
   "metadata": {},
   "outputs": [
    {
     "name": "stdout",
     "output_type": "stream",
     "text": [
      "Number of duplicated rows: 4893\n",
      "% of duplicated rows: 9.10%\n"
     ]
    }
   ],
   "source": [
    "dup = dataset.duplicated().sum()\n",
    "print('Number of duplicated rows: {}'.format(dup))\n",
    "print('% of duplicated rows: {:.2%}'.format(dup / len(dataset)))"
   ]
  },
  {
   "cell_type": "code",
   "execution_count": 13,
   "metadata": {},
   "outputs": [],
   "source": [
    "# Drop missing values\n",
    "dataset = dataset.drop_duplicates()"
   ]
  },
  {
   "cell_type": "code",
   "execution_count": 14,
   "metadata": {},
   "outputs": [],
   "source": [
    "# Adding waiting time\n",
    "dataset['wait_duration'] = dataset['total_call_duration'] - dataset['call_duration']"
   ]
  },
  {
   "cell_type": "markdown",
   "metadata": {},
   "source": [
    "### Preprocessing 'clients'"
   ]
  },
  {
   "cell_type": "code",
   "execution_count": 15,
   "metadata": {},
   "outputs": [
    {
     "data": {
      "text/html": [
       "<div>\n",
       "<style scoped>\n",
       "    .dataframe tbody tr th:only-of-type {\n",
       "        vertical-align: middle;\n",
       "    }\n",
       "\n",
       "    .dataframe tbody tr th {\n",
       "        vertical-align: top;\n",
       "    }\n",
       "\n",
       "    .dataframe thead th {\n",
       "        text-align: right;\n",
       "    }\n",
       "</style>\n",
       "<table border=\"1\" class=\"dataframe\">\n",
       "  <thead>\n",
       "    <tr style=\"text-align: right;\">\n",
       "      <th></th>\n",
       "      <th>user_id</th>\n",
       "      <th>tariff_plan</th>\n",
       "      <th>date_start</th>\n",
       "    </tr>\n",
       "  </thead>\n",
       "  <tbody>\n",
       "    <tr>\n",
       "      <td>0</td>\n",
       "      <td>166713</td>\n",
       "      <td>A</td>\n",
       "      <td>2019-08-15</td>\n",
       "    </tr>\n",
       "    <tr>\n",
       "      <td>1</td>\n",
       "      <td>166901</td>\n",
       "      <td>A</td>\n",
       "      <td>2019-08-23</td>\n",
       "    </tr>\n",
       "    <tr>\n",
       "      <td>2</td>\n",
       "      <td>168527</td>\n",
       "      <td>A</td>\n",
       "      <td>2019-10-29</td>\n",
       "    </tr>\n",
       "    <tr>\n",
       "      <td>3</td>\n",
       "      <td>167097</td>\n",
       "      <td>A</td>\n",
       "      <td>2019-09-01</td>\n",
       "    </tr>\n",
       "    <tr>\n",
       "      <td>4</td>\n",
       "      <td>168193</td>\n",
       "      <td>A</td>\n",
       "      <td>2019-10-16</td>\n",
       "    </tr>\n",
       "  </tbody>\n",
       "</table>\n",
       "</div>"
      ],
      "text/plain": [
       "   user_id tariff_plan date_start\n",
       "0   166713           A 2019-08-15\n",
       "1   166901           A 2019-08-23\n",
       "2   168527           A 2019-10-29\n",
       "3   167097           A 2019-09-01\n",
       "4   168193           A 2019-10-16"
      ]
     },
     "execution_count": 15,
     "metadata": {},
     "output_type": "execute_result"
    }
   ],
   "source": [
    "clients.head()"
   ]
  },
  {
   "cell_type": "code",
   "execution_count": 16,
   "metadata": {},
   "outputs": [
    {
     "name": "stdout",
     "output_type": "stream",
     "text": [
      "<class 'pandas.core.frame.DataFrame'>\n",
      "RangeIndex: 732 entries, 0 to 731\n",
      "Data columns (total 3 columns):\n",
      "user_id        732 non-null int64\n",
      "tariff_plan    732 non-null object\n",
      "date_start     732 non-null datetime64[ns]\n",
      "dtypes: datetime64[ns](1), int64(1), object(1)\n",
      "memory usage: 17.3+ KB\n"
     ]
    }
   ],
   "source": [
    "clients.info()"
   ]
  },
  {
   "cell_type": "markdown",
   "metadata": {},
   "source": [
    "### Missing values\n",
    "There is no missings"
   ]
  },
  {
   "cell_type": "code",
   "execution_count": 17,
   "metadata": {},
   "outputs": [
    {
     "data": {
      "text/html": [
       "<div>\n",
       "<style scoped>\n",
       "    .dataframe tbody tr th:only-of-type {\n",
       "        vertical-align: middle;\n",
       "    }\n",
       "\n",
       "    .dataframe tbody tr th {\n",
       "        vertical-align: top;\n",
       "    }\n",
       "\n",
       "    .dataframe thead th {\n",
       "        text-align: right;\n",
       "    }\n",
       "</style>\n",
       "<table border=\"1\" class=\"dataframe\">\n",
       "  <thead>\n",
       "    <tr style=\"text-align: right;\">\n",
       "      <th></th>\n",
       "      <th>column</th>\n",
       "      <th>values</th>\n",
       "      <th>missings</th>\n",
       "      <th>perc_missisngs</th>\n",
       "      <th>uniq</th>\n",
       "    </tr>\n",
       "  </thead>\n",
       "  <tbody>\n",
       "    <tr>\n",
       "      <td>0</td>\n",
       "      <td>user_id</td>\n",
       "      <td>732</td>\n",
       "      <td>0</td>\n",
       "      <td>0.0</td>\n",
       "      <td>732</td>\n",
       "    </tr>\n",
       "    <tr>\n",
       "      <td>1</td>\n",
       "      <td>tariff_plan</td>\n",
       "      <td>732</td>\n",
       "      <td>0</td>\n",
       "      <td>0.0</td>\n",
       "      <td>3</td>\n",
       "    </tr>\n",
       "    <tr>\n",
       "      <td>2</td>\n",
       "      <td>date_start</td>\n",
       "      <td>732</td>\n",
       "      <td>0</td>\n",
       "      <td>0.0</td>\n",
       "      <td>73</td>\n",
       "    </tr>\n",
       "  </tbody>\n",
       "</table>\n",
       "</div>"
      ],
      "text/plain": [
       "        column  values  missings  perc_missisngs  uniq\n",
       "0      user_id     732         0             0.0   732\n",
       "1  tariff_plan     732         0             0.0     3\n",
       "2   date_start     732         0             0.0    73"
      ]
     },
     "execution_count": 17,
     "metadata": {},
     "output_type": "execute_result"
    }
   ],
   "source": [
    "missings_df = missings(clients)\n",
    "missings_df"
   ]
  },
  {
   "cell_type": "markdown",
   "metadata": {},
   "source": [
    "### Convert types"
   ]
  },
  {
   "cell_type": "code",
   "execution_count": 18,
   "metadata": {},
   "outputs": [],
   "source": [
    "# Convert 'tariff_plan' to 'category'\n",
    "clients['tariff_plan'] = clients['tariff_plan'].astype('category')"
   ]
  },
  {
   "cell_type": "markdown",
   "metadata": {},
   "source": [
    "### Duplicates\n",
    "There is no duplicates"
   ]
  },
  {
   "cell_type": "code",
   "execution_count": 19,
   "metadata": {},
   "outputs": [
    {
     "data": {
      "text/plain": [
       "0"
      ]
     },
     "execution_count": 19,
     "metadata": {},
     "output_type": "execute_result"
    }
   ],
   "source": [
    "clients.duplicated().sum()"
   ]
  },
  {
   "cell_type": "markdown",
   "metadata": {},
   "source": [
    "### Merge dataframes to one data"
   ]
  },
  {
   "cell_type": "code",
   "execution_count": 20,
   "metadata": {},
   "outputs": [],
   "source": [
    "data = dataset.merge(clients, on='user_id', how='left')"
   ]
  },
  {
   "cell_type": "markdown",
   "metadata": {},
   "source": [
    "#  <a id=\"second_step\"> Second stage - EDA </a> "
   ]
  },
  {
   "cell_type": "code",
   "execution_count": 21,
   "metadata": {},
   "outputs": [
    {
     "data": {
      "text/html": [
       "<div>\n",
       "<style scoped>\n",
       "    .dataframe tbody tr th:only-of-type {\n",
       "        vertical-align: middle;\n",
       "    }\n",
       "\n",
       "    .dataframe tbody tr th {\n",
       "        vertical-align: top;\n",
       "    }\n",
       "\n",
       "    .dataframe thead th {\n",
       "        text-align: right;\n",
       "    }\n",
       "</style>\n",
       "<table border=\"1\" class=\"dataframe\">\n",
       "  <thead>\n",
       "    <tr style=\"text-align: right;\">\n",
       "      <th></th>\n",
       "      <th>user_id</th>\n",
       "      <th>date</th>\n",
       "      <th>direction</th>\n",
       "      <th>internal</th>\n",
       "      <th>operator_id</th>\n",
       "      <th>is_missed_call</th>\n",
       "      <th>calls_count</th>\n",
       "      <th>call_duration</th>\n",
       "      <th>total_call_duration</th>\n",
       "      <th>wait_duration</th>\n",
       "      <th>tariff_plan</th>\n",
       "      <th>date_start</th>\n",
       "    </tr>\n",
       "  </thead>\n",
       "  <tbody>\n",
       "    <tr>\n",
       "      <td>0</td>\n",
       "      <td>166377</td>\n",
       "      <td>2019-08-04</td>\n",
       "      <td>in</td>\n",
       "      <td>False</td>\n",
       "      <td>1.0</td>\n",
       "      <td>True</td>\n",
       "      <td>2</td>\n",
       "      <td>0</td>\n",
       "      <td>4</td>\n",
       "      <td>4</td>\n",
       "      <td>B</td>\n",
       "      <td>2019-08-01</td>\n",
       "    </tr>\n",
       "    <tr>\n",
       "      <td>1</td>\n",
       "      <td>166377</td>\n",
       "      <td>2019-08-05</td>\n",
       "      <td>out</td>\n",
       "      <td>True</td>\n",
       "      <td>880022.0</td>\n",
       "      <td>True</td>\n",
       "      <td>3</td>\n",
       "      <td>0</td>\n",
       "      <td>5</td>\n",
       "      <td>5</td>\n",
       "      <td>B</td>\n",
       "      <td>2019-08-01</td>\n",
       "    </tr>\n",
       "    <tr>\n",
       "      <td>2</td>\n",
       "      <td>166377</td>\n",
       "      <td>2019-08-05</td>\n",
       "      <td>out</td>\n",
       "      <td>True</td>\n",
       "      <td>880020.0</td>\n",
       "      <td>True</td>\n",
       "      <td>1</td>\n",
       "      <td>0</td>\n",
       "      <td>1</td>\n",
       "      <td>1</td>\n",
       "      <td>B</td>\n",
       "      <td>2019-08-01</td>\n",
       "    </tr>\n",
       "    <tr>\n",
       "      <td>3</td>\n",
       "      <td>166377</td>\n",
       "      <td>2019-08-05</td>\n",
       "      <td>out</td>\n",
       "      <td>True</td>\n",
       "      <td>880020.0</td>\n",
       "      <td>False</td>\n",
       "      <td>1</td>\n",
       "      <td>10</td>\n",
       "      <td>18</td>\n",
       "      <td>8</td>\n",
       "      <td>B</td>\n",
       "      <td>2019-08-01</td>\n",
       "    </tr>\n",
       "    <tr>\n",
       "      <td>4</td>\n",
       "      <td>166377</td>\n",
       "      <td>2019-08-05</td>\n",
       "      <td>out</td>\n",
       "      <td>False</td>\n",
       "      <td>880022.0</td>\n",
       "      <td>True</td>\n",
       "      <td>3</td>\n",
       "      <td>0</td>\n",
       "      <td>25</td>\n",
       "      <td>25</td>\n",
       "      <td>B</td>\n",
       "      <td>2019-08-01</td>\n",
       "    </tr>\n",
       "  </tbody>\n",
       "</table>\n",
       "</div>"
      ],
      "text/plain": [
       "   user_id       date direction  internal  operator_id  is_missed_call  \\\n",
       "0   166377 2019-08-04        in     False          1.0            True   \n",
       "1   166377 2019-08-05       out      True     880022.0            True   \n",
       "2   166377 2019-08-05       out      True     880020.0            True   \n",
       "3   166377 2019-08-05       out      True     880020.0           False   \n",
       "4   166377 2019-08-05       out     False     880022.0            True   \n",
       "\n",
       "   calls_count  call_duration  total_call_duration  wait_duration tariff_plan  \\\n",
       "0            2              0                    4              4           B   \n",
       "1            3              0                    5              5           B   \n",
       "2            1              0                    1              1           B   \n",
       "3            1             10                   18              8           B   \n",
       "4            3              0                   25             25           B   \n",
       "\n",
       "  date_start  \n",
       "0 2019-08-01  \n",
       "1 2019-08-01  \n",
       "2 2019-08-01  \n",
       "3 2019-08-01  \n",
       "4 2019-08-01  "
      ]
     },
     "execution_count": 21,
     "metadata": {},
     "output_type": "execute_result"
    }
   ],
   "source": [
    "data.head()"
   ]
  },
  {
   "cell_type": "markdown",
   "metadata": {},
   "source": [
    "### Chcecking distribution"
   ]
  },
  {
   "cell_type": "markdown",
   "metadata": {},
   "source": [
    "### Dates\n",
    "- Checking that registration date is before or equal to call date.\n",
    "- Checking distribution of use & registration."
   ]
  },
  {
   "cell_type": "code",
   "execution_count": 22,
   "metadata": {},
   "outputs": [
    {
     "name": "stdout",
     "output_type": "stream",
     "text": [
      "Number of rows with invalid registration date: 0\n"
     ]
    }
   ],
   "source": [
    "# Check that 'date_start' is before 'date'\n",
    "print('Number of rows with invalid registration date: {}'.format(len(data.query('date < date_start'))))"
   ]
  },
  {
   "cell_type": "code",
   "execution_count": 23,
   "metadata": {},
   "outputs": [
    {
     "data": {
      "text/html": [
       "<div>\n",
       "<style scoped>\n",
       "    .dataframe tbody tr th:only-of-type {\n",
       "        vertical-align: middle;\n",
       "    }\n",
       "\n",
       "    .dataframe tbody tr th {\n",
       "        vertical-align: top;\n",
       "    }\n",
       "\n",
       "    .dataframe thead th {\n",
       "        text-align: right;\n",
       "    }\n",
       "</style>\n",
       "<table border=\"1\" class=\"dataframe\">\n",
       "  <thead>\n",
       "    <tr style=\"text-align: right;\">\n",
       "      <th></th>\n",
       "      <th>date</th>\n",
       "      <th>date_start</th>\n",
       "    </tr>\n",
       "  </thead>\n",
       "  <tbody>\n",
       "    <tr>\n",
       "      <td>count</td>\n",
       "      <td>48892</td>\n",
       "      <td>48892</td>\n",
       "    </tr>\n",
       "    <tr>\n",
       "      <td>unique</td>\n",
       "      <td>119</td>\n",
       "      <td>66</td>\n",
       "    </tr>\n",
       "    <tr>\n",
       "      <td>top</td>\n",
       "      <td>2019-11-25 00:00:00</td>\n",
       "      <td>2019-09-24 00:00:00</td>\n",
       "    </tr>\n",
       "    <tr>\n",
       "      <td>freq</td>\n",
       "      <td>1107</td>\n",
       "      <td>2511</td>\n",
       "    </tr>\n",
       "    <tr>\n",
       "      <td>first</td>\n",
       "      <td>2019-08-02 00:00:00</td>\n",
       "      <td>2019-08-01 00:00:00</td>\n",
       "    </tr>\n",
       "    <tr>\n",
       "      <td>last</td>\n",
       "      <td>2019-11-28 00:00:00</td>\n",
       "      <td>2019-10-31 00:00:00</td>\n",
       "    </tr>\n",
       "  </tbody>\n",
       "</table>\n",
       "</div>"
      ],
      "text/plain": [
       "                       date           date_start\n",
       "count                 48892                48892\n",
       "unique                  119                   66\n",
       "top     2019-11-25 00:00:00  2019-09-24 00:00:00\n",
       "freq                   1107                 2511\n",
       "first   2019-08-02 00:00:00  2019-08-01 00:00:00\n",
       "last    2019-11-28 00:00:00  2019-10-31 00:00:00"
      ]
     },
     "execution_count": 23,
     "metadata": {},
     "output_type": "execute_result"
    }
   ],
   "source": [
    "data[['date', 'date_start']].describe()"
   ]
  },
  {
   "cell_type": "markdown",
   "metadata": {},
   "source": [
    "- Users were signed up between August 2019 - October 2019.\n",
    "- Data was collected during August 2019 - November 2019."
   ]
  },
  {
   "cell_type": "code",
   "execution_count": 24,
   "metadata": {},
   "outputs": [
    {
     "name": "stderr",
     "output_type": "stream",
     "text": [
      "/opt/conda/lib/python3.7/site-packages/pandas/plotting/_matplotlib/converter.py:103: FutureWarning: Using an implicitly registered datetime converter for a matplotlib plotting method. The converter was registered by pandas on import. Future versions of pandas will require you to explicitly register matplotlib converters.\n",
      "\n",
      "To register the converters:\n",
      "\t>>> from pandas.plotting import register_matplotlib_converters\n",
      "\t>>> register_matplotlib_converters()\n",
      "  warnings.warn(msg, FutureWarning)\n"
     ]
    },
    {
     "data": {
      "image/png": "[encoded data removed]",
      "text/plain": [
       "<Figure size 1080x432 with 1 Axes>"
      ]
     },
     "metadata": {
      "needs_background": "light"
     },
     "output_type": "display_data"
    },
    {
     "data": {
      "image/png": "[encoded data removed]",
      "text/plain": [
       "<Figure size 1080x432 with 1 Axes>"
      ]
     },
     "metadata": {
      "needs_background": "light"
     },
     "output_type": "display_data"
    }
   ],
   "source": [
    "# Plot attemps to call during time\n",
    "attemps_time = data.groupby('date').agg({\n",
    "    'calls_count': 'count'}).reset_index().rename(\n",
    "    columns={'calls_count': 'attemps_to_call'})\n",
    "\n",
    "fig, ax = plt.subplots(figsize=(15, 6))\n",
    "plt.plot(attemps_time.date, attemps_time.attemps_to_call)\n",
    "plt.title('Attemps To Call During Time', fontsize=15)\n",
    "plt.ylabel('Attemps To Call', fontsize=12)\n",
    "plt.show()\n",
    "\n",
    "# Plot registrations during time\n",
    "reg_time = clients.groupby('date_start').agg({'user_id': 'count'}).reset_index().rename(columns={'user_id': 'reg'})\n",
    "\n",
    "fig, ax = plt.subplots(figsize=(15, 6))\n",
    "plt.plot(reg_time.date_start, reg_time.reg)\n",
    "plt.title('Number of Registrations During Time', fontsize=15)\n",
    "plt.ylabel('Number of Registrations', fontsize=12)\n",
    "plt.show()"
   ]
  },
  {
   "cell_type": "markdown",
   "metadata": {},
   "source": [
    "- <b> There are more attempts to make a call as time goes on. </b>"
   ]
  },
  {
   "cell_type": "markdown",
   "metadata": {},
   "source": [
    "### direction, internal, missed calls & tariff plan\n",
    "- Check distribution of call attemps"
   ]
  },
  {
   "cell_type": "code",
   "execution_count": 25,
   "metadata": {},
   "outputs": [],
   "source": [
    "def category_distribution(df):\n",
    "    # Gets df with categorical values\n",
    "    # Prints distribution of categories\n",
    "    df['amount'] = 1\n",
    "    for col in df.drop('amount', axis=1).columns:\n",
    "        grouped = df.groupby(col).agg({'amount': 'count'}).reset_index()\n",
    "        sns.barplot(x=col, y='amount', data=grouped)\n",
    "        plt.title('{} distribution'.format(col), fontsize='15')\n",
    "        plt.show()"
   ]
  },
  {
   "cell_type": "code",
   "execution_count": 26,
   "metadata": {},
   "outputs": [
    {
     "name": "stderr",
     "output_type": "stream",
     "text": [
      "/opt/conda/lib/python3.7/site-packages/ipykernel_launcher.py:4: SettingWithCopyWarning: \n",
      "A value is trying to be set on a copy of a slice from a DataFrame.\n",
      "Try using .loc[row_indexer,col_indexer] = value instead\n",
      "\n",
      "See the caveats in the documentation: http://pandas.pydata.org/pandas-docs/stable/user_guide/indexing.html#returning-a-view-versus-a-copy\n",
      "  after removing the cwd from sys.path.\n"
     ]
    },
    {
     "data": {
      "image/png": "[encoded data removed]",
      "text/plain": [
       "<Figure size 432x288 with 1 Axes>"
      ]
     },
     "metadata": {
      "needs_background": "light"
     },
     "output_type": "display_data"
    },
    {
     "data": {
      "image/png": "[encoded data removed]",
      "text/plain": [
       "<Figure size 432x288 with 1 Axes>"
      ]
     },
     "metadata": {
      "needs_background": "light"
     },
     "output_type": "display_data"
    },
    {
     "data": {
      "image/png": "[encoded data removed]",
      "text/plain": [
       "<Figure size 432x288 with 1 Axes>"
      ]
     },
     "metadata": {
      "needs_background": "light"
     },
     "output_type": "display_data"
    },
    {
     "data": {
      "image/png": "[encoded data removed]",
      "text/plain": [
       "<Figure size 432x288 with 1 Axes>"
      ]
     },
     "metadata": {
      "needs_background": "light"
     },
     "output_type": "display_data"
    }
   ],
   "source": [
    "category_distribution(data[['direction', 'internal', 'is_missed_call', 'tariff_plan']])"
   ]
  },
  {
   "cell_type": "markdown",
   "metadata": {},
   "source": [
    "- <b> Most of call attemps were executed by operators to customers (external). </b>"
   ]
  },
  {
   "cell_type": "markdown",
   "metadata": {},
   "source": [
    "### Number of calls, call duration & total call duration\n",
    "- Checking distribution of calls_count, call_duration & total_call_duration, dividng to 2 groups - missed and answered calls.\n",
    "- When call is missed - call duration suppose to be 0.\n",
    "- When call is answered - call duration suppose to be bigger than 0.\n",
    "- Dropping outliers out!"
   ]
  },
  {
   "cell_type": "markdown",
   "metadata": {},
   "source": [
    "### Calls_count"
   ]
  },
  {
   "cell_type": "code",
   "execution_count": 27,
   "metadata": {},
   "outputs": [
    {
     "data": {
      "text/html": [
       "<div>\n",
       "<style scoped>\n",
       "    .dataframe tbody tr th:only-of-type {\n",
       "        vertical-align: middle;\n",
       "    }\n",
       "\n",
       "    .dataframe tbody tr th {\n",
       "        vertical-align: top;\n",
       "    }\n",
       "\n",
       "    .dataframe thead th {\n",
       "        text-align: right;\n",
       "    }\n",
       "</style>\n",
       "<table border=\"1\" class=\"dataframe\">\n",
       "  <thead>\n",
       "    <tr style=\"text-align: right;\">\n",
       "      <th></th>\n",
       "      <th>calls_count</th>\n",
       "    </tr>\n",
       "  </thead>\n",
       "  <tbody>\n",
       "    <tr>\n",
       "      <td>count</td>\n",
       "      <td>48892.000000</td>\n",
       "    </tr>\n",
       "    <tr>\n",
       "      <td>mean</td>\n",
       "      <td>16.495214</td>\n",
       "    </tr>\n",
       "    <tr>\n",
       "      <td>std</td>\n",
       "      <td>63.671633</td>\n",
       "    </tr>\n",
       "    <tr>\n",
       "      <td>min</td>\n",
       "      <td>1.000000</td>\n",
       "    </tr>\n",
       "    <tr>\n",
       "      <td>25%</td>\n",
       "      <td>1.000000</td>\n",
       "    </tr>\n",
       "    <tr>\n",
       "      <td>50%</td>\n",
       "      <td>4.000000</td>\n",
       "    </tr>\n",
       "    <tr>\n",
       "      <td>75%</td>\n",
       "      <td>12.000000</td>\n",
       "    </tr>\n",
       "    <tr>\n",
       "      <td>max</td>\n",
       "      <td>4817.000000</td>\n",
       "    </tr>\n",
       "  </tbody>\n",
       "</table>\n",
       "</div>"
      ],
      "text/plain": [
       "        calls_count\n",
       "count  48892.000000\n",
       "mean      16.495214\n",
       "std       63.671633\n",
       "min        1.000000\n",
       "25%        1.000000\n",
       "50%        4.000000\n",
       "75%       12.000000\n",
       "max     4817.000000"
      ]
     },
     "execution_count": 27,
     "metadata": {},
     "output_type": "execute_result"
    }
   ],
   "source": [
    "data[['calls_count']].describe()"
   ]
  },
  {
   "cell_type": "code",
   "execution_count": 28,
   "metadata": {},
   "outputs": [
    {
     "data": {
      "image/png": "[encoded data removed]",
      "text/plain": [
       "<Figure size 720x432 with 1 Axes>"
      ]
     },
     "metadata": {
      "needs_background": "light"
     },
     "output_type": "display_data"
    },
    {
     "data": {
      "image/png": "[encoded data removed]",
      "text/plain": [
       "<Figure size 720x432 with 1 Axes>"
      ]
     },
     "metadata": {
      "needs_background": "light"
     },
     "output_type": "display_data"
    },
    {
     "name": "stdout",
     "output_type": "stream",
     "text": [
      "Array of outliers for calls_count - 90%, 92%, 95%, 97% ,99%\n",
      "[ 35.    43.    62.    84.   165.09]\n"
     ]
    }
   ],
   "source": [
    "def plot_distribution(df):\n",
    "    # Gets df with numerical values.\n",
    "    # Plots histogram & Scatter plot for each column.\n",
    "    # Prints outliers: 90%, 92%, 95%, 97%, 99%\n",
    "    for col in df.columns:\n",
    "        # Plots histogram\n",
    "        fig, ax = plt.subplots(figsize=(10, 6))\n",
    "        df[col].hist(log=True, bins=15)\n",
    "        plt.title('Distribution of {}'.format(col), fontsize=15)\n",
    "        plt.xlabel('Values of {}'.format(col), fontsize=12)\n",
    "        plt.ylabel('Amount', fontsize=12)\n",
    "        plt.show()\n",
    "        # Plots scatter plot\n",
    "        fig, ax = plt.subplots(figsize=(10, 6))\n",
    "        x_values = pd.Series(range(0, len(df[col])))\n",
    "        plt.scatter(x_values, df[col])\n",
    "        plt.title('Distribution of {}'.format(col), fontsize=15)\n",
    "        plt.xlabel('Attemps', fontsize=12)\n",
    "        plt.ylabel('Values of {}'.format(col), fontsize=12)\n",
    "        plt.show()\n",
    "        # Prints outliers by percentiles\n",
    "        print('Array of outliers for {} - 90%, 92%, 95%, 97% ,99%'.format(col))\n",
    "        print(np.percentile(df[col], [90, 92, 95, 97, 99]))\n",
    "\n",
    "plot_distribution(data[['calls_count']])"
   ]
  },
  {
   "cell_type": "markdown",
   "metadata": {},
   "source": [
    "<b> Outliers: </b>\n",
    "- Trying 35 times a day (90% percentile) to make a call it's really crazy. I know it means that 10% of data are outliers, but I prefer to work with less & good data instead of showing fictional results.\n",
    "- The difference between the mean and the median it's also a bad sign.\n",
    "- For now I'll mark this call attemps."
   ]
  },
  {
   "cell_type": "code",
   "execution_count": 29,
   "metadata": {},
   "outputs": [
    {
     "data": {
      "text/html": [
       "<div>\n",
       "<style scoped>\n",
       "    .dataframe tbody tr th:only-of-type {\n",
       "        vertical-align: middle;\n",
       "    }\n",
       "\n",
       "    .dataframe tbody tr th {\n",
       "        vertical-align: top;\n",
       "    }\n",
       "\n",
       "    .dataframe thead th {\n",
       "        text-align: right;\n",
       "    }\n",
       "</style>\n",
       "<table border=\"1\" class=\"dataframe\">\n",
       "  <thead>\n",
       "    <tr style=\"text-align: right;\">\n",
       "      <th></th>\n",
       "      <th>calls_count</th>\n",
       "    </tr>\n",
       "  </thead>\n",
       "  <tbody>\n",
       "    <tr>\n",
       "      <td>count</td>\n",
       "      <td>43913.000000</td>\n",
       "    </tr>\n",
       "    <tr>\n",
       "      <td>mean</td>\n",
       "      <td>6.324300</td>\n",
       "    </tr>\n",
       "    <tr>\n",
       "      <td>std</td>\n",
       "      <td>7.364945</td>\n",
       "    </tr>\n",
       "    <tr>\n",
       "      <td>min</td>\n",
       "      <td>1.000000</td>\n",
       "    </tr>\n",
       "    <tr>\n",
       "      <td>25%</td>\n",
       "      <td>1.000000</td>\n",
       "    </tr>\n",
       "    <tr>\n",
       "      <td>50%</td>\n",
       "      <td>3.000000</td>\n",
       "    </tr>\n",
       "    <tr>\n",
       "      <td>75%</td>\n",
       "      <td>8.000000</td>\n",
       "    </tr>\n",
       "    <tr>\n",
       "      <td>max</td>\n",
       "      <td>34.000000</td>\n",
       "    </tr>\n",
       "  </tbody>\n",
       "</table>\n",
       "</div>"
      ],
      "text/plain": [
       "        calls_count\n",
       "count  43913.000000\n",
       "mean       6.324300\n",
       "std        7.364945\n",
       "min        1.000000\n",
       "25%        1.000000\n",
       "50%        3.000000\n",
       "75%        8.000000\n",
       "max       34.000000"
      ]
     },
     "execution_count": 29,
     "metadata": {},
     "output_type": "execute_result"
    }
   ],
   "source": [
    "# Mark call attemps outliers\n",
    "PERC_LIMIT =  90\n",
    "calls_count_limit = round(np.percentile(data.calls_count, PERC_LIMIT))\n",
    "data['calls_count_outliers'] = data.calls_count >= calls_count_limit\n",
    "# Show difference in distribution \n",
    "data.query('calls_count < @calls_count_limit')[['calls_count']].describe()"
   ]
  },
  {
   "cell_type": "markdown",
   "metadata": {},
   "source": [
    "### Call_duration,  total_call_duration & wait_duration\n",
    "- Diffrerent check for missing & answered calls.\n",
    "- Checking that call_duration is not bigger than total_call_duration.\n",
    "- For answered calls - call_duration is bigger than 0.\n",
    "- For missing calls - call_duration is 0."
   ]
  },
  {
   "cell_type": "code",
   "execution_count": 30,
   "metadata": {},
   "outputs": [
    {
     "data": {
      "text/plain": [
       "0"
      ]
     },
     "execution_count": 30,
     "metadata": {},
     "output_type": "execute_result"
    }
   ],
   "source": [
    "# Checking that call_duration is not bigger than total_call_duration\n",
    "len(data.query('call_duration > total_call_duration'))"
   ]
  },
  {
   "cell_type": "markdown",
   "metadata": {},
   "source": [
    "### For answered calls"
   ]
  },
  {
   "cell_type": "code",
   "execution_count": 31,
   "metadata": {},
   "outputs": [
    {
     "data": {
      "text/html": [
       "<div>\n",
       "<style scoped>\n",
       "    .dataframe tbody tr th:only-of-type {\n",
       "        vertical-align: middle;\n",
       "    }\n",
       "\n",
       "    .dataframe tbody tr th {\n",
       "        vertical-align: top;\n",
       "    }\n",
       "\n",
       "    .dataframe thead th {\n",
       "        text-align: right;\n",
       "    }\n",
       "</style>\n",
       "<table border=\"1\" class=\"dataframe\">\n",
       "  <thead>\n",
       "    <tr style=\"text-align: right;\">\n",
       "      <th></th>\n",
       "      <th>call_duration</th>\n",
       "      <th>total_call_duration</th>\n",
       "      <th>wait_duration</th>\n",
       "    </tr>\n",
       "  </thead>\n",
       "  <tbody>\n",
       "    <tr>\n",
       "      <td>count</td>\n",
       "      <td>27495.000000</td>\n",
       "      <td>27495.000000</td>\n",
       "      <td>27495.000000</td>\n",
       "    </tr>\n",
       "    <tr>\n",
       "      <td>mean</td>\n",
       "      <td>1542.786725</td>\n",
       "      <td>1785.620767</td>\n",
       "      <td>242.834043</td>\n",
       "    </tr>\n",
       "    <tr>\n",
       "      <td>std</td>\n",
       "      <td>4935.760863</td>\n",
       "      <td>5743.266730</td>\n",
       "      <td>921.643894</td>\n",
       "    </tr>\n",
       "    <tr>\n",
       "      <td>min</td>\n",
       "      <td>0.000000</td>\n",
       "      <td>0.000000</td>\n",
       "      <td>0.000000</td>\n",
       "    </tr>\n",
       "    <tr>\n",
       "      <td>25%</td>\n",
       "      <td>109.000000</td>\n",
       "      <td>138.000000</td>\n",
       "      <td>19.000000</td>\n",
       "    </tr>\n",
       "    <tr>\n",
       "      <td>50%</td>\n",
       "      <td>445.000000</td>\n",
       "      <td>515.000000</td>\n",
       "      <td>54.000000</td>\n",
       "    </tr>\n",
       "    <tr>\n",
       "      <td>75%</td>\n",
       "      <td>1424.000000</td>\n",
       "      <td>1651.000000</td>\n",
       "      <td>177.000000</td>\n",
       "    </tr>\n",
       "    <tr>\n",
       "      <td>max</td>\n",
       "      <td>144395.000000</td>\n",
       "      <td>166155.000000</td>\n",
       "      <td>46474.000000</td>\n",
       "    </tr>\n",
       "  </tbody>\n",
       "</table>\n",
       "</div>"
      ],
      "text/plain": [
       "       call_duration  total_call_duration  wait_duration\n",
       "count   27495.000000         27495.000000   27495.000000\n",
       "mean     1542.786725          1785.620767     242.834043\n",
       "std      4935.760863          5743.266730     921.643894\n",
       "min         0.000000             0.000000       0.000000\n",
       "25%       109.000000           138.000000      19.000000\n",
       "50%       445.000000           515.000000      54.000000\n",
       "75%      1424.000000          1651.000000     177.000000\n",
       "max    144395.000000        166155.000000   46474.000000"
      ]
     },
     "execution_count": 31,
     "metadata": {},
     "output_type": "execute_result"
    }
   ],
   "source": [
    "# Mark answered calls\n",
    "data_ans = data.query('is_missed_call == False')\n",
    "data_ans[['call_duration', 'total_call_duration', 'wait_duration']].describe()"
   ]
  },
  {
   "cell_type": "code",
   "execution_count": 32,
   "metadata": {},
   "outputs": [
    {
     "name": "stdout",
     "output_type": "stream",
     "text": [
      "Number of answered calls with 0-3 seconds for call duration:  239\n"
     ]
    }
   ],
   "source": [
    "print('Number of answered calls with 0-3 seconds for call duration: ', len(data_ans.query('call_duration <= 3')))"
   ]
  },
  {
   "cell_type": "code",
   "execution_count": 33,
   "metadata": {},
   "outputs": [
    {
     "data": {
      "text/plain": [
       "0.6666666666666666"
      ]
     },
     "execution_count": 33,
     "metadata": {},
     "output_type": "execute_result"
    }
   ],
   "source": [
    "2400 / 3600"
   ]
  },
  {
   "cell_type": "code",
   "execution_count": 34,
   "metadata": {},
   "outputs": [
    {
     "data": {
      "image/png": "[encoded data removed]",
      "text/plain": [
       "<Figure size 720x432 with 1 Axes>"
      ]
     },
     "metadata": {
      "needs_background": "light"
     },
     "output_type": "display_data"
    },
    {
     "data": {
      "image/png": "[encoded data removed]",
      "text/plain": [
       "<Figure size 720x432 with 1 Axes>"
      ]
     },
     "metadata": {
      "needs_background": "light"
     },
     "output_type": "display_data"
    },
    {
     "name": "stdout",
     "output_type": "stream",
     "text": [
      "Array of outliers for call_duration - 90%, 92%, 95%, 97% ,99%\n",
      "[ 3392.8   4044.92  5633.3   7820.18 13998.44]\n"
     ]
    },
    {
     "data": {
      "image/png": "[encoded data removed]",
      "text/plain": [
       "<Figure size 720x432 with 1 Axes>"
      ]
     },
     "metadata": {
      "needs_background": "light"
     },
     "output_type": "display_data"
    },
    {
     "data": {
      "image/png": "[encoded data removed]",
      "text/plain": [
       "<Figure size 720x432 with 1 Axes>"
      ]
     },
     "metadata": {
      "needs_background": "light"
     },
     "output_type": "display_data"
    },
    {
     "name": "stdout",
     "output_type": "stream",
     "text": [
      "Array of outliers for total_call_duration - 90%, 92%, 95%, 97% ,99%\n",
      "[ 3910.2   4614.96  6419.    8914.72 16139.78]\n"
     ]
    },
    {
     "data": {
      "image/png": "[encoded data removed]",
      "text/plain": [
       "<Figure size 720x432 with 1 Axes>"
      ]
     },
     "metadata": {
      "needs_background": "light"
     },
     "output_type": "display_data"
    },
    {
     "data": {
      "image/png": "[encoded data removed]",
      "text/plain": [
       "<Figure size 720x432 with 1 Axes>"
      ]
     },
     "metadata": {
      "needs_background": "light"
     },
     "output_type": "display_data"
    },
    {
     "name": "stdout",
     "output_type": "stream",
     "text": [
      "Array of outliers for wait_duration - 90%, 92%, 95%, 97% ,99%\n",
      "[ 510.    632.    958.3  1366.18 2454.  ]\n"
     ]
    }
   ],
   "source": [
    "plot_distribution(data_ans[['call_duration', 'total_call_duration', 'wait_duration']])"
   ]
  },
  {
   "cell_type": "markdown",
   "metadata": {},
   "source": [
    "<b> Outliers: </b>\n",
    "1. call_duration: \n",
    "    - Too short calls (between 0-3 seconds) - it's probably techincal  issue or call that immediately was diconnected. This type of calls occured less than 300 times.\n",
    "    - Too long calls - more than 1.5 hours (about 8% of total data).\n",
    "2. total_call_duration - too long calls - more than 2.5 hours (about 3% of  total data).\n",
    "3. wait_call_duration - too long wait - more than 45 minutes (about 1% of total data).\n",
    "\n",
    "For now i'll mark them as suspicious, at the end of the EDA i'll see the whole picture and will get a decision."
   ]
  },
  {
   "cell_type": "code",
   "execution_count": 35,
   "metadata": {},
   "outputs": [],
   "source": [
    "# Mark outliers\n",
    "SHORT_CALL_DURATION_LIMIT = 3\n",
    "LONG_CALL_DURATION_LIMIT = np.percentile(data_ans['call_duration'], 92)\n",
    "data['call_duration_outliers'] = (data['is_missed_call'] == False) & ((\n",
    "    data.call_duration <= SHORT_CALL_DURATION_LIMIT) | (\n",
    "    data.call_duration >= LONG_CALL_DURATION_LIMIT))\n",
    "\n",
    "LONG_TOTAL_CALL_DURATION_LIMIT = np.percentile(data_ans['total_call_duration'], 97)\n",
    "data['total_call_duration_outliers'] = (data['is_missed_call'] == False) & (\n",
    "    data.call_duration >= LONG_TOTAL_CALL_DURATION_LIMIT)\n",
    "\n",
    "LONG_WAIT_CALL_DURATION_LIMIT = np.percentile(data_ans['wait_duration'], 99)\n",
    "data['wait_duration_outliers'] = (data['is_missed_call'] == False) & (\n",
    "    data.call_duration >= LONG_WAIT_CALL_DURATION_LIMIT)"
   ]
  },
  {
   "cell_type": "code",
   "execution_count": 36,
   "metadata": {},
   "outputs": [
    {
     "data": {
      "text/html": [
       "<div>\n",
       "<style scoped>\n",
       "    .dataframe tbody tr th:only-of-type {\n",
       "        vertical-align: middle;\n",
       "    }\n",
       "\n",
       "    .dataframe tbody tr th {\n",
       "        vertical-align: top;\n",
       "    }\n",
       "\n",
       "    .dataframe thead th {\n",
       "        text-align: right;\n",
       "    }\n",
       "</style>\n",
       "<table border=\"1\" class=\"dataframe\">\n",
       "  <thead>\n",
       "    <tr style=\"text-align: right;\">\n",
       "      <th></th>\n",
       "      <th>user_id</th>\n",
       "      <th>date</th>\n",
       "      <th>direction</th>\n",
       "      <th>internal</th>\n",
       "      <th>operator_id</th>\n",
       "      <th>is_missed_call</th>\n",
       "      <th>calls_count</th>\n",
       "      <th>call_duration</th>\n",
       "      <th>total_call_duration</th>\n",
       "      <th>wait_duration</th>\n",
       "      <th>tariff_plan</th>\n",
       "      <th>date_start</th>\n",
       "      <th>calls_count_outliers</th>\n",
       "      <th>call_duration_outliers</th>\n",
       "      <th>total_call_duration_outliers</th>\n",
       "      <th>wait_duration_outliers</th>\n",
       "    </tr>\n",
       "  </thead>\n",
       "  <tbody>\n",
       "    <tr>\n",
       "      <td>0</td>\n",
       "      <td>166377</td>\n",
       "      <td>2019-08-04</td>\n",
       "      <td>in</td>\n",
       "      <td>False</td>\n",
       "      <td>1.0</td>\n",
       "      <td>True</td>\n",
       "      <td>2</td>\n",
       "      <td>0</td>\n",
       "      <td>4</td>\n",
       "      <td>4</td>\n",
       "      <td>B</td>\n",
       "      <td>2019-08-01</td>\n",
       "      <td>False</td>\n",
       "      <td>False</td>\n",
       "      <td>False</td>\n",
       "      <td>False</td>\n",
       "    </tr>\n",
       "    <tr>\n",
       "      <td>1</td>\n",
       "      <td>166377</td>\n",
       "      <td>2019-08-05</td>\n",
       "      <td>out</td>\n",
       "      <td>True</td>\n",
       "      <td>880022.0</td>\n",
       "      <td>True</td>\n",
       "      <td>3</td>\n",
       "      <td>0</td>\n",
       "      <td>5</td>\n",
       "      <td>5</td>\n",
       "      <td>B</td>\n",
       "      <td>2019-08-01</td>\n",
       "      <td>False</td>\n",
       "      <td>False</td>\n",
       "      <td>False</td>\n",
       "      <td>False</td>\n",
       "    </tr>\n",
       "    <tr>\n",
       "      <td>2</td>\n",
       "      <td>166377</td>\n",
       "      <td>2019-08-05</td>\n",
       "      <td>out</td>\n",
       "      <td>True</td>\n",
       "      <td>880020.0</td>\n",
       "      <td>True</td>\n",
       "      <td>1</td>\n",
       "      <td>0</td>\n",
       "      <td>1</td>\n",
       "      <td>1</td>\n",
       "      <td>B</td>\n",
       "      <td>2019-08-01</td>\n",
       "      <td>False</td>\n",
       "      <td>False</td>\n",
       "      <td>False</td>\n",
       "      <td>False</td>\n",
       "    </tr>\n",
       "    <tr>\n",
       "      <td>3</td>\n",
       "      <td>166377</td>\n",
       "      <td>2019-08-05</td>\n",
       "      <td>out</td>\n",
       "      <td>True</td>\n",
       "      <td>880020.0</td>\n",
       "      <td>False</td>\n",
       "      <td>1</td>\n",
       "      <td>10</td>\n",
       "      <td>18</td>\n",
       "      <td>8</td>\n",
       "      <td>B</td>\n",
       "      <td>2019-08-01</td>\n",
       "      <td>False</td>\n",
       "      <td>False</td>\n",
       "      <td>False</td>\n",
       "      <td>False</td>\n",
       "    </tr>\n",
       "    <tr>\n",
       "      <td>4</td>\n",
       "      <td>166377</td>\n",
       "      <td>2019-08-05</td>\n",
       "      <td>out</td>\n",
       "      <td>False</td>\n",
       "      <td>880022.0</td>\n",
       "      <td>True</td>\n",
       "      <td>3</td>\n",
       "      <td>0</td>\n",
       "      <td>25</td>\n",
       "      <td>25</td>\n",
       "      <td>B</td>\n",
       "      <td>2019-08-01</td>\n",
       "      <td>False</td>\n",
       "      <td>False</td>\n",
       "      <td>False</td>\n",
       "      <td>False</td>\n",
       "    </tr>\n",
       "  </tbody>\n",
       "</table>\n",
       "</div>"
      ],
      "text/plain": [
       "   user_id       date direction  internal  operator_id  is_missed_call  \\\n",
       "0   166377 2019-08-04        in     False          1.0            True   \n",
       "1   166377 2019-08-05       out      True     880022.0            True   \n",
       "2   166377 2019-08-05       out      True     880020.0            True   \n",
       "3   166377 2019-08-05       out      True     880020.0           False   \n",
       "4   166377 2019-08-05       out     False     880022.0            True   \n",
       "\n",
       "   calls_count  call_duration  total_call_duration  wait_duration tariff_plan  \\\n",
       "0            2              0                    4              4           B   \n",
       "1            3              0                    5              5           B   \n",
       "2            1              0                    1              1           B   \n",
       "3            1             10                   18              8           B   \n",
       "4            3              0                   25             25           B   \n",
       "\n",
       "  date_start  calls_count_outliers  call_duration_outliers  \\\n",
       "0 2019-08-01                 False                   False   \n",
       "1 2019-08-01                 False                   False   \n",
       "2 2019-08-01                 False                   False   \n",
       "3 2019-08-01                 False                   False   \n",
       "4 2019-08-01                 False                   False   \n",
       "\n",
       "   total_call_duration_outliers  wait_duration_outliers  \n",
       "0                         False                   False  \n",
       "1                         False                   False  \n",
       "2                         False                   False  \n",
       "3                         False                   False  \n",
       "4                         False                   False  "
      ]
     },
     "execution_count": 36,
     "metadata": {},
     "output_type": "execute_result"
    }
   ],
   "source": [
    "data.head()"
   ]
  },
  {
   "cell_type": "markdown",
   "metadata": {},
   "source": [
    "### For missing calls"
   ]
  },
  {
   "cell_type": "code",
   "execution_count": 37,
   "metadata": {},
   "outputs": [
    {
     "data": {
      "text/html": [
       "<div>\n",
       "<style scoped>\n",
       "    .dataframe tbody tr th:only-of-type {\n",
       "        vertical-align: middle;\n",
       "    }\n",
       "\n",
       "    .dataframe tbody tr th {\n",
       "        vertical-align: top;\n",
       "    }\n",
       "\n",
       "    .dataframe thead th {\n",
       "        text-align: right;\n",
       "    }\n",
       "</style>\n",
       "<table border=\"1\" class=\"dataframe\">\n",
       "  <thead>\n",
       "    <tr style=\"text-align: right;\">\n",
       "      <th></th>\n",
       "      <th>call_duration</th>\n",
       "      <th>total_call_duration</th>\n",
       "      <th>wait_duration</th>\n",
       "    </tr>\n",
       "  </thead>\n",
       "  <tbody>\n",
       "    <tr>\n",
       "      <td>count</td>\n",
       "      <td>21397.000000</td>\n",
       "      <td>21397.000000</td>\n",
       "      <td>21397.000000</td>\n",
       "    </tr>\n",
       "    <tr>\n",
       "      <td>mean</td>\n",
       "      <td>1.106510</td>\n",
       "      <td>353.742768</td>\n",
       "      <td>352.636257</td>\n",
       "    </tr>\n",
       "    <tr>\n",
       "      <td>std</td>\n",
       "      <td>17.896334</td>\n",
       "      <td>1355.145890</td>\n",
       "      <td>1355.297320</td>\n",
       "    </tr>\n",
       "    <tr>\n",
       "      <td>min</td>\n",
       "      <td>0.000000</td>\n",
       "      <td>0.000000</td>\n",
       "      <td>0.000000</td>\n",
       "    </tr>\n",
       "    <tr>\n",
       "      <td>25%</td>\n",
       "      <td>0.000000</td>\n",
       "      <td>14.000000</td>\n",
       "      <td>13.000000</td>\n",
       "    </tr>\n",
       "    <tr>\n",
       "      <td>50%</td>\n",
       "      <td>0.000000</td>\n",
       "      <td>60.000000</td>\n",
       "      <td>58.000000</td>\n",
       "    </tr>\n",
       "    <tr>\n",
       "      <td>75%</td>\n",
       "      <td>0.000000</td>\n",
       "      <td>240.000000</td>\n",
       "      <td>239.000000</td>\n",
       "    </tr>\n",
       "    <tr>\n",
       "      <td>max</td>\n",
       "      <td>741.000000</td>\n",
       "      <td>45312.000000</td>\n",
       "      <td>45312.000000</td>\n",
       "    </tr>\n",
       "  </tbody>\n",
       "</table>\n",
       "</div>"
      ],
      "text/plain": [
       "       call_duration  total_call_duration  wait_duration\n",
       "count   21397.000000         21397.000000   21397.000000\n",
       "mean        1.106510           353.742768     352.636257\n",
       "std        17.896334          1355.145890    1355.297320\n",
       "min         0.000000             0.000000       0.000000\n",
       "25%         0.000000            14.000000      13.000000\n",
       "50%         0.000000            60.000000      58.000000\n",
       "75%         0.000000           240.000000     239.000000\n",
       "max       741.000000         45312.000000   45312.000000"
      ]
     },
     "execution_count": 37,
     "metadata": {},
     "output_type": "execute_result"
    }
   ],
   "source": [
    "data_miss = data.query('is_missed_call == True')\n",
    "data_miss[['call_duration', 'total_call_duration', 'wait_duration']].describe()"
   ]
  },
  {
   "cell_type": "code",
   "execution_count": 38,
   "metadata": {},
   "outputs": [
    {
     "data": {
      "image/png": "[encoded data removed]",
      "text/plain": [
       "<Figure size 720x432 with 1 Axes>"
      ]
     },
     "metadata": {
      "needs_background": "light"
     },
     "output_type": "display_data"
    },
    {
     "data": {
      "image/png": "[encoded data removed]",
      "text/plain": [
       "<Figure size 720x432 with 1 Axes>"
      ]
     },
     "metadata": {
      "needs_background": "light"
     },
     "output_type": "display_data"
    },
    {
     "name": "stdout",
     "output_type": "stream",
     "text": [
      "Array of outliers for call_duration - 90%, 92%, 95%, 97% ,99%\n",
      "[0. 0. 0. 0. 1.]\n"
     ]
    },
    {
     "data": {
      "image/png": "[encoded data removed]",
      "text/plain": [
       "<Figure size 720x432 with 1 Axes>"
      ]
     },
     "metadata": {
      "needs_background": "light"
     },
     "output_type": "display_data"
    },
    {
     "data": {
      "image/png": "[encoded data removed]",
      "text/plain": [
       "<Figure size 720x432 with 1 Axes>"
      ]
     },
     "metadata": {
      "needs_background": "light"
     },
     "output_type": "display_data"
    },
    {
     "name": "stdout",
     "output_type": "stream",
     "text": [
      "Array of outliers for total_call_duration - 90%, 92%, 95%, 97% ,99%\n",
      "[ 771.4   961.   1422.   1977.12 4030.88]\n"
     ]
    },
    {
     "data": {
      "image/png": "[encoded data removed]",
      "text/plain": [
       "<Figure size 720x432 with 1 Axes>"
      ]
     },
     "metadata": {
      "needs_background": "light"
     },
     "output_type": "display_data"
    },
    {
     "data": {
      "image/png": "[encoded data removed]",
      "text/plain": [
       "<Figure size 720x432 with 1 Axes>"
      ]
     },
     "metadata": {
      "needs_background": "light"
     },
     "output_type": "display_data"
    },
    {
     "name": "stdout",
     "output_type": "stream",
     "text": [
      "Array of outliers for wait_duration - 90%, 92%, 95%, 97% ,99%\n",
      "[ 771.4   961.   1422.   1977.12 4030.88]\n"
     ]
    }
   ],
   "source": [
    "plot_distribution(data_miss[['call_duration', 'total_call_duration', 'wait_duration']])"
   ]
  },
  {
   "cell_type": "code",
   "execution_count": 39,
   "metadata": {},
   "outputs": [
    {
     "data": {
      "text/plain": [
       "295"
      ]
     },
     "execution_count": 39,
     "metadata": {},
     "output_type": "execute_result"
    }
   ],
   "source": [
    "len(data_miss.query('call_duration > 0'))"
   ]
  },
  {
   "cell_type": "markdown",
   "metadata": {},
   "source": [
    "<b> Outliers: </b> \n",
    "1. call_duration - Time suppose to be 0, but there are 295 calls with bigger time, so I'm going to reset them.\n",
    "2. total_call_duration & wait_duration - too long calls - more than 1.5 hours (about 1% of  total data), so I'll mark them."
   ]
  },
  {
   "cell_type": "code",
   "execution_count": 40,
   "metadata": {},
   "outputs": [],
   "source": [
    "# Reset call_duration, total_call_duration & wait_duration for missing calls \n",
    "data.loc[data['is_missed_call'] == True, 'total_call_duration'] = data.total_call_duration - data.call_duration\n",
    "data.loc[data['is_missed_call'] == True, 'call_duration'] = 0\n",
    "data['wait_duration'] = data.total_call_duration - data.call_duration"
   ]
  },
  {
   "cell_type": "code",
   "execution_count": 41,
   "metadata": {},
   "outputs": [],
   "source": [
    "# Mark wait_duration outliers\n",
    "LONG_TOTAL_CALL_DURATION_LIMIT = np.percentile(data_miss['total_call_duration'], 99)\n",
    "data.loc[data['is_missed_call'] == True, 'total_call_duration_outliers'] = data.call_duration >= LONG_TOTAL_CALL_DURATION_LIMIT\n",
    "\n",
    "LONG_WAIT_CALL_DURATION_LIMIT = np.percentile(data_miss['wait_duration'], 99)\n",
    "data.loc[data['is_missed_call'] == True, 'wait_duration_outliers'] = data.call_duration >= LONG_WAIT_CALL_DURATION_LIMIT"
   ]
  },
  {
   "cell_type": "markdown",
   "metadata": {},
   "source": [
    "### Looking at all outliers"
   ]
  },
  {
   "cell_type": "code",
   "execution_count": 42,
   "metadata": {},
   "outputs": [
    {
     "name": "stdout",
     "output_type": "stream",
     "text": [
      "Number of outliers:  7047\n",
      "% of Outliers: 14.41%\n"
     ]
    }
   ],
   "source": [
    "outliers = data.query('calls_count_outliers == True or call_duration_outliers == True or total_call_duration_outliers == True or wait_duration_outliers == True')\n",
    "print('Number of outliers: ', len(outliers))\n",
    "print('% of Outliers: {:.2%}'.format(len(outliers) / len(data)))"
   ]
  },
  {
   "cell_type": "markdown",
   "metadata": {},
   "source": [
    "<b> <u> I decided to drop outliers out. </b> </u> \n",
    " - This data is  really messy, and I prefer to loose 14.5% of data and work with valids."
   ]
  },
  {
   "cell_type": "code",
   "execution_count": 43,
   "metadata": {},
   "outputs": [],
   "source": [
    "# Drop outliers\n",
    "data = data.query('calls_count_outliers == False and call_duration_outliers == False and total_call_duration_outliers == False and wait_duration_outliers == False')\n",
    "data = data.drop(['calls_count_outliers', 'call_duration_outliers', 'total_call_duration_outliers',\n",
    "                  'wait_duration_outliers'], axis=1)"
   ]
  },
  {
   "cell_type": "code",
   "execution_count": 44,
   "metadata": {},
   "outputs": [
    {
     "data": {
      "text/html": [
       "<div>\n",
       "<style scoped>\n",
       "    .dataframe tbody tr th:only-of-type {\n",
       "        vertical-align: middle;\n",
       "    }\n",
       "\n",
       "    .dataframe tbody tr th {\n",
       "        vertical-align: top;\n",
       "    }\n",
       "\n",
       "    .dataframe thead th {\n",
       "        text-align: right;\n",
       "    }\n",
       "</style>\n",
       "<table border=\"1\" class=\"dataframe\">\n",
       "  <thead>\n",
       "    <tr style=\"text-align: right;\">\n",
       "      <th></th>\n",
       "      <th>user_id</th>\n",
       "      <th>date</th>\n",
       "      <th>direction</th>\n",
       "      <th>internal</th>\n",
       "      <th>operator_id</th>\n",
       "      <th>is_missed_call</th>\n",
       "      <th>calls_count</th>\n",
       "      <th>call_duration</th>\n",
       "      <th>total_call_duration</th>\n",
       "      <th>wait_duration</th>\n",
       "      <th>tariff_plan</th>\n",
       "      <th>date_start</th>\n",
       "    </tr>\n",
       "  </thead>\n",
       "  <tbody>\n",
       "    <tr>\n",
       "      <td>0</td>\n",
       "      <td>166377</td>\n",
       "      <td>2019-08-04</td>\n",
       "      <td>in</td>\n",
       "      <td>False</td>\n",
       "      <td>1.0</td>\n",
       "      <td>True</td>\n",
       "      <td>2</td>\n",
       "      <td>0</td>\n",
       "      <td>4</td>\n",
       "      <td>4</td>\n",
       "      <td>B</td>\n",
       "      <td>2019-08-01</td>\n",
       "    </tr>\n",
       "    <tr>\n",
       "      <td>1</td>\n",
       "      <td>166377</td>\n",
       "      <td>2019-08-05</td>\n",
       "      <td>out</td>\n",
       "      <td>True</td>\n",
       "      <td>880022.0</td>\n",
       "      <td>True</td>\n",
       "      <td>3</td>\n",
       "      <td>0</td>\n",
       "      <td>5</td>\n",
       "      <td>5</td>\n",
       "      <td>B</td>\n",
       "      <td>2019-08-01</td>\n",
       "    </tr>\n",
       "    <tr>\n",
       "      <td>2</td>\n",
       "      <td>166377</td>\n",
       "      <td>2019-08-05</td>\n",
       "      <td>out</td>\n",
       "      <td>True</td>\n",
       "      <td>880020.0</td>\n",
       "      <td>True</td>\n",
       "      <td>1</td>\n",
       "      <td>0</td>\n",
       "      <td>1</td>\n",
       "      <td>1</td>\n",
       "      <td>B</td>\n",
       "      <td>2019-08-01</td>\n",
       "    </tr>\n",
       "    <tr>\n",
       "      <td>3</td>\n",
       "      <td>166377</td>\n",
       "      <td>2019-08-05</td>\n",
       "      <td>out</td>\n",
       "      <td>True</td>\n",
       "      <td>880020.0</td>\n",
       "      <td>False</td>\n",
       "      <td>1</td>\n",
       "      <td>10</td>\n",
       "      <td>18</td>\n",
       "      <td>8</td>\n",
       "      <td>B</td>\n",
       "      <td>2019-08-01</td>\n",
       "    </tr>\n",
       "    <tr>\n",
       "      <td>4</td>\n",
       "      <td>166377</td>\n",
       "      <td>2019-08-05</td>\n",
       "      <td>out</td>\n",
       "      <td>False</td>\n",
       "      <td>880022.0</td>\n",
       "      <td>True</td>\n",
       "      <td>3</td>\n",
       "      <td>0</td>\n",
       "      <td>25</td>\n",
       "      <td>25</td>\n",
       "      <td>B</td>\n",
       "      <td>2019-08-01</td>\n",
       "    </tr>\n",
       "  </tbody>\n",
       "</table>\n",
       "</div>"
      ],
      "text/plain": [
       "   user_id       date direction  internal  operator_id  is_missed_call  \\\n",
       "0   166377 2019-08-04        in     False          1.0            True   \n",
       "1   166377 2019-08-05       out      True     880022.0            True   \n",
       "2   166377 2019-08-05       out      True     880020.0            True   \n",
       "3   166377 2019-08-05       out      True     880020.0           False   \n",
       "4   166377 2019-08-05       out     False     880022.0            True   \n",
       "\n",
       "   calls_count  call_duration  total_call_duration  wait_duration tariff_plan  \\\n",
       "0            2              0                    4              4           B   \n",
       "1            3              0                    5              5           B   \n",
       "2            1              0                    1              1           B   \n",
       "3            1             10                   18              8           B   \n",
       "4            3              0                   25             25           B   \n",
       "\n",
       "  date_start  \n",
       "0 2019-08-01  \n",
       "1 2019-08-01  \n",
       "2 2019-08-01  \n",
       "3 2019-08-01  \n",
       "4 2019-08-01  "
      ]
     },
     "execution_count": 44,
     "metadata": {},
     "output_type": "execute_result"
    }
   ],
   "source": [
    "data.head()"
   ]
  },
  {
   "cell_type": "markdown",
   "metadata": {},
   "source": [
    "### Show distribution without outliers"
   ]
  },
  {
   "cell_type": "code",
   "execution_count": 45,
   "metadata": {},
   "outputs": [
    {
     "data": {
      "text/html": [
       "<div>\n",
       "<style scoped>\n",
       "    .dataframe tbody tr th:only-of-type {\n",
       "        vertical-align: middle;\n",
       "    }\n",
       "\n",
       "    .dataframe tbody tr th {\n",
       "        vertical-align: top;\n",
       "    }\n",
       "\n",
       "    .dataframe thead th {\n",
       "        text-align: right;\n",
       "    }\n",
       "</style>\n",
       "<table border=\"1\" class=\"dataframe\">\n",
       "  <thead>\n",
       "    <tr style=\"text-align: right;\">\n",
       "      <th></th>\n",
       "      <th>calls_count</th>\n",
       "      <th>call_duration</th>\n",
       "      <th>total_call_duration</th>\n",
       "      <th>wait_duration</th>\n",
       "    </tr>\n",
       "  </thead>\n",
       "  <tbody>\n",
       "    <tr>\n",
       "      <td>count</td>\n",
       "      <td>22671.000000</td>\n",
       "      <td>22671.000000</td>\n",
       "      <td>22671.000000</td>\n",
       "      <td>22671.000000</td>\n",
       "    </tr>\n",
       "    <tr>\n",
       "      <td>mean</td>\n",
       "      <td>5.862115</td>\n",
       "      <td>535.046668</td>\n",
       "      <td>617.768162</td>\n",
       "      <td>82.721494</td>\n",
       "    </tr>\n",
       "    <tr>\n",
       "      <td>std</td>\n",
       "      <td>6.614493</td>\n",
       "      <td>586.992050</td>\n",
       "      <td>661.897083</td>\n",
       "      <td>112.410761</td>\n",
       "    </tr>\n",
       "    <tr>\n",
       "      <td>min</td>\n",
       "      <td>1.000000</td>\n",
       "      <td>4.000000</td>\n",
       "      <td>4.000000</td>\n",
       "      <td>0.000000</td>\n",
       "    </tr>\n",
       "    <tr>\n",
       "      <td>25%</td>\n",
       "      <td>1.000000</td>\n",
       "      <td>86.000000</td>\n",
       "      <td>112.000000</td>\n",
       "      <td>16.000000</td>\n",
       "    </tr>\n",
       "    <tr>\n",
       "      <td>50%</td>\n",
       "      <td>3.000000</td>\n",
       "      <td>296.000000</td>\n",
       "      <td>349.000000</td>\n",
       "      <td>39.000000</td>\n",
       "    </tr>\n",
       "    <tr>\n",
       "      <td>75%</td>\n",
       "      <td>8.000000</td>\n",
       "      <td>801.000000</td>\n",
       "      <td>923.000000</td>\n",
       "      <td>101.000000</td>\n",
       "    </tr>\n",
       "    <tr>\n",
       "      <td>max</td>\n",
       "      <td>34.000000</td>\n",
       "      <td>2452.000000</td>\n",
       "      <td>3834.000000</td>\n",
       "      <td>1463.000000</td>\n",
       "    </tr>\n",
       "  </tbody>\n",
       "</table>\n",
       "</div>"
      ],
      "text/plain": [
       "        calls_count  call_duration  total_call_duration  wait_duration\n",
       "count  22671.000000   22671.000000         22671.000000   22671.000000\n",
       "mean       5.862115     535.046668           617.768162      82.721494\n",
       "std        6.614493     586.992050           661.897083     112.410761\n",
       "min        1.000000       4.000000             4.000000       0.000000\n",
       "25%        1.000000      86.000000           112.000000      16.000000\n",
       "50%        3.000000     296.000000           349.000000      39.000000\n",
       "75%        8.000000     801.000000           923.000000     101.000000\n",
       "max       34.000000    2452.000000          3834.000000    1463.000000"
      ]
     },
     "execution_count": 45,
     "metadata": {},
     "output_type": "execute_result"
    }
   ],
   "source": [
    "# Answered calls\n",
    "data_ans1 = data.query('is_missed_call == False')\n",
    "data_ans1[['calls_count', 'call_duration', 'total_call_duration', 'wait_duration']].describe()"
   ]
  },
  {
   "cell_type": "code",
   "execution_count": 46,
   "metadata": {},
   "outputs": [
    {
     "data": {
      "text/html": [
       "<div>\n",
       "<style scoped>\n",
       "    .dataframe tbody tr th:only-of-type {\n",
       "        vertical-align: middle;\n",
       "    }\n",
       "\n",
       "    .dataframe tbody tr th {\n",
       "        vertical-align: top;\n",
       "    }\n",
       "\n",
       "    .dataframe thead th {\n",
       "        text-align: right;\n",
       "    }\n",
       "</style>\n",
       "<table border=\"1\" class=\"dataframe\">\n",
       "  <thead>\n",
       "    <tr style=\"text-align: right;\">\n",
       "      <th></th>\n",
       "      <th>calls_count</th>\n",
       "      <th>call_duration</th>\n",
       "      <th>total_call_duration</th>\n",
       "      <th>wait_duration</th>\n",
       "    </tr>\n",
       "  </thead>\n",
       "  <tbody>\n",
       "    <tr>\n",
       "      <td>count</td>\n",
       "      <td>19174.000000</td>\n",
       "      <td>19174.0</td>\n",
       "      <td>19174.000000</td>\n",
       "      <td>19174.000000</td>\n",
       "    </tr>\n",
       "    <tr>\n",
       "      <td>mean</td>\n",
       "      <td>5.744028</td>\n",
       "      <td>0.0</td>\n",
       "      <td>121.162773</td>\n",
       "      <td>121.162773</td>\n",
       "    </tr>\n",
       "    <tr>\n",
       "      <td>std</td>\n",
       "      <td>7.036729</td>\n",
       "      <td>0.0</td>\n",
       "      <td>181.485246</td>\n",
       "      <td>181.485246</td>\n",
       "    </tr>\n",
       "    <tr>\n",
       "      <td>min</td>\n",
       "      <td>1.000000</td>\n",
       "      <td>0.0</td>\n",
       "      <td>0.000000</td>\n",
       "      <td>0.000000</td>\n",
       "    </tr>\n",
       "    <tr>\n",
       "      <td>25%</td>\n",
       "      <td>1.000000</td>\n",
       "      <td>0.0</td>\n",
       "      <td>11.000000</td>\n",
       "      <td>11.000000</td>\n",
       "    </tr>\n",
       "    <tr>\n",
       "      <td>50%</td>\n",
       "      <td>3.000000</td>\n",
       "      <td>0.0</td>\n",
       "      <td>45.000000</td>\n",
       "      <td>45.000000</td>\n",
       "    </tr>\n",
       "    <tr>\n",
       "      <td>75%</td>\n",
       "      <td>7.000000</td>\n",
       "      <td>0.0</td>\n",
       "      <td>151.000000</td>\n",
       "      <td>151.000000</td>\n",
       "    </tr>\n",
       "    <tr>\n",
       "      <td>max</td>\n",
       "      <td>34.000000</td>\n",
       "      <td>0.0</td>\n",
       "      <td>2187.000000</td>\n",
       "      <td>2187.000000</td>\n",
       "    </tr>\n",
       "  </tbody>\n",
       "</table>\n",
       "</div>"
      ],
      "text/plain": [
       "        calls_count  call_duration  total_call_duration  wait_duration\n",
       "count  19174.000000        19174.0         19174.000000   19174.000000\n",
       "mean       5.744028            0.0           121.162773     121.162773\n",
       "std        7.036729            0.0           181.485246     181.485246\n",
       "min        1.000000            0.0             0.000000       0.000000\n",
       "25%        1.000000            0.0            11.000000      11.000000\n",
       "50%        3.000000            0.0            45.000000      45.000000\n",
       "75%        7.000000            0.0           151.000000     151.000000\n",
       "max       34.000000            0.0          2187.000000    2187.000000"
      ]
     },
     "execution_count": 46,
     "metadata": {},
     "output_type": "execute_result"
    }
   ],
   "source": [
    "# Missing calls\n",
    "data_miss1 = data.query('is_missed_call == True')\n",
    "data_miss1[['calls_count', 'call_duration', 'total_call_duration', 'wait_duration']].describe()"
   ]
  },
  {
   "cell_type": "markdown",
   "metadata": {},
   "source": [
    "### Operator_id\n",
    "- Describe distribution of recieve and make calls - Does everyone do both?\n",
    "- Check distribution of call attemps - How many calls do they do?"
   ]
  },
  {
   "cell_type": "code",
   "execution_count": 47,
   "metadata": {},
   "outputs": [
    {
     "data": {
      "text/html": [
       "<div>\n",
       "<style scoped>\n",
       "    .dataframe tbody tr th:only-of-type {\n",
       "        vertical-align: middle;\n",
       "    }\n",
       "\n",
       "    .dataframe tbody tr th {\n",
       "        vertical-align: top;\n",
       "    }\n",
       "\n",
       "    .dataframe thead th {\n",
       "        text-align: right;\n",
       "    }\n",
       "</style>\n",
       "<table border=\"1\" class=\"dataframe\">\n",
       "  <thead>\n",
       "    <tr style=\"text-align: right;\">\n",
       "      <th></th>\n",
       "      <th>operator_id</th>\n",
       "      <th>in_calls</th>\n",
       "      <th>out_calls</th>\n",
       "      <th>total_calls</th>\n",
       "    </tr>\n",
       "  </thead>\n",
       "  <tbody>\n",
       "    <tr>\n",
       "      <td>1082</td>\n",
       "      <td>973286.0</td>\n",
       "      <td>1.0</td>\n",
       "      <td>0.0</td>\n",
       "      <td>1.0</td>\n",
       "    </tr>\n",
       "    <tr>\n",
       "      <td>711</td>\n",
       "      <td>937872.0</td>\n",
       "      <td>0.0</td>\n",
       "      <td>1.0</td>\n",
       "      <td>1.0</td>\n",
       "    </tr>\n",
       "    <tr>\n",
       "      <td>696</td>\n",
       "      <td>937778.0</td>\n",
       "      <td>0.0</td>\n",
       "      <td>1.0</td>\n",
       "      <td>1.0</td>\n",
       "    </tr>\n",
       "    <tr>\n",
       "      <td>694</td>\n",
       "      <td>937772.0</td>\n",
       "      <td>0.0</td>\n",
       "      <td>1.0</td>\n",
       "      <td>1.0</td>\n",
       "    </tr>\n",
       "    <tr>\n",
       "      <td>693</td>\n",
       "      <td>937770.0</td>\n",
       "      <td>0.0</td>\n",
       "      <td>1.0</td>\n",
       "      <td>1.0</td>\n",
       "    </tr>\n",
       "    <tr>\n",
       "      <td>...</td>\n",
       "      <td>...</td>\n",
       "      <td>...</td>\n",
       "      <td>...</td>\n",
       "      <td>...</td>\n",
       "    </tr>\n",
       "    <tr>\n",
       "      <td>49</td>\n",
       "      <td>889410.0</td>\n",
       "      <td>79.0</td>\n",
       "      <td>163.0</td>\n",
       "      <td>242.0</td>\n",
       "    </tr>\n",
       "    <tr>\n",
       "      <td>191</td>\n",
       "      <td>900892.0</td>\n",
       "      <td>84.0</td>\n",
       "      <td>159.0</td>\n",
       "      <td>243.0</td>\n",
       "    </tr>\n",
       "    <tr>\n",
       "      <td>34</td>\n",
       "      <td>887276.0</td>\n",
       "      <td>67.0</td>\n",
       "      <td>196.0</td>\n",
       "      <td>263.0</td>\n",
       "    </tr>\n",
       "    <tr>\n",
       "      <td>204</td>\n",
       "      <td>901884.0</td>\n",
       "      <td>88.0</td>\n",
       "      <td>193.0</td>\n",
       "      <td>281.0</td>\n",
       "    </tr>\n",
       "    <tr>\n",
       "      <td>0</td>\n",
       "      <td>1.0</td>\n",
       "      <td>6764.0</td>\n",
       "      <td>165.0</td>\n",
       "      <td>6929.0</td>\n",
       "    </tr>\n",
       "  </tbody>\n",
       "</table>\n",
       "<p>1083 rows × 4 columns</p>\n",
       "</div>"
      ],
      "text/plain": [
       "      operator_id  in_calls  out_calls  total_calls\n",
       "1082     973286.0       1.0        0.0          1.0\n",
       "711      937872.0       0.0        1.0          1.0\n",
       "696      937778.0       0.0        1.0          1.0\n",
       "694      937772.0       0.0        1.0          1.0\n",
       "693      937770.0       0.0        1.0          1.0\n",
       "...           ...       ...        ...          ...\n",
       "49       889410.0      79.0      163.0        242.0\n",
       "191      900892.0      84.0      159.0        243.0\n",
       "34       887276.0      67.0      196.0        263.0\n",
       "204      901884.0      88.0      193.0        281.0\n",
       "0             1.0    6764.0      165.0       6929.0\n",
       "\n",
       "[1083 rows x 4 columns]"
      ]
     },
     "execution_count": 47,
     "metadata": {},
     "output_type": "execute_result"
    }
   ],
   "source": [
    "# Describe distribution of operators' type of work\n",
    "oper_dir = data.pivot_table(index='operator_id', columns='direction', values='calls_count', aggfunc='count'\n",
    "                           ).reset_index().fillna(0)\n",
    "oper_dir.columns = ['operator_id','in_calls', 'out_calls']\n",
    "oper_dir['total_calls'] =  oper_dir.in_calls + oper_dir.out_calls\n",
    "oper_dir.sort_values(by='total_calls')"
   ]
  },
  {
   "cell_type": "markdown",
   "metadata": {},
   "source": [
    "### Show distribution of calls without empty operators"
   ]
  },
  {
   "cell_type": "markdown",
   "metadata": {},
   "source": [
    "For those who receive calls"
   ]
  },
  {
   "cell_type": "code",
   "execution_count": 48,
   "metadata": {},
   "outputs": [
    {
     "data": {
      "text/html": [
       "<div>\n",
       "<style scoped>\n",
       "    .dataframe tbody tr th:only-of-type {\n",
       "        vertical-align: middle;\n",
       "    }\n",
       "\n",
       "    .dataframe tbody tr th {\n",
       "        vertical-align: top;\n",
       "    }\n",
       "\n",
       "    .dataframe thead th {\n",
       "        text-align: right;\n",
       "    }\n",
       "</style>\n",
       "<table border=\"1\" class=\"dataframe\">\n",
       "  <thead>\n",
       "    <tr style=\"text-align: right;\">\n",
       "      <th></th>\n",
       "      <th>in_calls</th>\n",
       "      <th>out_calls</th>\n",
       "      <th>total_calls</th>\n",
       "    </tr>\n",
       "  </thead>\n",
       "  <tbody>\n",
       "    <tr>\n",
       "      <td>count</td>\n",
       "      <td>874.000000</td>\n",
       "      <td>874.000000</td>\n",
       "      <td>874.000000</td>\n",
       "    </tr>\n",
       "    <tr>\n",
       "      <td>mean</td>\n",
       "      <td>10.707094</td>\n",
       "      <td>26.664760</td>\n",
       "      <td>37.371854</td>\n",
       "    </tr>\n",
       "    <tr>\n",
       "      <td>std</td>\n",
       "      <td>16.900796</td>\n",
       "      <td>33.833748</td>\n",
       "      <td>46.506231</td>\n",
       "    </tr>\n",
       "    <tr>\n",
       "      <td>min</td>\n",
       "      <td>0.000000</td>\n",
       "      <td>1.000000</td>\n",
       "      <td>1.000000</td>\n",
       "    </tr>\n",
       "    <tr>\n",
       "      <td>25%</td>\n",
       "      <td>0.000000</td>\n",
       "      <td>4.000000</td>\n",
       "      <td>5.000000</td>\n",
       "    </tr>\n",
       "    <tr>\n",
       "      <td>50%</td>\n",
       "      <td>2.000000</td>\n",
       "      <td>12.500000</td>\n",
       "      <td>18.000000</td>\n",
       "    </tr>\n",
       "    <tr>\n",
       "      <td>75%</td>\n",
       "      <td>14.750000</td>\n",
       "      <td>37.000000</td>\n",
       "      <td>52.000000</td>\n",
       "    </tr>\n",
       "    <tr>\n",
       "      <td>max</td>\n",
       "      <td>106.000000</td>\n",
       "      <td>196.000000</td>\n",
       "      <td>281.000000</td>\n",
       "    </tr>\n",
       "  </tbody>\n",
       "</table>\n",
       "</div>"
      ],
      "text/plain": [
       "         in_calls   out_calls  total_calls\n",
       "count  874.000000  874.000000   874.000000\n",
       "mean    10.707094   26.664760    37.371854\n",
       "std     16.900796   33.833748    46.506231\n",
       "min      0.000000    1.000000     1.000000\n",
       "25%      0.000000    4.000000     5.000000\n",
       "50%      2.000000   12.500000    18.000000\n",
       "75%     14.750000   37.000000    52.000000\n",
       "max    106.000000  196.000000   281.000000"
      ]
     },
     "execution_count": 48,
     "metadata": {},
     "output_type": "execute_result"
    }
   ],
   "source": [
    "oper_dir.query('operator_id != 1 and out_calls ').drop('operator_id', axis=1).describe()"
   ]
  },
  {
   "cell_type": "code",
   "execution_count": 49,
   "metadata": {},
   "outputs": [
    {
     "data": {
      "image/png": "[encoded data removed]",
      "text/plain": [
       "<Figure size 720x432 with 1 Axes>"
      ]
     },
     "metadata": {
      "needs_background": "light"
     },
     "output_type": "display_data"
    },
    {
     "data": {
      "image/png": "[encoded data removed]",
      "text/plain": [
       "<Figure size 720x432 with 1 Axes>"
      ]
     },
     "metadata": {
      "needs_background": "light"
     },
     "output_type": "display_data"
    },
    {
     "name": "stdout",
     "output_type": "stream",
     "text": [
      "Array of outliers for in_calls - 90%, 92%, 95%, 97% ,99%\n",
      "[34.   37.   47.95 55.57 69.  ]\n"
     ]
    },
    {
     "data": {
      "image/png": "[encoded data removed]",
      "text/plain": [
       "<Figure size 720x432 with 1 Axes>"
      ]
     },
     "metadata": {
      "needs_background": "light"
     },
     "output_type": "display_data"
    },
    {
     "data": {
      "image/png": "[encoded data removed]",
      "text/plain": [
       "<Figure size 720x432 with 1 Axes>"
      ]
     },
     "metadata": {
      "needs_background": "light"
     },
     "output_type": "display_data"
    },
    {
     "name": "stdout",
     "output_type": "stream",
     "text": [
      "Array of outliers for out_calls - 90%, 92%, 95%, 97% ,99%\n",
      "[ 65.    75.52  91.95 111.   146.76]\n"
     ]
    },
    {
     "data": {
      "image/png": "[encoded data removed]",
      "text/plain": [
       "<Figure size 720x432 with 1 Axes>"
      ]
     },
     "metadata": {
      "needs_background": "light"
     },
     "output_type": "display_data"
    },
    {
     "data": {
      "image/png": "[encoded data removed]",
      "text/plain": [
       "<Figure size 720x432 with 1 Axes>"
      ]
     },
     "metadata": {
      "needs_background": "light"
     },
     "output_type": "display_data"
    },
    {
     "name": "stdout",
     "output_type": "stream",
     "text": [
      "Array of outliers for total_calls - 90%, 92%, 95%, 97% ,99%\n",
      "[ 91.   100.52 122.95 157.   199.19]\n"
     ]
    }
   ],
   "source": [
    "plot_distribution(oper_dir.query('operator_id != 1').drop('operator_id', axis=1))"
   ]
  },
  {
   "cell_type": "markdown",
   "metadata": {},
   "source": [
    "## We can see that not all  of the operators receive & make calls (in&out direction)\n",
    "<b> <u> It means that we need to separate the operators to 2 groups - receive and make. </u> </b> It's not right to measure operators that only receive incoming calls by the number of outgoing calls, for example."
   ]
  },
  {
   "cell_type": "markdown",
   "metadata": {},
   "source": [
    "### Show distribution of operators that receive calls"
   ]
  },
  {
   "cell_type": "code",
   "execution_count": 50,
   "metadata": {},
   "outputs": [
    {
     "data": {
      "text/html": [
       "<div>\n",
       "<style scoped>\n",
       "    .dataframe tbody tr th:only-of-type {\n",
       "        vertical-align: middle;\n",
       "    }\n",
       "\n",
       "    .dataframe tbody tr th {\n",
       "        vertical-align: top;\n",
       "    }\n",
       "\n",
       "    .dataframe thead th {\n",
       "        text-align: right;\n",
       "    }\n",
       "</style>\n",
       "<table border=\"1\" class=\"dataframe\">\n",
       "  <thead>\n",
       "    <tr style=\"text-align: right;\">\n",
       "      <th></th>\n",
       "      <th>operator_id</th>\n",
       "      <th>in_calls</th>\n",
       "    </tr>\n",
       "  </thead>\n",
       "  <tbody>\n",
       "    <tr>\n",
       "      <td>750</td>\n",
       "      <td>973286.0</td>\n",
       "      <td>1</td>\n",
       "    </tr>\n",
       "    <tr>\n",
       "      <td>449</td>\n",
       "      <td>932498.0</td>\n",
       "      <td>1</td>\n",
       "    </tr>\n",
       "    <tr>\n",
       "      <td>711</td>\n",
       "      <td>960294.0</td>\n",
       "      <td>1</td>\n",
       "    </tr>\n",
       "    <tr>\n",
       "      <td>321</td>\n",
       "      <td>918958.0</td>\n",
       "      <td>1</td>\n",
       "    </tr>\n",
       "    <tr>\n",
       "      <td>633</td>\n",
       "      <td>948282.0</td>\n",
       "      <td>1</td>\n",
       "    </tr>\n",
       "    <tr>\n",
       "      <td>...</td>\n",
       "      <td>...</td>\n",
       "      <td>...</td>\n",
       "    </tr>\n",
       "    <tr>\n",
       "      <td>252</td>\n",
       "      <td>908958.0</td>\n",
       "      <td>87</td>\n",
       "    </tr>\n",
       "    <tr>\n",
       "      <td>155</td>\n",
       "      <td>901884.0</td>\n",
       "      <td>88</td>\n",
       "    </tr>\n",
       "    <tr>\n",
       "      <td>23</td>\n",
       "      <td>885890.0</td>\n",
       "      <td>93</td>\n",
       "    </tr>\n",
       "    <tr>\n",
       "      <td>253</td>\n",
       "      <td>908960.0</td>\n",
       "      <td>106</td>\n",
       "    </tr>\n",
       "    <tr>\n",
       "      <td>0</td>\n",
       "      <td>1.0</td>\n",
       "      <td>6764</td>\n",
       "    </tr>\n",
       "  </tbody>\n",
       "</table>\n",
       "<p>751 rows × 2 columns</p>\n",
       "</div>"
      ],
      "text/plain": [
       "     operator_id  in_calls\n",
       "750     973286.0         1\n",
       "449     932498.0         1\n",
       "711     960294.0         1\n",
       "321     918958.0         1\n",
       "633     948282.0         1\n",
       "..           ...       ...\n",
       "252     908958.0        87\n",
       "155     901884.0        88\n",
       "23      885890.0        93\n",
       "253     908960.0       106\n",
       "0            1.0      6764\n",
       "\n",
       "[751 rows x 2 columns]"
      ]
     },
     "execution_count": 50,
     "metadata": {},
     "output_type": "execute_result"
    }
   ],
   "source": [
    "# Describe distribution of operators' type of work\n",
    "oper_dir = data.query('direction == \"in\"').pivot_table(index='operator_id', columns='direction', values='calls_count', aggfunc='count'\n",
    "                           ).reset_index().fillna(0)\n",
    "oper_dir.columns = ['operator_id','in_calls']\n",
    "oper_dir.sort_values(by='in_calls')"
   ]
  },
  {
   "cell_type": "code",
   "execution_count": 51,
   "metadata": {},
   "outputs": [
    {
     "data": {
      "text/html": [
       "<div>\n",
       "<style scoped>\n",
       "    .dataframe tbody tr th:only-of-type {\n",
       "        vertical-align: middle;\n",
       "    }\n",
       "\n",
       "    .dataframe tbody tr th {\n",
       "        vertical-align: top;\n",
       "    }\n",
       "\n",
       "    .dataframe thead th {\n",
       "        text-align: right;\n",
       "    }\n",
       "</style>\n",
       "<table border=\"1\" class=\"dataframe\">\n",
       "  <thead>\n",
       "    <tr style=\"text-align: right;\">\n",
       "      <th></th>\n",
       "      <th>in_calls</th>\n",
       "    </tr>\n",
       "  </thead>\n",
       "  <tbody>\n",
       "    <tr>\n",
       "      <td>count</td>\n",
       "      <td>750.000000</td>\n",
       "    </tr>\n",
       "    <tr>\n",
       "      <td>mean</td>\n",
       "      <td>15.481333</td>\n",
       "    </tr>\n",
       "    <tr>\n",
       "      <td>std</td>\n",
       "      <td>17.679661</td>\n",
       "    </tr>\n",
       "    <tr>\n",
       "      <td>min</td>\n",
       "      <td>1.000000</td>\n",
       "    </tr>\n",
       "    <tr>\n",
       "      <td>25%</td>\n",
       "      <td>2.250000</td>\n",
       "    </tr>\n",
       "    <tr>\n",
       "      <td>50%</td>\n",
       "      <td>8.500000</td>\n",
       "    </tr>\n",
       "    <tr>\n",
       "      <td>75%</td>\n",
       "      <td>23.000000</td>\n",
       "    </tr>\n",
       "    <tr>\n",
       "      <td>max</td>\n",
       "      <td>106.000000</td>\n",
       "    </tr>\n",
       "  </tbody>\n",
       "</table>\n",
       "</div>"
      ],
      "text/plain": [
       "         in_calls\n",
       "count  750.000000\n",
       "mean    15.481333\n",
       "std     17.679661\n",
       "min      1.000000\n",
       "25%      2.250000\n",
       "50%      8.500000\n",
       "75%     23.000000\n",
       "max    106.000000"
      ]
     },
     "execution_count": 51,
     "metadata": {},
     "output_type": "execute_result"
    }
   ],
   "source": [
    "oper_dir.query('operator_id != 1').drop('operator_id', axis=1).describe()"
   ]
  },
  {
   "cell_type": "code",
   "execution_count": 52,
   "metadata": {},
   "outputs": [
    {
     "data": {
      "image/png": "[encoded data removed]",
      "text/plain": [
       "<Figure size 720x432 with 1 Axes>"
      ]
     },
     "metadata": {
      "needs_background": "light"
     },
     "output_type": "display_data"
    },
    {
     "data": {
      "image/png": "[encoded data removed]",
      "text/plain": [
       "<Figure size 720x432 with 1 Axes>"
      ]
     },
     "metadata": {
      "needs_background": "light"
     },
     "output_type": "display_data"
    },
    {
     "name": "stdout",
     "output_type": "stream",
     "text": [
      "Array of outliers for in_calls - 90%, 92%, 95%, 97% ,99%\n",
      "[41.   47.   52.55 60.   79.  ]\n"
     ]
    }
   ],
   "source": [
    "plot_distribution(oper_dir.query('operator_id != 1').drop('operator_id', axis=1))"
   ]
  },
  {
   "cell_type": "markdown",
   "metadata": {},
   "source": [
    "### Show distribution of operators that make calls"
   ]
  },
  {
   "cell_type": "code",
   "execution_count": 53,
   "metadata": {},
   "outputs": [
    {
     "data": {
      "text/html": [
       "<div>\n",
       "<style scoped>\n",
       "    .dataframe tbody tr th:only-of-type {\n",
       "        vertical-align: middle;\n",
       "    }\n",
       "\n",
       "    .dataframe tbody tr th {\n",
       "        vertical-align: top;\n",
       "    }\n",
       "\n",
       "    .dataframe thead th {\n",
       "        text-align: right;\n",
       "    }\n",
       "</style>\n",
       "<table border=\"1\" class=\"dataframe\">\n",
       "  <thead>\n",
       "    <tr style=\"text-align: right;\">\n",
       "      <th></th>\n",
       "      <th>operator_id</th>\n",
       "      <th>out_calls</th>\n",
       "    </tr>\n",
       "  </thead>\n",
       "  <tbody>\n",
       "    <tr>\n",
       "      <td>829</td>\n",
       "      <td>961064.0</td>\n",
       "      <td>1</td>\n",
       "    </tr>\n",
       "    <tr>\n",
       "      <td>491</td>\n",
       "      <td>932246.0</td>\n",
       "      <td>1</td>\n",
       "    </tr>\n",
       "    <tr>\n",
       "      <td>75</td>\n",
       "      <td>891918.0</td>\n",
       "      <td>1</td>\n",
       "    </tr>\n",
       "    <tr>\n",
       "      <td>292</td>\n",
       "      <td>914272.0</td>\n",
       "      <td>1</td>\n",
       "    </tr>\n",
       "    <tr>\n",
       "      <td>852</td>\n",
       "      <td>969262.0</td>\n",
       "      <td>1</td>\n",
       "    </tr>\n",
       "    <tr>\n",
       "      <td>...</td>\n",
       "      <td>...</td>\n",
       "      <td>...</td>\n",
       "    </tr>\n",
       "    <tr>\n",
       "      <td>0</td>\n",
       "      <td>1.0</td>\n",
       "      <td>165</td>\n",
       "    </tr>\n",
       "    <tr>\n",
       "      <td>203</td>\n",
       "      <td>905564.0</td>\n",
       "      <td>169</td>\n",
       "    </tr>\n",
       "    <tr>\n",
       "      <td>204</td>\n",
       "      <td>905566.0</td>\n",
       "      <td>169</td>\n",
       "    </tr>\n",
       "    <tr>\n",
       "      <td>164</td>\n",
       "      <td>901884.0</td>\n",
       "      <td>193</td>\n",
       "    </tr>\n",
       "    <tr>\n",
       "      <td>28</td>\n",
       "      <td>887276.0</td>\n",
       "      <td>196</td>\n",
       "    </tr>\n",
       "  </tbody>\n",
       "</table>\n",
       "<p>875 rows × 2 columns</p>\n",
       "</div>"
      ],
      "text/plain": [
       "     operator_id  out_calls\n",
       "829     961064.0          1\n",
       "491     932246.0          1\n",
       "75      891918.0          1\n",
       "292     914272.0          1\n",
       "852     969262.0          1\n",
       "..           ...        ...\n",
       "0            1.0        165\n",
       "203     905564.0        169\n",
       "204     905566.0        169\n",
       "164     901884.0        193\n",
       "28      887276.0        196\n",
       "\n",
       "[875 rows x 2 columns]"
      ]
     },
     "execution_count": 53,
     "metadata": {},
     "output_type": "execute_result"
    }
   ],
   "source": [
    "# Describe distribution of operators' type of work\n",
    "oper_dir = data.query('direction == \"out\"').pivot_table(index='operator_id', columns='direction', values='calls_count', aggfunc='count'\n",
    "                           ).reset_index().fillna(0)\n",
    "oper_dir.columns = ['operator_id','out_calls']\n",
    "oper_dir.sort_values(by='out_calls')"
   ]
  },
  {
   "cell_type": "code",
   "execution_count": 54,
   "metadata": {},
   "outputs": [
    {
     "data": {
      "text/html": [
       "<div>\n",
       "<style scoped>\n",
       "    .dataframe tbody tr th:only-of-type {\n",
       "        vertical-align: middle;\n",
       "    }\n",
       "\n",
       "    .dataframe tbody tr th {\n",
       "        vertical-align: top;\n",
       "    }\n",
       "\n",
       "    .dataframe thead th {\n",
       "        text-align: right;\n",
       "    }\n",
       "</style>\n",
       "<table border=\"1\" class=\"dataframe\">\n",
       "  <thead>\n",
       "    <tr style=\"text-align: right;\">\n",
       "      <th></th>\n",
       "      <th>out_calls</th>\n",
       "    </tr>\n",
       "  </thead>\n",
       "  <tbody>\n",
       "    <tr>\n",
       "      <td>count</td>\n",
       "      <td>874.000000</td>\n",
       "    </tr>\n",
       "    <tr>\n",
       "      <td>mean</td>\n",
       "      <td>26.664760</td>\n",
       "    </tr>\n",
       "    <tr>\n",
       "      <td>std</td>\n",
       "      <td>33.833748</td>\n",
       "    </tr>\n",
       "    <tr>\n",
       "      <td>min</td>\n",
       "      <td>1.000000</td>\n",
       "    </tr>\n",
       "    <tr>\n",
       "      <td>25%</td>\n",
       "      <td>4.000000</td>\n",
       "    </tr>\n",
       "    <tr>\n",
       "      <td>50%</td>\n",
       "      <td>12.500000</td>\n",
       "    </tr>\n",
       "    <tr>\n",
       "      <td>75%</td>\n",
       "      <td>37.000000</td>\n",
       "    </tr>\n",
       "    <tr>\n",
       "      <td>max</td>\n",
       "      <td>196.000000</td>\n",
       "    </tr>\n",
       "  </tbody>\n",
       "</table>\n",
       "</div>"
      ],
      "text/plain": [
       "        out_calls\n",
       "count  874.000000\n",
       "mean    26.664760\n",
       "std     33.833748\n",
       "min      1.000000\n",
       "25%      4.000000\n",
       "50%     12.500000\n",
       "75%     37.000000\n",
       "max    196.000000"
      ]
     },
     "execution_count": 54,
     "metadata": {},
     "output_type": "execute_result"
    }
   ],
   "source": [
    "oper_dir.query('operator_id != 1').drop('operator_id', axis=1).describe()"
   ]
  },
  {
   "cell_type": "code",
   "execution_count": 55,
   "metadata": {},
   "outputs": [
    {
     "data": {
      "image/png": "[encoded data removed]",
      "text/plain": [
       "<Figure size 720x432 with 1 Axes>"
      ]
     },
     "metadata": {
      "needs_background": "light"
     },
     "output_type": "display_data"
    },
    {
     "data": {
      "image/png": "[encoded data removed]",
      "text/plain": [
       "<Figure size 720x432 with 1 Axes>"
      ]
     },
     "metadata": {
      "needs_background": "light"
     },
     "output_type": "display_data"
    },
    {
     "name": "stdout",
     "output_type": "stream",
     "text": [
      "Array of outliers for out_calls - 90%, 92%, 95%, 97% ,99%\n",
      "[ 75.    81.   102.35 115.   152.35]\n"
     ]
    }
   ],
   "source": [
    "plot_distribution(oper_dir.query('operator_id != 1').drop('operator_id', axis=1))"
   ]
  },
  {
   "cell_type": "code",
   "execution_count": 56,
   "metadata": {},
   "outputs": [
    {
     "data": {
      "text/plain": [
       "543"
      ]
     },
     "execution_count": 56,
     "metadata": {},
     "output_type": "execute_result"
    }
   ],
   "source": [
    "### Number of operators that receive and make calls both\n",
    "len(data.groupby('operator_id').agg({'direction': 'nunique'}).query('direction == 2'))"
   ]
  },
  {
   "cell_type": "code",
   "execution_count": 57,
   "metadata": {},
   "outputs": [
    {
     "data": {
      "text/html": [
       "<div>\n",
       "<style scoped>\n",
       "    .dataframe tbody tr th:only-of-type {\n",
       "        vertical-align: middle;\n",
       "    }\n",
       "\n",
       "    .dataframe tbody tr th {\n",
       "        vertical-align: top;\n",
       "    }\n",
       "\n",
       "    .dataframe thead th {\n",
       "        text-align: right;\n",
       "    }\n",
       "</style>\n",
       "<table border=\"1\" class=\"dataframe\">\n",
       "  <thead>\n",
       "    <tr style=\"text-align: right;\">\n",
       "      <th></th>\n",
       "      <th>operator_id</th>\n",
       "      <th>direction</th>\n",
       "    </tr>\n",
       "  </thead>\n",
       "  <tbody>\n",
       "    <tr>\n",
       "      <td>0</td>\n",
       "      <td>1.0</td>\n",
       "      <td>2</td>\n",
       "    </tr>\n",
       "    <tr>\n",
       "      <td>1</td>\n",
       "      <td>879896.0</td>\n",
       "      <td>2</td>\n",
       "    </tr>\n",
       "    <tr>\n",
       "      <td>2</td>\n",
       "      <td>879898.0</td>\n",
       "      <td>2</td>\n",
       "    </tr>\n",
       "    <tr>\n",
       "      <td>3</td>\n",
       "      <td>880020.0</td>\n",
       "      <td>2</td>\n",
       "    </tr>\n",
       "    <tr>\n",
       "      <td>4</td>\n",
       "      <td>880022.0</td>\n",
       "      <td>2</td>\n",
       "    </tr>\n",
       "  </tbody>\n",
       "</table>\n",
       "</div>"
      ],
      "text/plain": [
       "   operator_id  direction\n",
       "0          1.0          2\n",
       "1     879896.0          2\n",
       "2     879898.0          2\n",
       "3     880020.0          2\n",
       "4     880022.0          2"
      ]
     },
     "execution_count": 57,
     "metadata": {},
     "output_type": "execute_result"
    }
   ],
   "source": [
    "data.groupby('operator_id').agg({'direction': 'nunique'}).query('direction == 2').reset_index().head()"
   ]
  },
  {
   "cell_type": "markdown",
   "metadata": {},
   "source": [
    "### 1082 operators  - 750 receive calls, 874 make calls, 542 do both (not included empties)."
   ]
  },
  {
   "cell_type": "markdown",
   "metadata": {},
   "source": [
    "### Checking correlations between the columns"
   ]
  },
  {
   "cell_type": "code",
   "execution_count": 58,
   "metadata": {},
   "outputs": [
    {
     "data": {
      "image/png": "[encoded data removed]",
      "text/plain": [
       "<Figure size 720x576 with 2 Axes>"
      ]
     },
     "metadata": {
      "needs_background": "light"
     },
     "output_type": "display_data"
    }
   ],
   "source": [
    "fig, ax = plt.subplots(figsize=(10, 8))\n",
    "sns.heatmap(data.corr(), annot=True, fmt='.2f', ax=ax)\n",
    "plt.title('Heatmap Correlation Between Columns', fontsize=15)\n",
    "plt.show()"
   ]
  },
  {
   "cell_type": "markdown",
   "metadata": {},
   "source": [
    "<b> 1. There's a strong correlation between 'call_duration' and 'total_call_duration' (97%) </b> - which is obvious.\n",
    "\n",
    "<b> 2. There's an interesting correlation between 'calls_count' and 'wait_duration' (81%) </b> - It may mean that ineffective operators have big number of missing calls and long waiting time, we'll check it out! "
   ]
  },
  {
   "cell_type": "markdown",
   "metadata": {},
   "source": [
    "###  Adding columns for number of successful & missing calls"
   ]
  },
  {
   "cell_type": "code",
   "execution_count": 59,
   "metadata": {},
   "outputs": [],
   "source": [
    "data['missed_calls'] = data['calls_count']\n",
    "data.loc[data['is_missed_call']  == False, 'missed_calls'] -=  1\n",
    "data['succ_calls'] = 0\n",
    "data.loc[data['is_missed_call']  == False, 'succ_calls'] =  1\n",
    "data = data[['user_id', 'date', 'direction', 'internal', 'operator_id',\n",
    "       'is_missed_call', 'calls_count', 'missed_calls', 'succ_calls', 'call_duration', 'total_call_duration',\n",
    "       'wait_duration', 'tariff_plan', 'date_start']]"
   ]
  },
  {
   "cell_type": "code",
   "execution_count": 60,
   "metadata": {},
   "outputs": [
    {
     "data": {
      "text/html": [
       "<div>\n",
       "<style scoped>\n",
       "    .dataframe tbody tr th:only-of-type {\n",
       "        vertical-align: middle;\n",
       "    }\n",
       "\n",
       "    .dataframe tbody tr th {\n",
       "        vertical-align: top;\n",
       "    }\n",
       "\n",
       "    .dataframe thead th {\n",
       "        text-align: right;\n",
       "    }\n",
       "</style>\n",
       "<table border=\"1\" class=\"dataframe\">\n",
       "  <thead>\n",
       "    <tr style=\"text-align: right;\">\n",
       "      <th></th>\n",
       "      <th>user_id</th>\n",
       "      <th>date</th>\n",
       "      <th>direction</th>\n",
       "      <th>internal</th>\n",
       "      <th>operator_id</th>\n",
       "      <th>is_missed_call</th>\n",
       "      <th>calls_count</th>\n",
       "      <th>missed_calls</th>\n",
       "      <th>succ_calls</th>\n",
       "      <th>call_duration</th>\n",
       "      <th>total_call_duration</th>\n",
       "      <th>wait_duration</th>\n",
       "      <th>tariff_plan</th>\n",
       "      <th>date_start</th>\n",
       "    </tr>\n",
       "  </thead>\n",
       "  <tbody>\n",
       "    <tr>\n",
       "      <td>0</td>\n",
       "      <td>166377</td>\n",
       "      <td>2019-08-04</td>\n",
       "      <td>in</td>\n",
       "      <td>False</td>\n",
       "      <td>1.0</td>\n",
       "      <td>True</td>\n",
       "      <td>2</td>\n",
       "      <td>2</td>\n",
       "      <td>0</td>\n",
       "      <td>0</td>\n",
       "      <td>4</td>\n",
       "      <td>4</td>\n",
       "      <td>B</td>\n",
       "      <td>2019-08-01</td>\n",
       "    </tr>\n",
       "    <tr>\n",
       "      <td>1</td>\n",
       "      <td>166377</td>\n",
       "      <td>2019-08-05</td>\n",
       "      <td>out</td>\n",
       "      <td>True</td>\n",
       "      <td>880022.0</td>\n",
       "      <td>True</td>\n",
       "      <td>3</td>\n",
       "      <td>3</td>\n",
       "      <td>0</td>\n",
       "      <td>0</td>\n",
       "      <td>5</td>\n",
       "      <td>5</td>\n",
       "      <td>B</td>\n",
       "      <td>2019-08-01</td>\n",
       "    </tr>\n",
       "    <tr>\n",
       "      <td>2</td>\n",
       "      <td>166377</td>\n",
       "      <td>2019-08-05</td>\n",
       "      <td>out</td>\n",
       "      <td>True</td>\n",
       "      <td>880020.0</td>\n",
       "      <td>True</td>\n",
       "      <td>1</td>\n",
       "      <td>1</td>\n",
       "      <td>0</td>\n",
       "      <td>0</td>\n",
       "      <td>1</td>\n",
       "      <td>1</td>\n",
       "      <td>B</td>\n",
       "      <td>2019-08-01</td>\n",
       "    </tr>\n",
       "    <tr>\n",
       "      <td>3</td>\n",
       "      <td>166377</td>\n",
       "      <td>2019-08-05</td>\n",
       "      <td>out</td>\n",
       "      <td>True</td>\n",
       "      <td>880020.0</td>\n",
       "      <td>False</td>\n",
       "      <td>1</td>\n",
       "      <td>0</td>\n",
       "      <td>1</td>\n",
       "      <td>10</td>\n",
       "      <td>18</td>\n",
       "      <td>8</td>\n",
       "      <td>B</td>\n",
       "      <td>2019-08-01</td>\n",
       "    </tr>\n",
       "    <tr>\n",
       "      <td>4</td>\n",
       "      <td>166377</td>\n",
       "      <td>2019-08-05</td>\n",
       "      <td>out</td>\n",
       "      <td>False</td>\n",
       "      <td>880022.0</td>\n",
       "      <td>True</td>\n",
       "      <td>3</td>\n",
       "      <td>3</td>\n",
       "      <td>0</td>\n",
       "      <td>0</td>\n",
       "      <td>25</td>\n",
       "      <td>25</td>\n",
       "      <td>B</td>\n",
       "      <td>2019-08-01</td>\n",
       "    </tr>\n",
       "  </tbody>\n",
       "</table>\n",
       "</div>"
      ],
      "text/plain": [
       "   user_id       date direction  internal  operator_id  is_missed_call  \\\n",
       "0   166377 2019-08-04        in     False          1.0            True   \n",
       "1   166377 2019-08-05       out      True     880022.0            True   \n",
       "2   166377 2019-08-05       out      True     880020.0            True   \n",
       "3   166377 2019-08-05       out      True     880020.0           False   \n",
       "4   166377 2019-08-05       out     False     880022.0            True   \n",
       "\n",
       "   calls_count  missed_calls  succ_calls  call_duration  total_call_duration  \\\n",
       "0            2             2           0              0                    4   \n",
       "1            3             3           0              0                    5   \n",
       "2            1             1           0              0                    1   \n",
       "3            1             0           1             10                   18   \n",
       "4            3             3           0              0                   25   \n",
       "\n",
       "   wait_duration tariff_plan date_start  \n",
       "0              4           B 2019-08-01  \n",
       "1              5           B 2019-08-01  \n",
       "2              1           B 2019-08-01  \n",
       "3              8           B 2019-08-01  \n",
       "4             25           B 2019-08-01  "
      ]
     },
     "execution_count": 60,
     "metadata": {},
     "output_type": "execute_result"
    }
   ],
   "source": [
    "data.head()"
   ]
  },
  {
   "cell_type": "markdown",
   "metadata": {},
   "source": [
    "#  <a id=\"third_step\"> Third stage - define effective & ineffective operators: </a> \n",
    "- <b> We saw during the EDA that not all of the operators make outgoing calls and also receive incoming calls ('direction' in & out). </b>\n",
    "\n",
    "\n",
    "- <b> It means that we need to analzye this 2 kinds of operators separately - </b> It's not right to measure operatorot s that only receive incoming calls by the number of outgoing calls, for example.\n",
    "\n",
    "\n",
    "- <b> Give a rank for operators that make outgoing calls ('out' direction) based on: </b>\n",
    "    - Number of successful outgoing calls (call is not missed, conversation was occurred) - measure by quantity.\n",
    "    - Percent of successul outgoing calls (call is not missed, conversation was occurred) - measure by quality.\n",
    "    - Time call - distance from the mean, normality leads; not too long, not too short.\n",
    "\n",
    "\n",
    "- <b> Give a rank for operators that receive incoming calls ('in' direction) based on: </b>\n",
    "    - Number of successful incoming calls (call is not missed, conversation was occurred) - measure by quantity.\n",
    "    - Percent of missing incoming calls - measure by quality.\n",
    "    - Wait Time call - the less it the best.\n"
   ]
  },
  {
   "cell_type": "markdown",
   "metadata": {},
   "source": [
    "###  Define operators that make outgoing calls ('out' direction')"
   ]
  },
  {
   "cell_type": "code",
   "execution_count": 61,
   "metadata": {},
   "outputs": [],
   "source": [
    "out_data = data.query('direction == \"out\"')"
   ]
  },
  {
   "cell_type": "code",
   "execution_count": 62,
   "metadata": {},
   "outputs": [
    {
     "data": {
      "text/html": [
       "<div>\n",
       "<style scoped>\n",
       "    .dataframe tbody tr th:only-of-type {\n",
       "        vertical-align: middle;\n",
       "    }\n",
       "\n",
       "    .dataframe tbody tr th {\n",
       "        vertical-align: top;\n",
       "    }\n",
       "\n",
       "    .dataframe thead th {\n",
       "        text-align: right;\n",
       "    }\n",
       "</style>\n",
       "<table border=\"1\" class=\"dataframe\">\n",
       "  <thead>\n",
       "    <tr style=\"text-align: right;\">\n",
       "      <th></th>\n",
       "      <th>operator_id</th>\n",
       "      <th>calls_count</th>\n",
       "      <th>succ_calls</th>\n",
       "      <th>succ_perc</th>\n",
       "    </tr>\n",
       "  </thead>\n",
       "  <tbody>\n",
       "    <tr>\n",
       "      <td>0</td>\n",
       "      <td>1.0</td>\n",
       "      <td>237</td>\n",
       "      <td>26</td>\n",
       "      <td>10.97</td>\n",
       "    </tr>\n",
       "    <tr>\n",
       "      <td>1</td>\n",
       "      <td>879896.0</td>\n",
       "      <td>475</td>\n",
       "      <td>41</td>\n",
       "      <td>8.63</td>\n",
       "    </tr>\n",
       "    <tr>\n",
       "      <td>2</td>\n",
       "      <td>879898.0</td>\n",
       "      <td>1265</td>\n",
       "      <td>20</td>\n",
       "      <td>1.58</td>\n",
       "    </tr>\n",
       "    <tr>\n",
       "      <td>3</td>\n",
       "      <td>880020.0</td>\n",
       "      <td>36</td>\n",
       "      <td>6</td>\n",
       "      <td>16.67</td>\n",
       "    </tr>\n",
       "    <tr>\n",
       "      <td>4</td>\n",
       "      <td>880022.0</td>\n",
       "      <td>189</td>\n",
       "      <td>33</td>\n",
       "      <td>17.46</td>\n",
       "    </tr>\n",
       "  </tbody>\n",
       "</table>\n",
       "</div>"
      ],
      "text/plain": [
       "   operator_id  calls_count  succ_calls  succ_perc\n",
       "0          1.0          237          26      10.97\n",
       "1     879896.0          475          41       8.63\n",
       "2     879898.0         1265          20       1.58\n",
       "3     880020.0           36           6      16.67\n",
       "4     880022.0          189          33      17.46"
      ]
     },
     "execution_count": 62,
     "metadata": {},
     "output_type": "execute_result"
    }
   ],
   "source": [
    "# Calculate number of successful calls & percent of success\n",
    "out_data_calls = out_data.groupby('operator_id').agg({'calls_count': 'sum','succ_calls': 'sum'}).reset_index()\n",
    "out_data_calls['succ_perc'] = round(out_data_calls.succ_calls / out_data_calls.calls_count * 100, 2)\n",
    "out_data_calls.head()"
   ]
  },
  {
   "cell_type": "code",
   "execution_count": 63,
   "metadata": {},
   "outputs": [
    {
     "data": {
      "text/html": [
       "<div>\n",
       "<style scoped>\n",
       "    .dataframe tbody tr th:only-of-type {\n",
       "        vertical-align: middle;\n",
       "    }\n",
       "\n",
       "    .dataframe tbody tr th {\n",
       "        vertical-align: top;\n",
       "    }\n",
       "\n",
       "    .dataframe thead th {\n",
       "        text-align: right;\n",
       "    }\n",
       "</style>\n",
       "<table border=\"1\" class=\"dataframe\">\n",
       "  <thead>\n",
       "    <tr style=\"text-align: right;\">\n",
       "      <th></th>\n",
       "      <th>operator_id</th>\n",
       "      <th>avg_call_duration</th>\n",
       "      <th>abs_dist_mean</th>\n",
       "    </tr>\n",
       "  </thead>\n",
       "  <tbody>\n",
       "    <tr>\n",
       "      <td>0</td>\n",
       "      <td>1.0</td>\n",
       "      <td>707.384615</td>\n",
       "      <td>173.947610</td>\n",
       "    </tr>\n",
       "    <tr>\n",
       "      <td>1</td>\n",
       "      <td>879896.0</td>\n",
       "      <td>460.902439</td>\n",
       "      <td>72.534567</td>\n",
       "    </tr>\n",
       "    <tr>\n",
       "      <td>2</td>\n",
       "      <td>879898.0</td>\n",
       "      <td>727.850000</td>\n",
       "      <td>194.412994</td>\n",
       "    </tr>\n",
       "    <tr>\n",
       "      <td>3</td>\n",
       "      <td>880020.0</td>\n",
       "      <td>323.833333</td>\n",
       "      <td>209.603672</td>\n",
       "    </tr>\n",
       "    <tr>\n",
       "      <td>4</td>\n",
       "      <td>880022.0</td>\n",
       "      <td>443.484848</td>\n",
       "      <td>89.952157</td>\n",
       "    </tr>\n",
       "  </tbody>\n",
       "</table>\n",
       "</div>"
      ],
      "text/plain": [
       "   operator_id  avg_call_duration  abs_dist_mean\n",
       "0          1.0         707.384615     173.947610\n",
       "1     879896.0         460.902439      72.534567\n",
       "2     879898.0         727.850000     194.412994\n",
       "3     880020.0         323.833333     209.603672\n",
       "4     880022.0         443.484848      89.952157"
      ]
     },
     "execution_count": 63,
     "metadata": {},
     "output_type": "execute_result"
    }
   ],
   "source": [
    "# Calculate average time call \n",
    "out_data_time_call = out_data.query('is_missed_call == False').groupby('operator_id').agg({\n",
    "    'call_duration':  'mean'}).reset_index().rename(columns={'call_duration': 'avg_call_duration'})\n",
    "\n",
    "# Calculate absolute distance from the mean\n",
    "out_data_time_call['abs_dist_mean'] = abs(\n",
    "out_data_time_call['avg_call_duration'] - out_data_time_call['avg_call_duration'].mean())\n",
    "out_data_time_call.head()"
   ]
  },
  {
   "cell_type": "code",
   "execution_count": 64,
   "metadata": {},
   "outputs": [
    {
     "data": {
      "text/html": [
       "<div>\n",
       "<style scoped>\n",
       "    .dataframe tbody tr th:only-of-type {\n",
       "        vertical-align: middle;\n",
       "    }\n",
       "\n",
       "    .dataframe tbody tr th {\n",
       "        vertical-align: top;\n",
       "    }\n",
       "\n",
       "    .dataframe thead th {\n",
       "        text-align: right;\n",
       "    }\n",
       "</style>\n",
       "<table border=\"1\" class=\"dataframe\">\n",
       "  <thead>\n",
       "    <tr style=\"text-align: right;\">\n",
       "      <th></th>\n",
       "      <th>avg_call_duration</th>\n",
       "    </tr>\n",
       "  </thead>\n",
       "  <tbody>\n",
       "    <tr>\n",
       "      <td>count</td>\n",
       "      <td>774.000000</td>\n",
       "    </tr>\n",
       "    <tr>\n",
       "      <td>mean</td>\n",
       "      <td>533.437006</td>\n",
       "    </tr>\n",
       "    <tr>\n",
       "      <td>std</td>\n",
       "      <td>482.984234</td>\n",
       "    </tr>\n",
       "    <tr>\n",
       "      <td>min</td>\n",
       "      <td>4.000000</td>\n",
       "    </tr>\n",
       "    <tr>\n",
       "      <td>25%</td>\n",
       "      <td>144.625000</td>\n",
       "    </tr>\n",
       "    <tr>\n",
       "      <td>50%</td>\n",
       "      <td>388.465116</td>\n",
       "    </tr>\n",
       "    <tr>\n",
       "      <td>75%</td>\n",
       "      <td>785.848485</td>\n",
       "    </tr>\n",
       "    <tr>\n",
       "      <td>max</td>\n",
       "      <td>2344.000000</td>\n",
       "    </tr>\n",
       "  </tbody>\n",
       "</table>\n",
       "</div>"
      ],
      "text/plain": [
       "       avg_call_duration\n",
       "count         774.000000\n",
       "mean          533.437006\n",
       "std           482.984234\n",
       "min             4.000000\n",
       "25%           144.625000\n",
       "50%           388.465116\n",
       "75%           785.848485\n",
       "max          2344.000000"
      ]
     },
     "execution_count": 64,
     "metadata": {},
     "output_type": "execute_result"
    }
   ],
   "source": [
    "out_data_time_call[['avg_call_duration']].describe()"
   ]
  },
  {
   "cell_type": "code",
   "execution_count": 65,
   "metadata": {},
   "outputs": [
    {
     "name": "stdout",
     "output_type": "stream",
     "text": [
      "Number of operators that didn't succeed to make a call: 101\n"
     ]
    }
   ],
   "source": [
    "print(\"Number of operators that didn't succeed to make a call:\" , len(out_data_calls) - len(out_data_time_call))"
   ]
  },
  {
   "cell_type": "markdown",
   "metadata": {},
   "source": [
    "### We  can see that 101 operators didn't succeed to make a call! \n",
    "Their rank has to be the lowest - so we'll give them the biggest value of absolute distance from the mean"
   ]
  },
  {
   "cell_type": "code",
   "execution_count": 66,
   "metadata": {},
   "outputs": [
    {
     "data": {
      "text/html": [
       "<div>\n",
       "<style scoped>\n",
       "    .dataframe tbody tr th:only-of-type {\n",
       "        vertical-align: middle;\n",
       "    }\n",
       "\n",
       "    .dataframe tbody tr th {\n",
       "        vertical-align: top;\n",
       "    }\n",
       "\n",
       "    .dataframe thead th {\n",
       "        text-align: right;\n",
       "    }\n",
       "</style>\n",
       "<table border=\"1\" class=\"dataframe\">\n",
       "  <thead>\n",
       "    <tr style=\"text-align: right;\">\n",
       "      <th></th>\n",
       "      <th>operator_id</th>\n",
       "      <th>calls_count</th>\n",
       "      <th>succ_calls</th>\n",
       "      <th>succ_perc</th>\n",
       "      <th>avg_call_duration</th>\n",
       "      <th>abs_dist_mean</th>\n",
       "    </tr>\n",
       "  </thead>\n",
       "  <tbody>\n",
       "    <tr>\n",
       "      <td>0</td>\n",
       "      <td>1.0</td>\n",
       "      <td>237</td>\n",
       "      <td>26</td>\n",
       "      <td>10.97</td>\n",
       "      <td>707.38</td>\n",
       "      <td>173.95</td>\n",
       "    </tr>\n",
       "    <tr>\n",
       "      <td>1</td>\n",
       "      <td>879896.0</td>\n",
       "      <td>475</td>\n",
       "      <td>41</td>\n",
       "      <td>8.63</td>\n",
       "      <td>460.90</td>\n",
       "      <td>72.53</td>\n",
       "    </tr>\n",
       "    <tr>\n",
       "      <td>2</td>\n",
       "      <td>879898.0</td>\n",
       "      <td>1265</td>\n",
       "      <td>20</td>\n",
       "      <td>1.58</td>\n",
       "      <td>727.85</td>\n",
       "      <td>194.41</td>\n",
       "    </tr>\n",
       "    <tr>\n",
       "      <td>3</td>\n",
       "      <td>880020.0</td>\n",
       "      <td>36</td>\n",
       "      <td>6</td>\n",
       "      <td>16.67</td>\n",
       "      <td>323.83</td>\n",
       "      <td>209.60</td>\n",
       "    </tr>\n",
       "    <tr>\n",
       "      <td>4</td>\n",
       "      <td>880022.0</td>\n",
       "      <td>189</td>\n",
       "      <td>33</td>\n",
       "      <td>17.46</td>\n",
       "      <td>443.48</td>\n",
       "      <td>89.95</td>\n",
       "    </tr>\n",
       "  </tbody>\n",
       "</table>\n",
       "</div>"
      ],
      "text/plain": [
       "   operator_id  calls_count  succ_calls  succ_perc  avg_call_duration  \\\n",
       "0          1.0          237          26      10.97             707.38   \n",
       "1     879896.0          475          41       8.63             460.90   \n",
       "2     879898.0         1265          20       1.58             727.85   \n",
       "3     880020.0           36           6      16.67             323.83   \n",
       "4     880022.0          189          33      17.46             443.48   \n",
       "\n",
       "   abs_dist_mean  \n",
       "0         173.95  \n",
       "1          72.53  \n",
       "2         194.41  \n",
       "3         209.60  \n",
       "4          89.95  "
      ]
     },
     "execution_count": 66,
     "metadata": {},
     "output_type": "execute_result"
    }
   ],
   "source": [
    "# Merge data of calls & time\n",
    "out_data_grouped  = out_data_calls.merge(out_data_time_call,  on='operator_id', how='left')\n",
    "\n",
    "# Sign for unsuccessful calls = value of 10,000\n",
    "out_data_grouped.loc[out_data_grouped['avg_call_duration'].isnull(), 'avg_call_duration'] = 10000\n",
    "out_data_grouped.loc[out_data_grouped['abs_dist_mean'].isnull(), 'abs_dist_mean'] = 10000\n",
    "\n",
    "# Round time results\n",
    "out_data_grouped['avg_call_duration'] = round(out_data_grouped['avg_call_duration'] , 2)\n",
    "out_data_grouped['abs_dist_mean'] = round(out_data_grouped['abs_dist_mean'] , 2)\n",
    "out_data_grouped.head()"
   ]
  },
  {
   "cell_type": "markdown",
   "metadata": {},
   "source": [
    "### Rank results\n",
    "- succ_calls - the more, the best\n",
    "- succ_perc - the higher,  the best\n",
    "- abs_dist_mean - the less, the best"
   ]
  },
  {
   "cell_type": "code",
   "execution_count": 67,
   "metadata": {},
   "outputs": [],
   "source": [
    "def oper_rank(total_rank):\n",
    "    # Gets rank (number)\n",
    "    # returns number of group the rank is  belonged.\n",
    "    # 3-5: Ineffective\n",
    "    # 6-9: Average\n",
    "    # 10-12: Effective\n",
    "    if total_rank < 6:\n",
    "        return 1\n",
    "    elif total_rank < 10:\n",
    "        return 2\n",
    "    return 3"
   ]
  },
  {
   "cell_type": "code",
   "execution_count": 68,
   "metadata": {},
   "outputs": [
    {
     "data": {
      "text/html": [
       "<div>\n",
       "<style scoped>\n",
       "    .dataframe tbody tr th:only-of-type {\n",
       "        vertical-align: middle;\n",
       "    }\n",
       "\n",
       "    .dataframe tbody tr th {\n",
       "        vertical-align: top;\n",
       "    }\n",
       "\n",
       "    .dataframe thead th {\n",
       "        text-align: right;\n",
       "    }\n",
       "</style>\n",
       "<table border=\"1\" class=\"dataframe\">\n",
       "  <thead>\n",
       "    <tr style=\"text-align: right;\">\n",
       "      <th></th>\n",
       "      <th>operator_id</th>\n",
       "      <th>calls_count</th>\n",
       "      <th>succ_calls</th>\n",
       "      <th>succ_perc</th>\n",
       "      <th>avg_call_duration</th>\n",
       "      <th>abs_dist_mean</th>\n",
       "      <th>succ_calls_rank</th>\n",
       "      <th>succ_perc_rank</th>\n",
       "      <th>call_duration_rank</th>\n",
       "      <th>total_rank</th>\n",
       "      <th>rank_group</th>\n",
       "    </tr>\n",
       "  </thead>\n",
       "  <tbody>\n",
       "    <tr>\n",
       "      <td>763</td>\n",
       "      <td>952466.0</td>\n",
       "      <td>42</td>\n",
       "      <td>1</td>\n",
       "      <td>2.38</td>\n",
       "      <td>1098.00</td>\n",
       "      <td>564.56</td>\n",
       "      <td>1</td>\n",
       "      <td>1</td>\n",
       "      <td>1</td>\n",
       "      <td>3</td>\n",
       "      <td>1</td>\n",
       "    </tr>\n",
       "    <tr>\n",
       "      <td>680</td>\n",
       "      <td>945284.0</td>\n",
       "      <td>335</td>\n",
       "      <td>1</td>\n",
       "      <td>0.30</td>\n",
       "      <td>1148.00</td>\n",
       "      <td>614.56</td>\n",
       "      <td>1</td>\n",
       "      <td>1</td>\n",
       "      <td>1</td>\n",
       "      <td>3</td>\n",
       "      <td>1</td>\n",
       "    </tr>\n",
       "    <tr>\n",
       "      <td>694</td>\n",
       "      <td>945318.0</td>\n",
       "      <td>332</td>\n",
       "      <td>1</td>\n",
       "      <td>0.30</td>\n",
       "      <td>1281.00</td>\n",
       "      <td>747.56</td>\n",
       "      <td>1</td>\n",
       "      <td>1</td>\n",
       "      <td>1</td>\n",
       "      <td>3</td>\n",
       "      <td>1</td>\n",
       "    </tr>\n",
       "    <tr>\n",
       "      <td>771</td>\n",
       "      <td>953458.0</td>\n",
       "      <td>38</td>\n",
       "      <td>1</td>\n",
       "      <td>2.63</td>\n",
       "      <td>1327.00</td>\n",
       "      <td>793.56</td>\n",
       "      <td>1</td>\n",
       "      <td>1</td>\n",
       "      <td>1</td>\n",
       "      <td>3</td>\n",
       "      <td>1</td>\n",
       "    </tr>\n",
       "    <tr>\n",
       "      <td>367</td>\n",
       "      <td>919482.0</td>\n",
       "      <td>76</td>\n",
       "      <td>1</td>\n",
       "      <td>1.32</td>\n",
       "      <td>1449.00</td>\n",
       "      <td>915.56</td>\n",
       "      <td>1</td>\n",
       "      <td>1</td>\n",
       "      <td>1</td>\n",
       "      <td>3</td>\n",
       "      <td>1</td>\n",
       "    </tr>\n",
       "    <tr>\n",
       "      <td>...</td>\n",
       "      <td>...</td>\n",
       "      <td>...</td>\n",
       "      <td>...</td>\n",
       "      <td>...</td>\n",
       "      <td>...</td>\n",
       "      <td>...</td>\n",
       "      <td>...</td>\n",
       "      <td>...</td>\n",
       "      <td>...</td>\n",
       "      <td>...</td>\n",
       "      <td>...</td>\n",
       "    </tr>\n",
       "    <tr>\n",
       "      <td>230</td>\n",
       "      <td>906416.0</td>\n",
       "      <td>77</td>\n",
       "      <td>22</td>\n",
       "      <td>28.57</td>\n",
       "      <td>604.14</td>\n",
       "      <td>70.70</td>\n",
       "      <td>4</td>\n",
       "      <td>4</td>\n",
       "      <td>4</td>\n",
       "      <td>12</td>\n",
       "      <td>3</td>\n",
       "    </tr>\n",
       "    <tr>\n",
       "      <td>467</td>\n",
       "      <td>929876.0</td>\n",
       "      <td>78</td>\n",
       "      <td>24</td>\n",
       "      <td>30.77</td>\n",
       "      <td>428.71</td>\n",
       "      <td>104.73</td>\n",
       "      <td>4</td>\n",
       "      <td>4</td>\n",
       "      <td>4</td>\n",
       "      <td>12</td>\n",
       "      <td>3</td>\n",
       "    </tr>\n",
       "    <tr>\n",
       "      <td>322</td>\n",
       "      <td>917856.0</td>\n",
       "      <td>74</td>\n",
       "      <td>21</td>\n",
       "      <td>28.38</td>\n",
       "      <td>428.43</td>\n",
       "      <td>105.01</td>\n",
       "      <td>4</td>\n",
       "      <td>4</td>\n",
       "      <td>4</td>\n",
       "      <td>12</td>\n",
       "      <td>3</td>\n",
       "    </tr>\n",
       "    <tr>\n",
       "      <td>239</td>\n",
       "      <td>907224.0</td>\n",
       "      <td>299</td>\n",
       "      <td>81</td>\n",
       "      <td>27.09</td>\n",
       "      <td>342.40</td>\n",
       "      <td>191.04</td>\n",
       "      <td>4</td>\n",
       "      <td>4</td>\n",
       "      <td>4</td>\n",
       "      <td>12</td>\n",
       "      <td>3</td>\n",
       "    </tr>\n",
       "    <tr>\n",
       "      <td>217</td>\n",
       "      <td>906294.0</td>\n",
       "      <td>290</td>\n",
       "      <td>80</td>\n",
       "      <td>27.59</td>\n",
       "      <td>337.06</td>\n",
       "      <td>196.37</td>\n",
       "      <td>4</td>\n",
       "      <td>4</td>\n",
       "      <td>4</td>\n",
       "      <td>12</td>\n",
       "      <td>3</td>\n",
       "    </tr>\n",
       "  </tbody>\n",
       "</table>\n",
       "<p>875 rows × 11 columns</p>\n",
       "</div>"
      ],
      "text/plain": [
       "     operator_id  calls_count  succ_calls  succ_perc  avg_call_duration  \\\n",
       "763     952466.0           42           1       2.38            1098.00   \n",
       "680     945284.0          335           1       0.30            1148.00   \n",
       "694     945318.0          332           1       0.30            1281.00   \n",
       "771     953458.0           38           1       2.63            1327.00   \n",
       "367     919482.0           76           1       1.32            1449.00   \n",
       "..           ...          ...         ...        ...                ...   \n",
       "230     906416.0           77          22      28.57             604.14   \n",
       "467     929876.0           78          24      30.77             428.71   \n",
       "322     917856.0           74          21      28.38             428.43   \n",
       "239     907224.0          299          81      27.09             342.40   \n",
       "217     906294.0          290          80      27.59             337.06   \n",
       "\n",
       "     abs_dist_mean  succ_calls_rank  succ_perc_rank  call_duration_rank  \\\n",
       "763         564.56                1               1                   1   \n",
       "680         614.56                1               1                   1   \n",
       "694         747.56                1               1                   1   \n",
       "771         793.56                1               1                   1   \n",
       "367         915.56                1               1                   1   \n",
       "..             ...              ...             ...                 ...   \n",
       "230          70.70                4               4                   4   \n",
       "467         104.73                4               4                   4   \n",
       "322         105.01                4               4                   4   \n",
       "239         191.04                4               4                   4   \n",
       "217         196.37                4               4                   4   \n",
       "\n",
       "     total_rank  rank_group  \n",
       "763           3           1  \n",
       "680           3           1  \n",
       "694           3           1  \n",
       "771           3           1  \n",
       "367           3           1  \n",
       "..          ...         ...  \n",
       "230          12           3  \n",
       "467          12           3  \n",
       "322          12           3  \n",
       "239          12           3  \n",
       "217          12           3  \n",
       "\n",
       "[875 rows x 11 columns]"
      ]
     },
     "execution_count": 68,
     "metadata": {},
     "output_type": "execute_result"
    }
   ],
   "source": [
    "# Set default values for groups\n",
    "Q = 4\n",
    "RANGE_ASC = range(1, Q +  1)\n",
    "RANGE_DESC = range(Q, 0, -1)\n",
    "\n",
    "# Rank number of successful calls\n",
    "out_data_grouped = out_data_grouped.sort_values(by='succ_calls')\n",
    "out_data_grouped['succ_calls_rank'] = pd.qcut(out_data_grouped['succ_calls'], Q , labels=RANGE_ASC).astype('int')\n",
    "\n",
    "# Rank percent of successful calls\n",
    "out_data_grouped = out_data_grouped.sort_values(by='succ_perc')\n",
    "out_data_grouped['succ_perc_rank'] = pd.qcut(out_data_grouped['succ_perc'], Q , labels=RANGE_ASC).astype('int')\n",
    "\n",
    "# Rank average time call\n",
    "out_data_grouped = out_data_grouped.sort_values(by='abs_dist_mean')\n",
    "out_data_grouped['call_duration_rank'] = pd.qcut(out_data_grouped['abs_dist_mean'], Q , labels=RANGE_DESC).astype('int')\n",
    "\n",
    "out_data_grouped['total_rank'] = out_data_grouped.succ_calls_rank + out_data_grouped.succ_perc_rank + out_data_grouped.call_duration_rank\n",
    "\n",
    "#out_data_grouped['avg_rank'] = round((out_data_grouped.succ_calls_rank\n",
    "#                                        + out_data_grouped.succ_perc_rank + \n",
    "#                                        out_data_grouped.call_duration_rank) / 3)\n",
    "\n",
    "out_data_grouped['rank_group'] = out_data_grouped['total_rank'].apply(oper_rank)\n",
    "\n",
    "out_data_grouped = out_data_grouped.sort_values(by=['total_rank', 'rank_group'])\n",
    "out_data_grouped"
   ]
  },
  {
   "cell_type": "markdown",
   "metadata": {},
   "source": [
    "### Done!"
   ]
  },
  {
   "cell_type": "markdown",
   "metadata": {},
   "source": [
    "### Define operators that receive calls ('in' direction)"
   ]
  },
  {
   "cell_type": "code",
   "execution_count": 69,
   "metadata": {},
   "outputs": [],
   "source": [
    "in_data = data.query('direction == \"in\"')"
   ]
  },
  {
   "cell_type": "code",
   "execution_count": 70,
   "metadata": {},
   "outputs": [
    {
     "data": {
      "text/html": [
       "<div>\n",
       "<style scoped>\n",
       "    .dataframe tbody tr th:only-of-type {\n",
       "        vertical-align: middle;\n",
       "    }\n",
       "\n",
       "    .dataframe tbody tr th {\n",
       "        vertical-align: top;\n",
       "    }\n",
       "\n",
       "    .dataframe thead th {\n",
       "        text-align: right;\n",
       "    }\n",
       "</style>\n",
       "<table border=\"1\" class=\"dataframe\">\n",
       "  <thead>\n",
       "    <tr style=\"text-align: right;\">\n",
       "      <th></th>\n",
       "      <th>operator_id</th>\n",
       "      <th>calls_count</th>\n",
       "      <th>succ_calls</th>\n",
       "      <th>missed_calls</th>\n",
       "      <th>miss_perc</th>\n",
       "    </tr>\n",
       "  </thead>\n",
       "  <tbody>\n",
       "    <tr>\n",
       "      <td>0</td>\n",
       "      <td>1.0</td>\n",
       "      <td>32140</td>\n",
       "      <td>42</td>\n",
       "      <td>32098</td>\n",
       "      <td>99.87</td>\n",
       "    </tr>\n",
       "    <tr>\n",
       "      <td>1</td>\n",
       "      <td>879896.0</td>\n",
       "      <td>58</td>\n",
       "      <td>21</td>\n",
       "      <td>37</td>\n",
       "      <td>63.79</td>\n",
       "    </tr>\n",
       "    <tr>\n",
       "      <td>2</td>\n",
       "      <td>879898.0</td>\n",
       "      <td>102</td>\n",
       "      <td>55</td>\n",
       "      <td>47</td>\n",
       "      <td>46.08</td>\n",
       "    </tr>\n",
       "    <tr>\n",
       "      <td>3</td>\n",
       "      <td>880020.0</td>\n",
       "      <td>7</td>\n",
       "      <td>7</td>\n",
       "      <td>0</td>\n",
       "      <td>0.00</td>\n",
       "    </tr>\n",
       "    <tr>\n",
       "      <td>4</td>\n",
       "      <td>880022.0</td>\n",
       "      <td>8</td>\n",
       "      <td>8</td>\n",
       "      <td>0</td>\n",
       "      <td>0.00</td>\n",
       "    </tr>\n",
       "  </tbody>\n",
       "</table>\n",
       "</div>"
      ],
      "text/plain": [
       "   operator_id  calls_count  succ_calls  missed_calls  miss_perc\n",
       "0          1.0        32140          42         32098      99.87\n",
       "1     879896.0           58          21            37      63.79\n",
       "2     879898.0          102          55            47      46.08\n",
       "3     880020.0            7           7             0       0.00\n",
       "4     880022.0            8           8             0       0.00"
      ]
     },
     "execution_count": 70,
     "metadata": {},
     "output_type": "execute_result"
    }
   ],
   "source": [
    "# Calculate number of missed calls & percent of missed\n",
    "in_data_calls = in_data.groupby('operator_id').agg({'calls_count': 'sum','succ_calls': 'sum', \n",
    "                                                    'missed_calls': 'sum'}).reset_index()\n",
    "in_data_calls['miss_perc'] = round(in_data_calls.missed_calls / in_data_calls.calls_count * 100, 2)\n",
    "in_data_calls.head()"
   ]
  },
  {
   "cell_type": "code",
   "execution_count": 71,
   "metadata": {},
   "outputs": [
    {
     "data": {
      "text/html": [
       "<div>\n",
       "<style scoped>\n",
       "    .dataframe tbody tr th:only-of-type {\n",
       "        vertical-align: middle;\n",
       "    }\n",
       "\n",
       "    .dataframe tbody tr th {\n",
       "        vertical-align: top;\n",
       "    }\n",
       "\n",
       "    .dataframe thead th {\n",
       "        text-align: right;\n",
       "    }\n",
       "</style>\n",
       "<table border=\"1\" class=\"dataframe\">\n",
       "  <thead>\n",
       "    <tr style=\"text-align: right;\">\n",
       "      <th></th>\n",
       "      <th>operator_id</th>\n",
       "      <th>avg_wait_duration</th>\n",
       "    </tr>\n",
       "  </thead>\n",
       "  <tbody>\n",
       "    <tr>\n",
       "      <td>0</td>\n",
       "      <td>1.0</td>\n",
       "      <td>22.690476</td>\n",
       "    </tr>\n",
       "    <tr>\n",
       "      <td>1</td>\n",
       "      <td>879896.0</td>\n",
       "      <td>27.333333</td>\n",
       "    </tr>\n",
       "    <tr>\n",
       "      <td>2</td>\n",
       "      <td>879898.0</td>\n",
       "      <td>30.200000</td>\n",
       "    </tr>\n",
       "    <tr>\n",
       "      <td>3</td>\n",
       "      <td>880020.0</td>\n",
       "      <td>7.714286</td>\n",
       "    </tr>\n",
       "    <tr>\n",
       "      <td>4</td>\n",
       "      <td>880022.0</td>\n",
       "      <td>14.000000</td>\n",
       "    </tr>\n",
       "  </tbody>\n",
       "</table>\n",
       "</div>"
      ],
      "text/plain": [
       "   operator_id  avg_wait_duration\n",
       "0          1.0          22.690476\n",
       "1     879896.0          27.333333\n",
       "2     879898.0          30.200000\n",
       "3     880020.0           7.714286\n",
       "4     880022.0          14.000000"
      ]
     },
     "execution_count": 71,
     "metadata": {},
     "output_type": "execute_result"
    }
   ],
   "source": [
    "# Calculate average wait time \n",
    "in_data_time_call = in_data.query('is_missed_call == False').groupby('operator_id').agg({\n",
    "    'wait_duration':  'mean'}).reset_index().rename(columns={'wait_duration': 'avg_wait_duration'})\n",
    "\n",
    "in_data_time_call.head()"
   ]
  },
  {
   "cell_type": "code",
   "execution_count": 72,
   "metadata": {},
   "outputs": [
    {
     "data": {
      "text/html": [
       "<div>\n",
       "<style scoped>\n",
       "    .dataframe tbody tr th:only-of-type {\n",
       "        vertical-align: middle;\n",
       "    }\n",
       "\n",
       "    .dataframe tbody tr th {\n",
       "        vertical-align: top;\n",
       "    }\n",
       "\n",
       "    .dataframe thead th {\n",
       "        text-align: right;\n",
       "    }\n",
       "</style>\n",
       "<table border=\"1\" class=\"dataframe\">\n",
       "  <thead>\n",
       "    <tr style=\"text-align: right;\">\n",
       "      <th></th>\n",
       "      <th>avg_wait_duration</th>\n",
       "    </tr>\n",
       "  </thead>\n",
       "  <tbody>\n",
       "    <tr>\n",
       "      <td>count</td>\n",
       "      <td>747.000000</td>\n",
       "    </tr>\n",
       "    <tr>\n",
       "      <td>mean</td>\n",
       "      <td>50.161127</td>\n",
       "    </tr>\n",
       "    <tr>\n",
       "      <td>std</td>\n",
       "      <td>67.862003</td>\n",
       "    </tr>\n",
       "    <tr>\n",
       "      <td>min</td>\n",
       "      <td>1.000000</td>\n",
       "    </tr>\n",
       "    <tr>\n",
       "      <td>25%</td>\n",
       "      <td>17.583333</td>\n",
       "    </tr>\n",
       "    <tr>\n",
       "      <td>50%</td>\n",
       "      <td>31.000000</td>\n",
       "    </tr>\n",
       "    <tr>\n",
       "      <td>75%</td>\n",
       "      <td>56.599286</td>\n",
       "    </tr>\n",
       "    <tr>\n",
       "      <td>max</td>\n",
       "      <td>753.100000</td>\n",
       "    </tr>\n",
       "  </tbody>\n",
       "</table>\n",
       "</div>"
      ],
      "text/plain": [
       "       avg_wait_duration\n",
       "count         747.000000\n",
       "mean           50.161127\n",
       "std            67.862003\n",
       "min             1.000000\n",
       "25%            17.583333\n",
       "50%            31.000000\n",
       "75%            56.599286\n",
       "max           753.100000"
      ]
     },
     "execution_count": 72,
     "metadata": {},
     "output_type": "execute_result"
    }
   ],
   "source": [
    "in_data_time_call[['avg_wait_duration']].describe()"
   ]
  },
  {
   "cell_type": "code",
   "execution_count": 73,
   "metadata": {},
   "outputs": [
    {
     "name": "stdout",
     "output_type": "stream",
     "text": [
      "Number of operators that didn't succeed to make a call: 4\n"
     ]
    }
   ],
   "source": [
    "print(\"Number of operators that didn't succeed to make a call:\" , len(in_data_calls) - len(in_data_time_call))"
   ]
  },
  {
   "cell_type": "markdown",
   "metadata": {},
   "source": [
    "### We can see that only 4 operators didn't succeed to make a call\n",
    "Their rank has to be the lowest - so we'll give them the biggest value of wait duration."
   ]
  },
  {
   "cell_type": "code",
   "execution_count": 74,
   "metadata": {},
   "outputs": [
    {
     "data": {
      "text/html": [
       "<div>\n",
       "<style scoped>\n",
       "    .dataframe tbody tr th:only-of-type {\n",
       "        vertical-align: middle;\n",
       "    }\n",
       "\n",
       "    .dataframe tbody tr th {\n",
       "        vertical-align: top;\n",
       "    }\n",
       "\n",
       "    .dataframe thead th {\n",
       "        text-align: right;\n",
       "    }\n",
       "</style>\n",
       "<table border=\"1\" class=\"dataframe\">\n",
       "  <thead>\n",
       "    <tr style=\"text-align: right;\">\n",
       "      <th></th>\n",
       "      <th>operator_id</th>\n",
       "      <th>calls_count</th>\n",
       "      <th>succ_calls</th>\n",
       "      <th>missed_calls</th>\n",
       "      <th>miss_perc</th>\n",
       "      <th>avg_wait_duration</th>\n",
       "    </tr>\n",
       "  </thead>\n",
       "  <tbody>\n",
       "    <tr>\n",
       "      <td>0</td>\n",
       "      <td>1.0</td>\n",
       "      <td>32140</td>\n",
       "      <td>42</td>\n",
       "      <td>32098</td>\n",
       "      <td>99.87</td>\n",
       "      <td>22.69</td>\n",
       "    </tr>\n",
       "    <tr>\n",
       "      <td>1</td>\n",
       "      <td>879896.0</td>\n",
       "      <td>58</td>\n",
       "      <td>21</td>\n",
       "      <td>37</td>\n",
       "      <td>63.79</td>\n",
       "      <td>27.33</td>\n",
       "    </tr>\n",
       "    <tr>\n",
       "      <td>2</td>\n",
       "      <td>879898.0</td>\n",
       "      <td>102</td>\n",
       "      <td>55</td>\n",
       "      <td>47</td>\n",
       "      <td>46.08</td>\n",
       "      <td>30.20</td>\n",
       "    </tr>\n",
       "    <tr>\n",
       "      <td>3</td>\n",
       "      <td>880020.0</td>\n",
       "      <td>7</td>\n",
       "      <td>7</td>\n",
       "      <td>0</td>\n",
       "      <td>0.00</td>\n",
       "      <td>7.71</td>\n",
       "    </tr>\n",
       "    <tr>\n",
       "      <td>4</td>\n",
       "      <td>880022.0</td>\n",
       "      <td>8</td>\n",
       "      <td>8</td>\n",
       "      <td>0</td>\n",
       "      <td>0.00</td>\n",
       "      <td>14.00</td>\n",
       "    </tr>\n",
       "  </tbody>\n",
       "</table>\n",
       "</div>"
      ],
      "text/plain": [
       "   operator_id  calls_count  succ_calls  missed_calls  miss_perc  \\\n",
       "0          1.0        32140          42         32098      99.87   \n",
       "1     879896.0           58          21            37      63.79   \n",
       "2     879898.0          102          55            47      46.08   \n",
       "3     880020.0            7           7             0       0.00   \n",
       "4     880022.0            8           8             0       0.00   \n",
       "\n",
       "   avg_wait_duration  \n",
       "0              22.69  \n",
       "1              27.33  \n",
       "2              30.20  \n",
       "3               7.71  \n",
       "4              14.00  "
      ]
     },
     "execution_count": 74,
     "metadata": {},
     "output_type": "execute_result"
    }
   ],
   "source": [
    "# Merge data of calls & time\n",
    "in_data_grouped  = in_data_calls.merge(in_data_time_call,  on='operator_id', how='left')\n",
    "\n",
    "# Sign for unsuccessful calls = value of 1000\n",
    "in_data_grouped.loc[in_data_grouped['avg_wait_duration'].isnull(), 'avg_wait_duration'] = 1000\n",
    "\n",
    "# Round average wait duration\n",
    "in_data_grouped['avg_wait_duration'] = round(in_data_grouped['avg_wait_duration'] , 2)\n",
    "\n",
    "in_data_grouped.head()"
   ]
  },
  {
   "cell_type": "markdown",
   "metadata": {},
   "source": [
    "### Rank results\n",
    "- succ_calls - the more, the best\n",
    "- miss_perc - the lowest,  the best\n",
    "- avg_wait_duration - the less, the best"
   ]
  },
  {
   "cell_type": "code",
   "execution_count": 75,
   "metadata": {},
   "outputs": [
    {
     "data": {
      "text/html": [
       "<div>\n",
       "<style scoped>\n",
       "    .dataframe tbody tr th:only-of-type {\n",
       "        vertical-align: middle;\n",
       "    }\n",
       "\n",
       "    .dataframe tbody tr th {\n",
       "        vertical-align: top;\n",
       "    }\n",
       "\n",
       "    .dataframe thead th {\n",
       "        text-align: right;\n",
       "    }\n",
       "</style>\n",
       "<table border=\"1\" class=\"dataframe\">\n",
       "  <thead>\n",
       "    <tr style=\"text-align: right;\">\n",
       "      <th></th>\n",
       "      <th>operator_id</th>\n",
       "      <th>calls_count</th>\n",
       "      <th>succ_calls</th>\n",
       "      <th>missed_calls</th>\n",
       "      <th>miss_perc</th>\n",
       "      <th>avg_wait_duration</th>\n",
       "      <th>succ_calls_rank</th>\n",
       "      <th>miss_perc_rank</th>\n",
       "      <th>avg_wait_duration_rank</th>\n",
       "      <th>total_rank</th>\n",
       "      <th>rank_group</th>\n",
       "    </tr>\n",
       "  </thead>\n",
       "  <tbody>\n",
       "    <tr>\n",
       "      <td>678</td>\n",
       "      <td>954086.0</td>\n",
       "      <td>31</td>\n",
       "      <td>1</td>\n",
       "      <td>30</td>\n",
       "      <td>96.77</td>\n",
       "      <td>64.00</td>\n",
       "      <td>1</td>\n",
       "      <td>1</td>\n",
       "      <td>1</td>\n",
       "      <td>3</td>\n",
       "      <td>1</td>\n",
       "    </tr>\n",
       "    <tr>\n",
       "      <td>173</td>\n",
       "      <td>903974.0</td>\n",
       "      <td>10</td>\n",
       "      <td>2</td>\n",
       "      <td>8</td>\n",
       "      <td>80.00</td>\n",
       "      <td>83.50</td>\n",
       "      <td>1</td>\n",
       "      <td>1</td>\n",
       "      <td>1</td>\n",
       "      <td>3</td>\n",
       "      <td>1</td>\n",
       "    </tr>\n",
       "    <tr>\n",
       "      <td>118</td>\n",
       "      <td>898920.0</td>\n",
       "      <td>13</td>\n",
       "      <td>2</td>\n",
       "      <td>11</td>\n",
       "      <td>84.62</td>\n",
       "      <td>97.00</td>\n",
       "      <td>1</td>\n",
       "      <td>1</td>\n",
       "      <td>1</td>\n",
       "      <td>3</td>\n",
       "      <td>1</td>\n",
       "    </tr>\n",
       "    <tr>\n",
       "      <td>111</td>\n",
       "      <td>898414.0</td>\n",
       "      <td>24</td>\n",
       "      <td>2</td>\n",
       "      <td>22</td>\n",
       "      <td>91.67</td>\n",
       "      <td>126.00</td>\n",
       "      <td>1</td>\n",
       "      <td>1</td>\n",
       "      <td>1</td>\n",
       "      <td>3</td>\n",
       "      <td>1</td>\n",
       "    </tr>\n",
       "    <tr>\n",
       "      <td>12</td>\n",
       "      <td>882688.0</td>\n",
       "      <td>15</td>\n",
       "      <td>2</td>\n",
       "      <td>13</td>\n",
       "      <td>86.67</td>\n",
       "      <td>336.50</td>\n",
       "      <td>1</td>\n",
       "      <td>1</td>\n",
       "      <td>1</td>\n",
       "      <td>3</td>\n",
       "      <td>1</td>\n",
       "    </tr>\n",
       "    <tr>\n",
       "      <td>...</td>\n",
       "      <td>...</td>\n",
       "      <td>...</td>\n",
       "      <td>...</td>\n",
       "      <td>...</td>\n",
       "      <td>...</td>\n",
       "      <td>...</td>\n",
       "      <td>...</td>\n",
       "      <td>...</td>\n",
       "      <td>...</td>\n",
       "      <td>...</td>\n",
       "      <td>...</td>\n",
       "    </tr>\n",
       "    <tr>\n",
       "      <td>99</td>\n",
       "      <td>896014.0</td>\n",
       "      <td>14</td>\n",
       "      <td>12</td>\n",
       "      <td>2</td>\n",
       "      <td>14.29</td>\n",
       "      <td>15.75</td>\n",
       "      <td>3</td>\n",
       "      <td>4</td>\n",
       "      <td>4</td>\n",
       "      <td>11</td>\n",
       "      <td>3</td>\n",
       "    </tr>\n",
       "    <tr>\n",
       "      <td>86</td>\n",
       "      <td>895170.0</td>\n",
       "      <td>11</td>\n",
       "      <td>10</td>\n",
       "      <td>1</td>\n",
       "      <td>9.09</td>\n",
       "      <td>16.10</td>\n",
       "      <td>3</td>\n",
       "      <td>4</td>\n",
       "      <td>4</td>\n",
       "      <td>11</td>\n",
       "      <td>3</td>\n",
       "    </tr>\n",
       "    <tr>\n",
       "      <td>132</td>\n",
       "      <td>900492.0</td>\n",
       "      <td>17</td>\n",
       "      <td>14</td>\n",
       "      <td>3</td>\n",
       "      <td>17.65</td>\n",
       "      <td>16.29</td>\n",
       "      <td>3</td>\n",
       "      <td>4</td>\n",
       "      <td>4</td>\n",
       "      <td>11</td>\n",
       "      <td>3</td>\n",
       "    </tr>\n",
       "    <tr>\n",
       "      <td>374</td>\n",
       "      <td>923944.0</td>\n",
       "      <td>40</td>\n",
       "      <td>27</td>\n",
       "      <td>13</td>\n",
       "      <td>32.50</td>\n",
       "      <td>17.37</td>\n",
       "      <td>4</td>\n",
       "      <td>3</td>\n",
       "      <td>4</td>\n",
       "      <td>11</td>\n",
       "      <td>3</td>\n",
       "    </tr>\n",
       "    <tr>\n",
       "      <td>165</td>\n",
       "      <td>902906.0</td>\n",
       "      <td>48</td>\n",
       "      <td>39</td>\n",
       "      <td>9</td>\n",
       "      <td>18.75</td>\n",
       "      <td>21.23</td>\n",
       "      <td>4</td>\n",
       "      <td>4</td>\n",
       "      <td>3</td>\n",
       "      <td>11</td>\n",
       "      <td>3</td>\n",
       "    </tr>\n",
       "  </tbody>\n",
       "</table>\n",
       "<p>751 rows × 11 columns</p>\n",
       "</div>"
      ],
      "text/plain": [
       "     operator_id  calls_count  succ_calls  missed_calls  miss_perc  \\\n",
       "678     954086.0           31           1            30      96.77   \n",
       "173     903974.0           10           2             8      80.00   \n",
       "118     898920.0           13           2            11      84.62   \n",
       "111     898414.0           24           2            22      91.67   \n",
       "12      882688.0           15           2            13      86.67   \n",
       "..           ...          ...         ...           ...        ...   \n",
       "99      896014.0           14          12             2      14.29   \n",
       "86      895170.0           11          10             1       9.09   \n",
       "132     900492.0           17          14             3      17.65   \n",
       "374     923944.0           40          27            13      32.50   \n",
       "165     902906.0           48          39             9      18.75   \n",
       "\n",
       "     avg_wait_duration  succ_calls_rank  miss_perc_rank  \\\n",
       "678              64.00                1               1   \n",
       "173              83.50                1               1   \n",
       "118              97.00                1               1   \n",
       "111             126.00                1               1   \n",
       "12              336.50                1               1   \n",
       "..                 ...              ...             ...   \n",
       "99               15.75                3               4   \n",
       "86               16.10                3               4   \n",
       "132              16.29                3               4   \n",
       "374              17.37                4               3   \n",
       "165              21.23                4               4   \n",
       "\n",
       "     avg_wait_duration_rank  total_rank  rank_group  \n",
       "678                       1           3           1  \n",
       "173                       1           3           1  \n",
       "118                       1           3           1  \n",
       "111                       1           3           1  \n",
       "12                        1           3           1  \n",
       "..                      ...         ...         ...  \n",
       "99                        4          11           3  \n",
       "86                        4          11           3  \n",
       "132                       4          11           3  \n",
       "374                       4          11           3  \n",
       "165                       3          11           3  \n",
       "\n",
       "[751 rows x 11 columns]"
      ]
     },
     "execution_count": 75,
     "metadata": {},
     "output_type": "execute_result"
    }
   ],
   "source": [
    "# Set default values for groups\n",
    "Q = 4\n",
    "RANGE_ASC = range(1, Q +  1)\n",
    "RANGE_DESC = range(Q, 0, -1)\n",
    "\n",
    "# Rank number of successful calls\n",
    "in_data_grouped = in_data_grouped.sort_values(by='succ_calls')\n",
    "in_data_grouped['succ_calls_rank'] = pd.qcut(in_data_grouped['succ_calls'], Q , labels=RANGE_ASC).astype('int')\n",
    "\n",
    "# Rank percent of successful calls\n",
    "in_data_grouped = in_data_grouped.sort_values(by='miss_perc')\n",
    "in_data_grouped['miss_perc_rank'] = pd.qcut(in_data_grouped['miss_perc'], Q , labels=RANGE_DESC).astype('int')\n",
    "\n",
    "# Rank average time call\n",
    "in_data_grouped = in_data_grouped.sort_values(by='avg_wait_duration')\n",
    "in_data_grouped['avg_wait_duration_rank'] = pd.qcut(in_data_grouped['avg_wait_duration'], Q , labels=RANGE_DESC).astype('int')\n",
    "\n",
    "in_data_grouped['total_rank'] = in_data_grouped.succ_calls_rank + in_data_grouped.miss_perc_rank + in_data_grouped.avg_wait_duration_rank\n",
    "\n",
    "#in_data_grouped['avg_rank'] = round((in_data_grouped.succ_calls_rank\n",
    "#                                        + in_data_grouped.miss_perc_rank + \n",
    "#                                        in_data_grouped.avg_wait_duration_rank) / 3)\n",
    "\n",
    "in_data_grouped['rank_group'] = in_data_grouped['total_rank'].apply(oper_rank)\n",
    "\n",
    "in_data_grouped = in_data_grouped.sort_values(by=['total_rank', 'rank_group'])\n",
    "in_data_grouped"
   ]
  },
  {
   "cell_type": "markdown",
   "metadata": {},
   "source": [
    "### Done!"
   ]
  },
  {
   "cell_type": "markdown",
   "metadata": {},
   "source": [
    "#  <a id=\"fourth_step\">  Fourth stage: Test statistical hypotheses </a> \n",
    "<b> <u> Effective operators:</u> group 3 </b>\n",
    "\n",
    "<b> <u> Average operators: </u> group 2  </b>  \n",
    "\n",
    "<b> <u> Ineffective operators: </u> group 1  </b>    "
   ]
  },
  {
   "cell_type": "code",
   "execution_count": 76,
   "metadata": {},
   "outputs": [
    {
     "data": {
      "text/html": [
       "<div>\n",
       "<style scoped>\n",
       "    .dataframe tbody tr th:only-of-type {\n",
       "        vertical-align: middle;\n",
       "    }\n",
       "\n",
       "    .dataframe tbody tr th {\n",
       "        vertical-align: top;\n",
       "    }\n",
       "\n",
       "    .dataframe thead th {\n",
       "        text-align: right;\n",
       "    }\n",
       "</style>\n",
       "<table border=\"1\" class=\"dataframe\">\n",
       "  <thead>\n",
       "    <tr style=\"text-align: right;\">\n",
       "      <th></th>\n",
       "      <th>operator_id</th>\n",
       "      <th>calls_count</th>\n",
       "      <th>succ_calls</th>\n",
       "      <th>missed_calls</th>\n",
       "      <th>miss_perc</th>\n",
       "      <th>avg_wait_duration</th>\n",
       "      <th>succ_calls_rank</th>\n",
       "      <th>miss_perc_rank</th>\n",
       "      <th>avg_wait_duration_rank</th>\n",
       "      <th>total_rank</th>\n",
       "      <th>rank_group</th>\n",
       "    </tr>\n",
       "  </thead>\n",
       "  <tbody>\n",
       "    <tr>\n",
       "      <td>0</td>\n",
       "      <td>1.0</td>\n",
       "      <td>32140</td>\n",
       "      <td>42</td>\n",
       "      <td>32098</td>\n",
       "      <td>99.87</td>\n",
       "      <td>22.69</td>\n",
       "      <td>4</td>\n",
       "      <td>1</td>\n",
       "      <td>3</td>\n",
       "      <td>8</td>\n",
       "      <td>2</td>\n",
       "    </tr>\n",
       "  </tbody>\n",
       "</table>\n",
       "</div>"
      ],
      "text/plain": [
       "   operator_id  calls_count  succ_calls  missed_calls  miss_perc  \\\n",
       "0          1.0        32140          42         32098      99.87   \n",
       "\n",
       "   avg_wait_duration  succ_calls_rank  miss_perc_rank  avg_wait_duration_rank  \\\n",
       "0              22.69                4               1                       3   \n",
       "\n",
       "   total_rank  rank_group  \n",
       "0           8           2  "
      ]
     },
     "execution_count": 76,
     "metadata": {},
     "output_type": "execute_result"
    }
   ],
   "source": [
    "in_data_grouped.query('operator_id  == 1')"
   ]
  },
  {
   "cell_type": "markdown",
   "metadata": {},
   "source": [
    "We can see that the empty operators are in the average group (rank 2), but their values are outliers. So the best thing to do before using statistics is to drop them out,  they mislead us!"
   ]
  },
  {
   "cell_type": "code",
   "execution_count": 77,
   "metadata": {},
   "outputs": [
    {
     "data": {
      "text/html": [
       "<div>\n",
       "<style scoped>\n",
       "    .dataframe tbody tr th:only-of-type {\n",
       "        vertical-align: middle;\n",
       "    }\n",
       "\n",
       "    .dataframe tbody tr th {\n",
       "        vertical-align: top;\n",
       "    }\n",
       "\n",
       "    .dataframe thead th {\n",
       "        text-align: right;\n",
       "    }\n",
       "</style>\n",
       "<table border=\"1\" class=\"dataframe\">\n",
       "  <thead>\n",
       "    <tr style=\"text-align: right;\">\n",
       "      <th></th>\n",
       "      <th>operator_id</th>\n",
       "      <th>calls_count</th>\n",
       "      <th>succ_calls</th>\n",
       "      <th>succ_perc</th>\n",
       "      <th>avg_call_duration</th>\n",
       "      <th>abs_dist_mean</th>\n",
       "      <th>succ_calls_rank</th>\n",
       "      <th>succ_perc_rank</th>\n",
       "      <th>call_duration_rank</th>\n",
       "      <th>total_rank</th>\n",
       "      <th>rank_group</th>\n",
       "    </tr>\n",
       "  </thead>\n",
       "  <tbody>\n",
       "    <tr>\n",
       "      <td>0</td>\n",
       "      <td>1.0</td>\n",
       "      <td>237</td>\n",
       "      <td>26</td>\n",
       "      <td>10.97</td>\n",
       "      <td>707.38</td>\n",
       "      <td>173.95</td>\n",
       "      <td>4</td>\n",
       "      <td>2</td>\n",
       "      <td>4</td>\n",
       "      <td>10</td>\n",
       "      <td>3</td>\n",
       "    </tr>\n",
       "  </tbody>\n",
       "</table>\n",
       "</div>"
      ],
      "text/plain": [
       "   operator_id  calls_count  succ_calls  succ_perc  avg_call_duration  \\\n",
       "0          1.0          237          26      10.97             707.38   \n",
       "\n",
       "   abs_dist_mean  succ_calls_rank  succ_perc_rank  call_duration_rank  \\\n",
       "0         173.95                4               2                   4   \n",
       "\n",
       "   total_rank  rank_group  \n",
       "0          10           3  "
      ]
     },
     "execution_count": 77,
     "metadata": {},
     "output_type": "execute_result"
    }
   ],
   "source": [
    "out_data_grouped.query('operator_id  == 1')"
   ]
  },
  {
   "cell_type": "markdown",
   "metadata": {},
   "source": [
    "We can see that the empty operators are in the effective group- and their values are normal and not outliers. So we can keep them  in."
   ]
  },
  {
   "cell_type": "code",
   "execution_count": 78,
   "metadata": {},
   "outputs": [],
   "source": [
    "# Define effective & ineffective operators that receive calls.\n",
    "incoming_effective = in_data_grouped.query('rank_group == 3')\n",
    "incoming_average = in_data_grouped.query('rank_group == 2')\n",
    "incoming_ineffective = in_data_grouped.query('rank_group == 1')\n",
    "\n",
    "# Define effective & ineffective operators that make calls.\n",
    "outgoing_effective = out_data_grouped.query('rank_group == 3')\n",
    "outgoing_average = out_data_grouped.query('rank_group == 2')\n",
    "outgoing_ineffective = out_data_grouped.query('rank_group == 1')\n"
   ]
  },
  {
   "cell_type": "markdown",
   "metadata": {},
   "source": [
    "### 1) Difference between the average incoming calls waiting time of effective and ineffective operators."
   ]
  },
  {
   "cell_type": "code",
   "execution_count": 79,
   "metadata": {},
   "outputs": [
    {
     "data": {
      "text/html": [
       "<div>\n",
       "<style scoped>\n",
       "    .dataframe tbody tr th:only-of-type {\n",
       "        vertical-align: middle;\n",
       "    }\n",
       "\n",
       "    .dataframe tbody tr th {\n",
       "        vertical-align: top;\n",
       "    }\n",
       "\n",
       "    .dataframe thead th {\n",
       "        text-align: right;\n",
       "    }\n",
       "</style>\n",
       "<table border=\"1\" class=\"dataframe\">\n",
       "  <thead>\n",
       "    <tr style=\"text-align: right;\">\n",
       "      <th></th>\n",
       "      <th>avg_wait_duration</th>\n",
       "    </tr>\n",
       "  </thead>\n",
       "  <tbody>\n",
       "    <tr>\n",
       "      <td>count</td>\n",
       "      <td>78.000000</td>\n",
       "    </tr>\n",
       "    <tr>\n",
       "      <td>mean</td>\n",
       "      <td>15.136667</td>\n",
       "    </tr>\n",
       "    <tr>\n",
       "      <td>std</td>\n",
       "      <td>6.348018</td>\n",
       "    </tr>\n",
       "    <tr>\n",
       "      <td>min</td>\n",
       "      <td>2.570000</td>\n",
       "    </tr>\n",
       "    <tr>\n",
       "      <td>25%</td>\n",
       "      <td>11.000000</td>\n",
       "    </tr>\n",
       "    <tr>\n",
       "      <td>50%</td>\n",
       "      <td>14.490000</td>\n",
       "    </tr>\n",
       "    <tr>\n",
       "      <td>75%</td>\n",
       "      <td>17.340000</td>\n",
       "    </tr>\n",
       "    <tr>\n",
       "      <td>max</td>\n",
       "      <td>30.860000</td>\n",
       "    </tr>\n",
       "  </tbody>\n",
       "</table>\n",
       "</div>"
      ],
      "text/plain": [
       "       avg_wait_duration\n",
       "count          78.000000\n",
       "mean           15.136667\n",
       "std             6.348018\n",
       "min             2.570000\n",
       "25%            11.000000\n",
       "50%            14.490000\n",
       "75%            17.340000\n",
       "max            30.860000"
      ]
     },
     "execution_count": 79,
     "metadata": {},
     "output_type": "execute_result"
    }
   ],
   "source": [
    "# Looking at effective operators' waiting distribution\n",
    "incoming_effective[['avg_wait_duration']].describe()"
   ]
  },
  {
   "cell_type": "code",
   "execution_count": 80,
   "metadata": {},
   "outputs": [
    {
     "data": {
      "image/png": "[encoded data removed]",
      "text/plain": [
       "<Figure size 432x288 with 1 Axes>"
      ]
     },
     "metadata": {
      "needs_background": "light"
     },
     "output_type": "display_data"
    }
   ],
   "source": [
    "incoming_effective[['avg_wait_duration']].hist()\n",
    "plt.show()"
   ]
  },
  {
   "cell_type": "code",
   "execution_count": 81,
   "metadata": {},
   "outputs": [
    {
     "data": {
      "text/html": [
       "<div>\n",
       "<style scoped>\n",
       "    .dataframe tbody tr th:only-of-type {\n",
       "        vertical-align: middle;\n",
       "    }\n",
       "\n",
       "    .dataframe tbody tr th {\n",
       "        vertical-align: top;\n",
       "    }\n",
       "\n",
       "    .dataframe thead th {\n",
       "        text-align: right;\n",
       "    }\n",
       "</style>\n",
       "<table border=\"1\" class=\"dataframe\">\n",
       "  <thead>\n",
       "    <tr style=\"text-align: right;\">\n",
       "      <th></th>\n",
       "      <th>avg_wait_duration</th>\n",
       "    </tr>\n",
       "  </thead>\n",
       "  <tbody>\n",
       "    <tr>\n",
       "      <td>count</td>\n",
       "      <td>97.000000</td>\n",
       "    </tr>\n",
       "    <tr>\n",
       "      <td>mean</td>\n",
       "      <td>107.378144</td>\n",
       "    </tr>\n",
       "    <tr>\n",
       "      <td>std</td>\n",
       "      <td>110.089654</td>\n",
       "    </tr>\n",
       "    <tr>\n",
       "      <td>min</td>\n",
       "      <td>20.000000</td>\n",
       "    </tr>\n",
       "    <tr>\n",
       "      <td>25%</td>\n",
       "      <td>54.000000</td>\n",
       "    </tr>\n",
       "    <tr>\n",
       "      <td>50%</td>\n",
       "      <td>78.000000</td>\n",
       "    </tr>\n",
       "    <tr>\n",
       "      <td>75%</td>\n",
       "      <td>108.430000</td>\n",
       "    </tr>\n",
       "    <tr>\n",
       "      <td>max</td>\n",
       "      <td>753.100000</td>\n",
       "    </tr>\n",
       "  </tbody>\n",
       "</table>\n",
       "</div>"
      ],
      "text/plain": [
       "       avg_wait_duration\n",
       "count          97.000000\n",
       "mean          107.378144\n",
       "std           110.089654\n",
       "min            20.000000\n",
       "25%            54.000000\n",
       "50%            78.000000\n",
       "75%           108.430000\n",
       "max           753.100000"
      ]
     },
     "execution_count": 81,
     "metadata": {},
     "output_type": "execute_result"
    }
   ],
   "source": [
    "# Looking at ineffective operators' waiting distribution, without empties that we marked with '1000' value\n",
    "incoming_ineffective.query('avg_wait_duration != 1000')[['avg_wait_duration']].describe()"
   ]
  },
  {
   "cell_type": "code",
   "execution_count": 82,
   "metadata": {},
   "outputs": [
    {
     "data": {
      "image/png": "[encoded data removed]",
      "text/plain": [
       "<Figure size 432x288 with 1 Axes>"
      ]
     },
     "metadata": {
      "needs_background": "light"
     },
     "output_type": "display_data"
    }
   ],
   "source": [
    "incoming_ineffective.query('avg_wait_duration != 1000')[['avg_wait_duration']].hist()\n",
    "plt.show()"
   ]
  },
  {
   "cell_type": "markdown",
   "metadata": {},
   "source": [
    "### The data isn't distributed normally, so we'll use Mann-Whitney test"
   ]
  },
  {
   "cell_type": "code",
   "execution_count": 83,
   "metadata": {},
   "outputs": [
    {
     "name": "stdout",
     "output_type": "stream",
     "text": [
      "Effective operators wait duration - Operators: 78 | Wait Average: 15.14 | Std: 6.35 \n",
      "\n",
      "Ineffective operators wait duration - Operators: 97 | Wait Average: 107.38 | Std: 110.09 \n",
      "\n",
      "P value is: 0.00000 \n",
      "\n",
      "Null hypothesis is rejectd: There is a significant difference between the operators waiting duration!\n"
     ]
    }
   ],
   "source": [
    "# Build samples\n",
    "effective_wait = incoming_effective['avg_wait_duration']\n",
    "ineffective_wait = incoming_ineffective.query('avg_wait_duration != 1000')['avg_wait_duration']\n",
    "\n",
    "# General stats\n",
    "print('Effective operators wait duration - Operators: {} | Wait Average: {:.2f} | Std: {:.2f} \\n'.format(\n",
    "                                                                       effective_wait.count(),\n",
    "                                                                       effective_wait.mean(),\n",
    "                                                                       effective_wait.std()))\n",
    "\n",
    "print('Ineffective operators wait duration - Operators: {} | Wait Average: {:.2f} | Std: {:.2f} \\n'.format(\n",
    "                                                                       ineffective_wait.count(),\n",
    "                                                                       ineffective_wait.mean(),\n",
    "                                                                       ineffective_wait.std()))\n",
    "\n",
    "alpha = 0.05\n",
    "p_value = st.mannwhitneyu(effective_wait, ineffective_wait)[1]\n",
    "\n",
    "print('P value is: {0:.5f} \\n'.format(p_value))\n",
    "if p_value < alpha:\n",
    "    print('Null hypothesis is rejectd: There is a significant difference between the operators waiting duration!')\n",
    "else:\n",
    "    print('Failed to reject the null hypothesis: We cannot say that there is a significant difference between the operators!')"
   ]
  },
  {
   "cell_type": "markdown",
   "metadata": {},
   "source": [
    "### 2) Difference between the proportions of missed incoming calls of effective and ineffective operators.\n",
    "Using Z-test"
   ]
  },
  {
   "cell_type": "code",
   "execution_count": 84,
   "metadata": {},
   "outputs": [
    {
     "data": {
      "text/html": [
       "<div>\n",
       "<style scoped>\n",
       "    .dataframe tbody tr th:only-of-type {\n",
       "        vertical-align: middle;\n",
       "    }\n",
       "\n",
       "    .dataframe tbody tr th {\n",
       "        vertical-align: top;\n",
       "    }\n",
       "\n",
       "    .dataframe thead th {\n",
       "        text-align: right;\n",
       "    }\n",
       "</style>\n",
       "<table border=\"1\" class=\"dataframe\">\n",
       "  <thead>\n",
       "    <tr style=\"text-align: right;\">\n",
       "      <th></th>\n",
       "      <th>operator_id</th>\n",
       "      <th>calls_count</th>\n",
       "      <th>succ_calls</th>\n",
       "      <th>missed_calls</th>\n",
       "      <th>miss_perc</th>\n",
       "      <th>avg_wait_duration</th>\n",
       "      <th>succ_calls_rank</th>\n",
       "      <th>miss_perc_rank</th>\n",
       "      <th>avg_wait_duration_rank</th>\n",
       "      <th>total_rank</th>\n",
       "      <th>rank_group</th>\n",
       "    </tr>\n",
       "  </thead>\n",
       "  <tbody>\n",
       "    <tr>\n",
       "      <td>678</td>\n",
       "      <td>954086.0</td>\n",
       "      <td>31</td>\n",
       "      <td>1</td>\n",
       "      <td>30</td>\n",
       "      <td>96.77</td>\n",
       "      <td>64.00</td>\n",
       "      <td>1</td>\n",
       "      <td>1</td>\n",
       "      <td>1</td>\n",
       "      <td>3</td>\n",
       "      <td>1</td>\n",
       "    </tr>\n",
       "    <tr>\n",
       "      <td>173</td>\n",
       "      <td>903974.0</td>\n",
       "      <td>10</td>\n",
       "      <td>2</td>\n",
       "      <td>8</td>\n",
       "      <td>80.00</td>\n",
       "      <td>83.50</td>\n",
       "      <td>1</td>\n",
       "      <td>1</td>\n",
       "      <td>1</td>\n",
       "      <td>3</td>\n",
       "      <td>1</td>\n",
       "    </tr>\n",
       "    <tr>\n",
       "      <td>118</td>\n",
       "      <td>898920.0</td>\n",
       "      <td>13</td>\n",
       "      <td>2</td>\n",
       "      <td>11</td>\n",
       "      <td>84.62</td>\n",
       "      <td>97.00</td>\n",
       "      <td>1</td>\n",
       "      <td>1</td>\n",
       "      <td>1</td>\n",
       "      <td>3</td>\n",
       "      <td>1</td>\n",
       "    </tr>\n",
       "    <tr>\n",
       "      <td>111</td>\n",
       "      <td>898414.0</td>\n",
       "      <td>24</td>\n",
       "      <td>2</td>\n",
       "      <td>22</td>\n",
       "      <td>91.67</td>\n",
       "      <td>126.00</td>\n",
       "      <td>1</td>\n",
       "      <td>1</td>\n",
       "      <td>1</td>\n",
       "      <td>3</td>\n",
       "      <td>1</td>\n",
       "    </tr>\n",
       "    <tr>\n",
       "      <td>12</td>\n",
       "      <td>882688.0</td>\n",
       "      <td>15</td>\n",
       "      <td>2</td>\n",
       "      <td>13</td>\n",
       "      <td>86.67</td>\n",
       "      <td>336.50</td>\n",
       "      <td>1</td>\n",
       "      <td>1</td>\n",
       "      <td>1</td>\n",
       "      <td>3</td>\n",
       "      <td>1</td>\n",
       "    </tr>\n",
       "    <tr>\n",
       "      <td>...</td>\n",
       "      <td>...</td>\n",
       "      <td>...</td>\n",
       "      <td>...</td>\n",
       "      <td>...</td>\n",
       "      <td>...</td>\n",
       "      <td>...</td>\n",
       "      <td>...</td>\n",
       "      <td>...</td>\n",
       "      <td>...</td>\n",
       "      <td>...</td>\n",
       "      <td>...</td>\n",
       "    </tr>\n",
       "    <tr>\n",
       "      <td>99</td>\n",
       "      <td>896014.0</td>\n",
       "      <td>14</td>\n",
       "      <td>12</td>\n",
       "      <td>2</td>\n",
       "      <td>14.29</td>\n",
       "      <td>15.75</td>\n",
       "      <td>3</td>\n",
       "      <td>4</td>\n",
       "      <td>4</td>\n",
       "      <td>11</td>\n",
       "      <td>3</td>\n",
       "    </tr>\n",
       "    <tr>\n",
       "      <td>86</td>\n",
       "      <td>895170.0</td>\n",
       "      <td>11</td>\n",
       "      <td>10</td>\n",
       "      <td>1</td>\n",
       "      <td>9.09</td>\n",
       "      <td>16.10</td>\n",
       "      <td>3</td>\n",
       "      <td>4</td>\n",
       "      <td>4</td>\n",
       "      <td>11</td>\n",
       "      <td>3</td>\n",
       "    </tr>\n",
       "    <tr>\n",
       "      <td>132</td>\n",
       "      <td>900492.0</td>\n",
       "      <td>17</td>\n",
       "      <td>14</td>\n",
       "      <td>3</td>\n",
       "      <td>17.65</td>\n",
       "      <td>16.29</td>\n",
       "      <td>3</td>\n",
       "      <td>4</td>\n",
       "      <td>4</td>\n",
       "      <td>11</td>\n",
       "      <td>3</td>\n",
       "    </tr>\n",
       "    <tr>\n",
       "      <td>374</td>\n",
       "      <td>923944.0</td>\n",
       "      <td>40</td>\n",
       "      <td>27</td>\n",
       "      <td>13</td>\n",
       "      <td>32.50</td>\n",
       "      <td>17.37</td>\n",
       "      <td>4</td>\n",
       "      <td>3</td>\n",
       "      <td>4</td>\n",
       "      <td>11</td>\n",
       "      <td>3</td>\n",
       "    </tr>\n",
       "    <tr>\n",
       "      <td>165</td>\n",
       "      <td>902906.0</td>\n",
       "      <td>48</td>\n",
       "      <td>39</td>\n",
       "      <td>9</td>\n",
       "      <td>18.75</td>\n",
       "      <td>21.23</td>\n",
       "      <td>4</td>\n",
       "      <td>4</td>\n",
       "      <td>3</td>\n",
       "      <td>11</td>\n",
       "      <td>3</td>\n",
       "    </tr>\n",
       "  </tbody>\n",
       "</table>\n",
       "<p>751 rows × 11 columns</p>\n",
       "</div>"
      ],
      "text/plain": [
       "     operator_id  calls_count  succ_calls  missed_calls  miss_perc  \\\n",
       "678     954086.0           31           1            30      96.77   \n",
       "173     903974.0           10           2             8      80.00   \n",
       "118     898920.0           13           2            11      84.62   \n",
       "111     898414.0           24           2            22      91.67   \n",
       "12      882688.0           15           2            13      86.67   \n",
       "..           ...          ...         ...           ...        ...   \n",
       "99      896014.0           14          12             2      14.29   \n",
       "86      895170.0           11          10             1       9.09   \n",
       "132     900492.0           17          14             3      17.65   \n",
       "374     923944.0           40          27            13      32.50   \n",
       "165     902906.0           48          39             9      18.75   \n",
       "\n",
       "     avg_wait_duration  succ_calls_rank  miss_perc_rank  \\\n",
       "678              64.00                1               1   \n",
       "173              83.50                1               1   \n",
       "118              97.00                1               1   \n",
       "111             126.00                1               1   \n",
       "12              336.50                1               1   \n",
       "..                 ...              ...             ...   \n",
       "99               15.75                3               4   \n",
       "86               16.10                3               4   \n",
       "132              16.29                3               4   \n",
       "374              17.37                4               3   \n",
       "165              21.23                4               4   \n",
       "\n",
       "     avg_wait_duration_rank  total_rank  rank_group  \n",
       "678                       1           3           1  \n",
       "173                       1           3           1  \n",
       "118                       1           3           1  \n",
       "111                       1           3           1  \n",
       "12                        1           3           1  \n",
       "..                      ...         ...         ...  \n",
       "99                        4          11           3  \n",
       "86                        4          11           3  \n",
       "132                       4          11           3  \n",
       "374                       4          11           3  \n",
       "165                       3          11           3  \n",
       "\n",
       "[751 rows x 11 columns]"
      ]
     },
     "execution_count": 84,
     "metadata": {},
     "output_type": "execute_result"
    }
   ],
   "source": [
    "in_data_grouped"
   ]
  },
  {
   "cell_type": "code",
   "execution_count": 85,
   "metadata": {},
   "outputs": [
    {
     "name": "stdout",
     "output_type": "stream",
     "text": [
      "Effective group: Number of operators: 78 | missed calls: 672 | total calls: 1854  | Proportion: 36.246% \n",
      "\n",
      "Inffective group: Number of operators: 101 | missed calls: 5210 | total calls: 5862  | Proportion: 88.878% \n",
      "\n",
      "H0: There is no significant difference between the proportions of the groups.\n",
      "\n",
      "H1: There is significant difference between the proportions of the groups. \n",
      "\n",
      "Alpha level: 0.05 \n",
      "\n",
      "RESULTS: p-value: 0.00000 \n",
      "\n",
      "Rejecting the null hypothesis: there is a significant difference between the proportions\n"
     ]
    }
   ],
   "source": [
    "# group 1 = ineffective\n",
    "# group 3 = effective\n",
    "\n",
    "# Number of missed_calls per group\n",
    "sucesses1 = in_data_grouped.query('rank_group == 1').missed_calls.sum()\n",
    "sucesses3 = in_data_grouped.query('rank_group == 3').missed_calls.sum()\n",
    "sucessesCombined = sucesses1 + sucesses3\n",
    "    \n",
    "# Number of total_calls per group\n",
    "trials1 = in_data_grouped.query('rank_group == 1').calls_count.sum()\n",
    "trials3 = in_data_grouped.query('rank_group == 3').calls_count.sum()\n",
    "trialsCombined = trials1 + trials3\n",
    "    \n",
    "# Share of missed incoming calls per group\n",
    "p1 = sucesses1 / trials1\n",
    "p3 = sucesses3 / trials3\n",
    "pCombined = sucessesCombined / trialsCombined\n",
    "    \n",
    "difference = p1 - p3 \n",
    "distr = st.norm(0, 1)\n",
    "    \n",
    "z_value = difference / math.sqrt(pCombined * (1 - pCombined) * (1/trials1 + 1/trials3))\n",
    "p_value = (1 - distr.cdf(abs(z_value))) * 2\n",
    "alpha =  0.05\n",
    "    \n",
    "print('Effective group: Number of operators: {} | missed calls: {} | total calls: {}  | Proportion: {:.3%} \\n'.format(\n",
    "        len(in_data_grouped.query('rank_group == 3')),\n",
    "        sucesses3, \n",
    "        trials3,\n",
    "        p3))\n",
    "\n",
    "print('Inffective group: Number of operators: {} | missed calls: {} | total calls: {}  | Proportion: {:.3%} \\n'.format(\n",
    "        len(in_data_grouped.query('rank_group == 1')),\n",
    "        sucesses1, \n",
    "        trials1,\n",
    "        p1))\n",
    "\n",
    "print('H0: There is no significant difference between the proportions of the groups.\\n')\n",
    "print('H1: There is significant difference between the proportions of the groups. \\n')\n",
    "print('Alpha level: {} \\n'.format(alpha))\n",
    "print('RESULTS: p-value: {:.5f} \\n'.format(p_value))\n",
    "if (p_value < alpha):\n",
    "    print(\"Rejecting the null hypothesis: there is a significant difference between the proportions\")\n",
    "else:\n",
    "    print(\"Failed to reject the null hypothesis: there is no reason to consider the proportions different\") "
   ]
  },
  {
   "cell_type": "markdown",
   "metadata": {},
   "source": [
    "### 3) Difference between the average number of outgoing calls of effective and ineffective operators. "
   ]
  },
  {
   "cell_type": "code",
   "execution_count": 86,
   "metadata": {},
   "outputs": [
    {
     "data": {
      "text/html": [
       "<div>\n",
       "<style scoped>\n",
       "    .dataframe tbody tr th:only-of-type {\n",
       "        vertical-align: middle;\n",
       "    }\n",
       "\n",
       "    .dataframe tbody tr th {\n",
       "        vertical-align: top;\n",
       "    }\n",
       "\n",
       "    .dataframe thead th {\n",
       "        text-align: right;\n",
       "    }\n",
       "</style>\n",
       "<table border=\"1\" class=\"dataframe\">\n",
       "  <thead>\n",
       "    <tr style=\"text-align: right;\">\n",
       "      <th></th>\n",
       "      <th>operator_id</th>\n",
       "      <th>calls_count</th>\n",
       "      <th>succ_calls</th>\n",
       "      <th>succ_perc</th>\n",
       "      <th>avg_call_duration</th>\n",
       "      <th>abs_dist_mean</th>\n",
       "      <th>succ_calls_rank</th>\n",
       "      <th>succ_perc_rank</th>\n",
       "      <th>call_duration_rank</th>\n",
       "      <th>total_rank</th>\n",
       "      <th>rank_group</th>\n",
       "    </tr>\n",
       "  </thead>\n",
       "  <tbody>\n",
       "    <tr>\n",
       "      <td>763</td>\n",
       "      <td>952466.0</td>\n",
       "      <td>42</td>\n",
       "      <td>1</td>\n",
       "      <td>2.38</td>\n",
       "      <td>1098.00</td>\n",
       "      <td>564.56</td>\n",
       "      <td>1</td>\n",
       "      <td>1</td>\n",
       "      <td>1</td>\n",
       "      <td>3</td>\n",
       "      <td>1</td>\n",
       "    </tr>\n",
       "    <tr>\n",
       "      <td>680</td>\n",
       "      <td>945284.0</td>\n",
       "      <td>335</td>\n",
       "      <td>1</td>\n",
       "      <td>0.30</td>\n",
       "      <td>1148.00</td>\n",
       "      <td>614.56</td>\n",
       "      <td>1</td>\n",
       "      <td>1</td>\n",
       "      <td>1</td>\n",
       "      <td>3</td>\n",
       "      <td>1</td>\n",
       "    </tr>\n",
       "    <tr>\n",
       "      <td>694</td>\n",
       "      <td>945318.0</td>\n",
       "      <td>332</td>\n",
       "      <td>1</td>\n",
       "      <td>0.30</td>\n",
       "      <td>1281.00</td>\n",
       "      <td>747.56</td>\n",
       "      <td>1</td>\n",
       "      <td>1</td>\n",
       "      <td>1</td>\n",
       "      <td>3</td>\n",
       "      <td>1</td>\n",
       "    </tr>\n",
       "    <tr>\n",
       "      <td>771</td>\n",
       "      <td>953458.0</td>\n",
       "      <td>38</td>\n",
       "      <td>1</td>\n",
       "      <td>2.63</td>\n",
       "      <td>1327.00</td>\n",
       "      <td>793.56</td>\n",
       "      <td>1</td>\n",
       "      <td>1</td>\n",
       "      <td>1</td>\n",
       "      <td>3</td>\n",
       "      <td>1</td>\n",
       "    </tr>\n",
       "    <tr>\n",
       "      <td>367</td>\n",
       "      <td>919482.0</td>\n",
       "      <td>76</td>\n",
       "      <td>1</td>\n",
       "      <td>1.32</td>\n",
       "      <td>1449.00</td>\n",
       "      <td>915.56</td>\n",
       "      <td>1</td>\n",
       "      <td>1</td>\n",
       "      <td>1</td>\n",
       "      <td>3</td>\n",
       "      <td>1</td>\n",
       "    </tr>\n",
       "    <tr>\n",
       "      <td>...</td>\n",
       "      <td>...</td>\n",
       "      <td>...</td>\n",
       "      <td>...</td>\n",
       "      <td>...</td>\n",
       "      <td>...</td>\n",
       "      <td>...</td>\n",
       "      <td>...</td>\n",
       "      <td>...</td>\n",
       "      <td>...</td>\n",
       "      <td>...</td>\n",
       "      <td>...</td>\n",
       "    </tr>\n",
       "    <tr>\n",
       "      <td>230</td>\n",
       "      <td>906416.0</td>\n",
       "      <td>77</td>\n",
       "      <td>22</td>\n",
       "      <td>28.57</td>\n",
       "      <td>604.14</td>\n",
       "      <td>70.70</td>\n",
       "      <td>4</td>\n",
       "      <td>4</td>\n",
       "      <td>4</td>\n",
       "      <td>12</td>\n",
       "      <td>3</td>\n",
       "    </tr>\n",
       "    <tr>\n",
       "      <td>467</td>\n",
       "      <td>929876.0</td>\n",
       "      <td>78</td>\n",
       "      <td>24</td>\n",
       "      <td>30.77</td>\n",
       "      <td>428.71</td>\n",
       "      <td>104.73</td>\n",
       "      <td>4</td>\n",
       "      <td>4</td>\n",
       "      <td>4</td>\n",
       "      <td>12</td>\n",
       "      <td>3</td>\n",
       "    </tr>\n",
       "    <tr>\n",
       "      <td>322</td>\n",
       "      <td>917856.0</td>\n",
       "      <td>74</td>\n",
       "      <td>21</td>\n",
       "      <td>28.38</td>\n",
       "      <td>428.43</td>\n",
       "      <td>105.01</td>\n",
       "      <td>4</td>\n",
       "      <td>4</td>\n",
       "      <td>4</td>\n",
       "      <td>12</td>\n",
       "      <td>3</td>\n",
       "    </tr>\n",
       "    <tr>\n",
       "      <td>239</td>\n",
       "      <td>907224.0</td>\n",
       "      <td>299</td>\n",
       "      <td>81</td>\n",
       "      <td>27.09</td>\n",
       "      <td>342.40</td>\n",
       "      <td>191.04</td>\n",
       "      <td>4</td>\n",
       "      <td>4</td>\n",
       "      <td>4</td>\n",
       "      <td>12</td>\n",
       "      <td>3</td>\n",
       "    </tr>\n",
       "    <tr>\n",
       "      <td>217</td>\n",
       "      <td>906294.0</td>\n",
       "      <td>290</td>\n",
       "      <td>80</td>\n",
       "      <td>27.59</td>\n",
       "      <td>337.06</td>\n",
       "      <td>196.37</td>\n",
       "      <td>4</td>\n",
       "      <td>4</td>\n",
       "      <td>4</td>\n",
       "      <td>12</td>\n",
       "      <td>3</td>\n",
       "    </tr>\n",
       "  </tbody>\n",
       "</table>\n",
       "<p>875 rows × 11 columns</p>\n",
       "</div>"
      ],
      "text/plain": [
       "     operator_id  calls_count  succ_calls  succ_perc  avg_call_duration  \\\n",
       "763     952466.0           42           1       2.38            1098.00   \n",
       "680     945284.0          335           1       0.30            1148.00   \n",
       "694     945318.0          332           1       0.30            1281.00   \n",
       "771     953458.0           38           1       2.63            1327.00   \n",
       "367     919482.0           76           1       1.32            1449.00   \n",
       "..           ...          ...         ...        ...                ...   \n",
       "230     906416.0           77          22      28.57             604.14   \n",
       "467     929876.0           78          24      30.77             428.71   \n",
       "322     917856.0           74          21      28.38             428.43   \n",
       "239     907224.0          299          81      27.09             342.40   \n",
       "217     906294.0          290          80      27.59             337.06   \n",
       "\n",
       "     abs_dist_mean  succ_calls_rank  succ_perc_rank  call_duration_rank  \\\n",
       "763         564.56                1               1                   1   \n",
       "680         614.56                1               1                   1   \n",
       "694         747.56                1               1                   1   \n",
       "771         793.56                1               1                   1   \n",
       "367         915.56                1               1                   1   \n",
       "..             ...              ...             ...                 ...   \n",
       "230          70.70                4               4                   4   \n",
       "467         104.73                4               4                   4   \n",
       "322         105.01                4               4                   4   \n",
       "239         191.04                4               4                   4   \n",
       "217         196.37                4               4                   4   \n",
       "\n",
       "     total_rank  rank_group  \n",
       "763           3           1  \n",
       "680           3           1  \n",
       "694           3           1  \n",
       "771           3           1  \n",
       "367           3           1  \n",
       "..          ...         ...  \n",
       "230          12           3  \n",
       "467          12           3  \n",
       "322          12           3  \n",
       "239          12           3  \n",
       "217          12           3  \n",
       "\n",
       "[875 rows x 11 columns]"
      ]
     },
     "execution_count": 86,
     "metadata": {},
     "output_type": "execute_result"
    }
   ],
   "source": [
    "out_data_grouped"
   ]
  },
  {
   "cell_type": "code",
   "execution_count": 87,
   "metadata": {},
   "outputs": [
    {
     "data": {
      "text/html": [
       "<div>\n",
       "<style scoped>\n",
       "    .dataframe tbody tr th:only-of-type {\n",
       "        vertical-align: middle;\n",
       "    }\n",
       "\n",
       "    .dataframe tbody tr th {\n",
       "        vertical-align: top;\n",
       "    }\n",
       "\n",
       "    .dataframe thead th {\n",
       "        text-align: right;\n",
       "    }\n",
       "</style>\n",
       "<table border=\"1\" class=\"dataframe\">\n",
       "  <thead>\n",
       "    <tr style=\"text-align: right;\">\n",
       "      <th></th>\n",
       "      <th>calls_count</th>\n",
       "    </tr>\n",
       "  </thead>\n",
       "  <tbody>\n",
       "    <tr>\n",
       "      <td>count</td>\n",
       "      <td>213.000000</td>\n",
       "    </tr>\n",
       "    <tr>\n",
       "      <td>mean</td>\n",
       "      <td>229.131455</td>\n",
       "    </tr>\n",
       "    <tr>\n",
       "      <td>std</td>\n",
       "      <td>264.999220</td>\n",
       "    </tr>\n",
       "    <tr>\n",
       "      <td>min</td>\n",
       "      <td>5.000000</td>\n",
       "    </tr>\n",
       "    <tr>\n",
       "      <td>25%</td>\n",
       "      <td>62.000000</td>\n",
       "    </tr>\n",
       "    <tr>\n",
       "      <td>50%</td>\n",
       "      <td>157.000000</td>\n",
       "    </tr>\n",
       "    <tr>\n",
       "      <td>75%</td>\n",
       "      <td>271.000000</td>\n",
       "    </tr>\n",
       "    <tr>\n",
       "      <td>max</td>\n",
       "      <td>1742.000000</td>\n",
       "    </tr>\n",
       "  </tbody>\n",
       "</table>\n",
       "</div>"
      ],
      "text/plain": [
       "       calls_count\n",
       "count   213.000000\n",
       "mean    229.131455\n",
       "std     264.999220\n",
       "min       5.000000\n",
       "25%      62.000000\n",
       "50%     157.000000\n",
       "75%     271.000000\n",
       "max    1742.000000"
      ]
     },
     "execution_count": 87,
     "metadata": {},
     "output_type": "execute_result"
    }
   ],
   "source": [
    "# Looking at effective operators' calls distribution\n",
    "outgoing_effective[['calls_count']].describe()"
   ]
  },
  {
   "cell_type": "code",
   "execution_count": 88,
   "metadata": {},
   "outputs": [
    {
     "data": {
      "image/png": "[encoded data removed]",
      "text/plain": [
       "<Figure size 432x288 with 1 Axes>"
      ]
     },
     "metadata": {
      "needs_background": "light"
     },
     "output_type": "display_data"
    }
   ],
   "source": [
    "outgoing_effective[['calls_count']].hist()\n",
    "plt.show()"
   ]
  },
  {
   "cell_type": "code",
   "execution_count": 89,
   "metadata": {},
   "outputs": [
    {
     "data": {
      "text/html": [
       "<div>\n",
       "<style scoped>\n",
       "    .dataframe tbody tr th:only-of-type {\n",
       "        vertical-align: middle;\n",
       "    }\n",
       "\n",
       "    .dataframe tbody tr th {\n",
       "        vertical-align: top;\n",
       "    }\n",
       "\n",
       "    .dataframe thead th {\n",
       "        text-align: right;\n",
       "    }\n",
       "</style>\n",
       "<table border=\"1\" class=\"dataframe\">\n",
       "  <thead>\n",
       "    <tr style=\"text-align: right;\">\n",
       "      <th></th>\n",
       "      <th>calls_count</th>\n",
       "    </tr>\n",
       "  </thead>\n",
       "  <tbody>\n",
       "    <tr>\n",
       "      <td>count</td>\n",
       "      <td>200.000000</td>\n",
       "    </tr>\n",
       "    <tr>\n",
       "      <td>mean</td>\n",
       "      <td>108.845000</td>\n",
       "    </tr>\n",
       "    <tr>\n",
       "      <td>std</td>\n",
       "      <td>171.235008</td>\n",
       "    </tr>\n",
       "    <tr>\n",
       "      <td>min</td>\n",
       "      <td>1.000000</td>\n",
       "    </tr>\n",
       "    <tr>\n",
       "      <td>25%</td>\n",
       "      <td>2.000000</td>\n",
       "    </tr>\n",
       "    <tr>\n",
       "      <td>50%</td>\n",
       "      <td>30.500000</td>\n",
       "    </tr>\n",
       "    <tr>\n",
       "      <td>75%</td>\n",
       "      <td>134.500000</td>\n",
       "    </tr>\n",
       "    <tr>\n",
       "      <td>max</td>\n",
       "      <td>984.000000</td>\n",
       "    </tr>\n",
       "  </tbody>\n",
       "</table>\n",
       "</div>"
      ],
      "text/plain": [
       "       calls_count\n",
       "count   200.000000\n",
       "mean    108.845000\n",
       "std     171.235008\n",
       "min       1.000000\n",
       "25%       2.000000\n",
       "50%      30.500000\n",
       "75%     134.500000\n",
       "max     984.000000"
      ]
     },
     "execution_count": 89,
     "metadata": {},
     "output_type": "execute_result"
    }
   ],
   "source": [
    "# Looking at effective operators' calls distribution\n",
    "outgoing_ineffective[['calls_count']].describe()"
   ]
  },
  {
   "cell_type": "code",
   "execution_count": 90,
   "metadata": {},
   "outputs": [
    {
     "data": {
      "image/png": "[encoded data removed]",
      "text/plain": [
       "<Figure size 432x288 with 1 Axes>"
      ]
     },
     "metadata": {
      "needs_background": "light"
     },
     "output_type": "display_data"
    }
   ],
   "source": [
    "outgoing_ineffective[['calls_count']].hist()\n",
    "plt.show()"
   ]
  },
  {
   "cell_type": "markdown",
   "metadata": {},
   "source": [
    "### The data isn't distributed normally, so we'll use Mann-Whitney test"
   ]
  },
  {
   "cell_type": "code",
   "execution_count": 91,
   "metadata": {},
   "outputs": [
    {
     "name": "stdout",
     "output_type": "stream",
     "text": [
      "Effective operators - Number of operators: 213 | Average number of calls: 229.13 | Std: 265.00 \n",
      "\n",
      "Ineffective operators - Number of operators: 200 | Average number of calls: 108.84 | Std: 171.24 \n",
      "\n",
      "P value is: 0.00000 \n",
      "\n",
      "Null hypothesis is rejectd: There is a significant difference between the operators number of calls!\n"
     ]
    }
   ],
   "source": [
    "# Build samples\n",
    "effective_calls = outgoing_effective['calls_count']\n",
    "ineffective_calls = outgoing_ineffective['calls_count']\n",
    "\n",
    "# General stats\n",
    "print('Effective operators - Number of operators: {} | Average number of calls: {:.2f} | Std: {:.2f} \\n'.format(\n",
    "                                                                       effective_calls.count(),\n",
    "                                                                       effective_calls.mean(),\n",
    "                                                                       effective_calls.std()))\n",
    "\n",
    "print('Ineffective operators - Number of operators: {} | Average number of calls: {:.2f} | Std: {:.2f} \\n'.format(\n",
    "                                                                       ineffective_calls.count(),\n",
    "                                                                       ineffective_calls.mean(),\n",
    "                                                                       ineffective_calls.std()))\n",
    "\n",
    "alpha = 0.05\n",
    "p_value = st.mannwhitneyu(effective_calls, ineffective_calls)[1]\n",
    "\n",
    "print('P value is: {0:.5f} \\n'.format(p_value))\n",
    "if p_value < alpha:\n",
    "    print('Null hypothesis is rejectd: There is a significant difference between the operators number of calls!')\n",
    "else:\n",
    "    print('Failed to reject the null hypothesis: We cannot say that there is a significant difference between the operators!')"
   ]
  },
  {
   "cell_type": "markdown",
   "metadata": {},
   "source": [
    "### Statistic  tests conclusion - there is a significant difference between the effective and the ineffective operators!"
   ]
  },
  {
   "cell_type": "markdown",
   "metadata": {},
   "source": [
    "##  Setting data to Tableau"
   ]
  },
  {
   "cell_type": "code",
   "execution_count": 92,
   "metadata": {},
   "outputs": [
    {
     "data": {
      "text/html": [
       "<div>\n",
       "<style scoped>\n",
       "    .dataframe tbody tr th:only-of-type {\n",
       "        vertical-align: middle;\n",
       "    }\n",
       "\n",
       "    .dataframe tbody tr th {\n",
       "        vertical-align: top;\n",
       "    }\n",
       "\n",
       "    .dataframe thead th {\n",
       "        text-align: right;\n",
       "    }\n",
       "</style>\n",
       "<table border=\"1\" class=\"dataframe\">\n",
       "  <thead>\n",
       "    <tr style=\"text-align: right;\">\n",
       "      <th></th>\n",
       "      <th>operator_id</th>\n",
       "      <th>direction</th>\n",
       "      <th>calls_count</th>\n",
       "      <th>succ_calls</th>\n",
       "      <th>missed_calls</th>\n",
       "      <th>succ_perc</th>\n",
       "      <th>miss_perc</th>\n",
       "      <th>avg_wait_duration</th>\n",
       "      <th>rank_group</th>\n",
       "    </tr>\n",
       "  </thead>\n",
       "  <tbody>\n",
       "    <tr>\n",
       "      <td>763</td>\n",
       "      <td>952466.0</td>\n",
       "      <td>out</td>\n",
       "      <td>42</td>\n",
       "      <td>1</td>\n",
       "      <td>41</td>\n",
       "      <td>2.38</td>\n",
       "      <td>97.62</td>\n",
       "      <td>-1</td>\n",
       "      <td>1</td>\n",
       "    </tr>\n",
       "    <tr>\n",
       "      <td>680</td>\n",
       "      <td>945284.0</td>\n",
       "      <td>out</td>\n",
       "      <td>335</td>\n",
       "      <td>1</td>\n",
       "      <td>334</td>\n",
       "      <td>0.30</td>\n",
       "      <td>99.70</td>\n",
       "      <td>-1</td>\n",
       "      <td>1</td>\n",
       "    </tr>\n",
       "    <tr>\n",
       "      <td>694</td>\n",
       "      <td>945318.0</td>\n",
       "      <td>out</td>\n",
       "      <td>332</td>\n",
       "      <td>1</td>\n",
       "      <td>331</td>\n",
       "      <td>0.30</td>\n",
       "      <td>99.70</td>\n",
       "      <td>-1</td>\n",
       "      <td>1</td>\n",
       "    </tr>\n",
       "    <tr>\n",
       "      <td>771</td>\n",
       "      <td>953458.0</td>\n",
       "      <td>out</td>\n",
       "      <td>38</td>\n",
       "      <td>1</td>\n",
       "      <td>37</td>\n",
       "      <td>2.63</td>\n",
       "      <td>97.37</td>\n",
       "      <td>-1</td>\n",
       "      <td>1</td>\n",
       "    </tr>\n",
       "    <tr>\n",
       "      <td>367</td>\n",
       "      <td>919482.0</td>\n",
       "      <td>out</td>\n",
       "      <td>76</td>\n",
       "      <td>1</td>\n",
       "      <td>75</td>\n",
       "      <td>1.32</td>\n",
       "      <td>98.68</td>\n",
       "      <td>-1</td>\n",
       "      <td>1</td>\n",
       "    </tr>\n",
       "  </tbody>\n",
       "</table>\n",
       "</div>"
      ],
      "text/plain": [
       "     operator_id direction  calls_count  succ_calls  missed_calls  succ_perc  \\\n",
       "763     952466.0       out           42           1            41       2.38   \n",
       "680     945284.0       out          335           1           334       0.30   \n",
       "694     945318.0       out          332           1           331       0.30   \n",
       "771     953458.0       out           38           1            37       2.63   \n",
       "367     919482.0       out           76           1            75       1.32   \n",
       "\n",
       "     miss_perc  avg_wait_duration  rank_group  \n",
       "763      97.62                 -1           1  \n",
       "680      99.70                 -1           1  \n",
       "694      99.70                 -1           1  \n",
       "771      97.37                 -1           1  \n",
       "367      98.68                 -1           1  "
      ]
     },
     "execution_count": 92,
     "metadata": {},
     "output_type": "execute_result"
    }
   ],
   "source": [
    "# Adding columns for united pattern\n",
    "out_data_grouped['direction'] = 'out'\n",
    "out_data_grouped['missed_calls'] = out_data_grouped['calls_count'] - out_data_grouped['succ_calls']\n",
    "out_data_grouped['miss_perc'] = round(out_data_grouped['missed_calls'] / out_data_grouped['calls_count'] * 100 , 2)\n",
    "out_data_grouped['avg_wait_duration'] = -1\n",
    "\n",
    "# Define 'out' operators\n",
    "out_tabl = out_data_grouped[['operator_id', 'direction', 'calls_count', 'succ_calls', 'missed_calls',  'succ_perc', 'miss_perc', \n",
    "             'avg_wait_duration', 'rank_group']]\n",
    "out_tabl.head()"
   ]
  },
  {
   "cell_type": "code",
   "execution_count": 93,
   "metadata": {},
   "outputs": [
    {
     "data": {
      "text/html": [
       "<div>\n",
       "<style scoped>\n",
       "    .dataframe tbody tr th:only-of-type {\n",
       "        vertical-align: middle;\n",
       "    }\n",
       "\n",
       "    .dataframe tbody tr th {\n",
       "        vertical-align: top;\n",
       "    }\n",
       "\n",
       "    .dataframe thead th {\n",
       "        text-align: right;\n",
       "    }\n",
       "</style>\n",
       "<table border=\"1\" class=\"dataframe\">\n",
       "  <thead>\n",
       "    <tr style=\"text-align: right;\">\n",
       "      <th></th>\n",
       "      <th>operator_id</th>\n",
       "      <th>direction</th>\n",
       "      <th>calls_count</th>\n",
       "      <th>succ_calls</th>\n",
       "      <th>missed_calls</th>\n",
       "      <th>succ_perc</th>\n",
       "      <th>miss_perc</th>\n",
       "      <th>avg_wait_duration</th>\n",
       "      <th>rank_group</th>\n",
       "    </tr>\n",
       "  </thead>\n",
       "  <tbody>\n",
       "    <tr>\n",
       "      <td>678</td>\n",
       "      <td>954086.0</td>\n",
       "      <td>in</td>\n",
       "      <td>31</td>\n",
       "      <td>1</td>\n",
       "      <td>30</td>\n",
       "      <td>3.23</td>\n",
       "      <td>96.77</td>\n",
       "      <td>64.0</td>\n",
       "      <td>1</td>\n",
       "    </tr>\n",
       "    <tr>\n",
       "      <td>173</td>\n",
       "      <td>903974.0</td>\n",
       "      <td>in</td>\n",
       "      <td>10</td>\n",
       "      <td>2</td>\n",
       "      <td>8</td>\n",
       "      <td>20.00</td>\n",
       "      <td>80.00</td>\n",
       "      <td>83.5</td>\n",
       "      <td>1</td>\n",
       "    </tr>\n",
       "    <tr>\n",
       "      <td>118</td>\n",
       "      <td>898920.0</td>\n",
       "      <td>in</td>\n",
       "      <td>13</td>\n",
       "      <td>2</td>\n",
       "      <td>11</td>\n",
       "      <td>15.38</td>\n",
       "      <td>84.62</td>\n",
       "      <td>97.0</td>\n",
       "      <td>1</td>\n",
       "    </tr>\n",
       "    <tr>\n",
       "      <td>111</td>\n",
       "      <td>898414.0</td>\n",
       "      <td>in</td>\n",
       "      <td>24</td>\n",
       "      <td>2</td>\n",
       "      <td>22</td>\n",
       "      <td>8.33</td>\n",
       "      <td>91.67</td>\n",
       "      <td>126.0</td>\n",
       "      <td>1</td>\n",
       "    </tr>\n",
       "    <tr>\n",
       "      <td>12</td>\n",
       "      <td>882688.0</td>\n",
       "      <td>in</td>\n",
       "      <td>15</td>\n",
       "      <td>2</td>\n",
       "      <td>13</td>\n",
       "      <td>13.33</td>\n",
       "      <td>86.67</td>\n",
       "      <td>336.5</td>\n",
       "      <td>1</td>\n",
       "    </tr>\n",
       "  </tbody>\n",
       "</table>\n",
       "</div>"
      ],
      "text/plain": [
       "     operator_id direction  calls_count  succ_calls  missed_calls  succ_perc  \\\n",
       "678     954086.0        in           31           1            30       3.23   \n",
       "173     903974.0        in           10           2             8      20.00   \n",
       "118     898920.0        in           13           2            11      15.38   \n",
       "111     898414.0        in           24           2            22       8.33   \n",
       "12      882688.0        in           15           2            13      13.33   \n",
       "\n",
       "     miss_perc  avg_wait_duration  rank_group  \n",
       "678      96.77               64.0           1  \n",
       "173      80.00               83.5           1  \n",
       "118      84.62               97.0           1  \n",
       "111      91.67              126.0           1  \n",
       "12       86.67              336.5           1  "
      ]
     },
     "execution_count": 93,
     "metadata": {},
     "output_type": "execute_result"
    }
   ],
   "source": [
    "# Adding columns for united pattern\n",
    "in_data_grouped['direction'] = 'in'\n",
    "in_data_grouped['succ_perc'] = round(in_data_grouped['succ_calls'] / in_data_grouped['calls_count'] * 100 , 2)\n",
    "\n",
    "# Define 'in' operators\n",
    "in_tabl = in_data_grouped[['operator_id', 'direction', 'calls_count', 'succ_calls', 'missed_calls',\n",
    "       'succ_perc', 'miss_perc', 'avg_wait_duration', 'rank_group']]\n",
    "in_tabl.head()"
   ]
  },
  {
   "cell_type": "code",
   "execution_count": 94,
   "metadata": {},
   "outputs": [
    {
     "name": "stdout",
     "output_type": "stream",
     "text": [
      "<class 'pandas.core.frame.DataFrame'>\n",
      "Int64Index: 1630 entries, 0 to 1629\n",
      "Data columns (total 10 columns):\n",
      "operator_id          1630 non-null float64\n",
      "direction            1630 non-null object\n",
      "calls_count          1630 non-null int64\n",
      "succ_calls           1630 non-null int64\n",
      "missed_calls         1630 non-null int64\n",
      "succ_perc            1630 non-null float64\n",
      "miss_perc            1630 non-null float64\n",
      "avg_wait_duration    1630 non-null float64\n",
      "rank_group           1630 non-null int64\n",
      "tariff_plan          1630 non-null category\n",
      "dtypes: category(1), float64(4), int64(4), object(1)\n",
      "memory usage: 129.0+ KB\n"
     ]
    }
   ],
   "source": [
    "# Join the dataframes to one \n",
    "tableau = pd.concat([in_tabl, out_tabl], axis=0)\n",
    "tableau = tableau.merge(data[['operator_id', 'tariff_plan']].drop_duplicates(), on='operator_id', how='inner'\n",
    "                       ).query('rank_group in (1, 2, 3)')\n",
    "tableau.info()"
   ]
  },
  {
   "cell_type": "code",
   "execution_count": 95,
   "metadata": {},
   "outputs": [
    {
     "data": {
      "text/html": [
       "<div>\n",
       "<style scoped>\n",
       "    .dataframe tbody tr th:only-of-type {\n",
       "        vertical-align: middle;\n",
       "    }\n",
       "\n",
       "    .dataframe tbody tr th {\n",
       "        vertical-align: top;\n",
       "    }\n",
       "\n",
       "    .dataframe thead th {\n",
       "        text-align: right;\n",
       "    }\n",
       "</style>\n",
       "<table border=\"1\" class=\"dataframe\">\n",
       "  <thead>\n",
       "    <tr style=\"text-align: right;\">\n",
       "      <th></th>\n",
       "      <th>operator_id</th>\n",
       "      <th>direction</th>\n",
       "      <th>calls_count</th>\n",
       "      <th>succ_calls</th>\n",
       "      <th>missed_calls</th>\n",
       "      <th>succ_perc</th>\n",
       "      <th>miss_perc</th>\n",
       "      <th>avg_wait_duration</th>\n",
       "      <th>rank_group</th>\n",
       "      <th>tariff_plan</th>\n",
       "    </tr>\n",
       "  </thead>\n",
       "  <tbody>\n",
       "    <tr>\n",
       "      <td>0</td>\n",
       "      <td>954086.0</td>\n",
       "      <td>in</td>\n",
       "      <td>31</td>\n",
       "      <td>1</td>\n",
       "      <td>30</td>\n",
       "      <td>3.23</td>\n",
       "      <td>96.77</td>\n",
       "      <td>64.0</td>\n",
       "      <td>1</td>\n",
       "      <td>C</td>\n",
       "    </tr>\n",
       "    <tr>\n",
       "      <td>1</td>\n",
       "      <td>954086.0</td>\n",
       "      <td>out</td>\n",
       "      <td>1</td>\n",
       "      <td>1</td>\n",
       "      <td>0</td>\n",
       "      <td>100.00</td>\n",
       "      <td>0.00</td>\n",
       "      <td>-1.0</td>\n",
       "      <td>2</td>\n",
       "      <td>C</td>\n",
       "    </tr>\n",
       "    <tr>\n",
       "      <td>2</td>\n",
       "      <td>903974.0</td>\n",
       "      <td>in</td>\n",
       "      <td>10</td>\n",
       "      <td>2</td>\n",
       "      <td>8</td>\n",
       "      <td>20.00</td>\n",
       "      <td>80.00</td>\n",
       "      <td>83.5</td>\n",
       "      <td>1</td>\n",
       "      <td>C</td>\n",
       "    </tr>\n",
       "    <tr>\n",
       "      <td>3</td>\n",
       "      <td>898920.0</td>\n",
       "      <td>in</td>\n",
       "      <td>13</td>\n",
       "      <td>2</td>\n",
       "      <td>11</td>\n",
       "      <td>15.38</td>\n",
       "      <td>84.62</td>\n",
       "      <td>97.0</td>\n",
       "      <td>1</td>\n",
       "      <td>B</td>\n",
       "    </tr>\n",
       "    <tr>\n",
       "      <td>4</td>\n",
       "      <td>898920.0</td>\n",
       "      <td>out</td>\n",
       "      <td>37</td>\n",
       "      <td>2</td>\n",
       "      <td>35</td>\n",
       "      <td>5.41</td>\n",
       "      <td>94.59</td>\n",
       "      <td>-1.0</td>\n",
       "      <td>1</td>\n",
       "      <td>B</td>\n",
       "    </tr>\n",
       "  </tbody>\n",
       "</table>\n",
       "</div>"
      ],
      "text/plain": [
       "   operator_id direction  calls_count  succ_calls  missed_calls  succ_perc  \\\n",
       "0     954086.0        in           31           1            30       3.23   \n",
       "1     954086.0       out            1           1             0     100.00   \n",
       "2     903974.0        in           10           2             8      20.00   \n",
       "3     898920.0        in           13           2            11      15.38   \n",
       "4     898920.0       out           37           2            35       5.41   \n",
       "\n",
       "   miss_perc  avg_wait_duration  rank_group tariff_plan  \n",
       "0      96.77               64.0           1           C  \n",
       "1       0.00               -1.0           2           C  \n",
       "2      80.00               83.5           1           C  \n",
       "3      84.62               97.0           1           B  \n",
       "4      94.59               -1.0           1           B  "
      ]
     },
     "execution_count": 95,
     "metadata": {},
     "output_type": "execute_result"
    }
   ],
   "source": [
    "# tableau.to_csv(r'C:\\Users\\ron\\Desktop\\final_project\\operators.csv', index=False)\n",
    "tableau.head()"
   ]
  },
  {
   "cell_type": "markdown",
   "metadata": {},
   "source": [
    "## The end !\n",
    "## Link to Presentation <a href=\"https://drive.google.com/file/d/1S6UsYyt30D7H4Lwqzy_HsxKT_BzJdir_/view?usp=sharing\"> Here </a>\n",
    "## Link to Tableau dashboard  <a href=\"https://public.tableau.com/profile/ron.sherwi#!/vizhome/OperatorsBehavior/Dashboard?publish=yes\"> Here </a>"
   ]
  }
 ],
 "metadata": {
  "kernelspec": {
   "display_name": "Python 3",
   "language": "python",
   "name": "python3"
  },
  "language_info": {
   "codemirror_mode": {
    "name": "ipython",
    "version": 3
   },
   "file_extension": ".py",
   "mimetype": "text/x-python",
   "name": "python",
   "nbconvert_exporter": "python",
   "pygments_lexer": "ipython3",
   "version": "3.8.5"
  }
 },
 "nbformat": 4,
 "nbformat_minor": 2
}
